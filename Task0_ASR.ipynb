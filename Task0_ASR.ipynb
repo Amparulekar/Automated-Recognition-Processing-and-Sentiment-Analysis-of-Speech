{
  "nbformat": 4,
  "nbformat_minor": 0,
  "metadata": {
    "colab": {
      "provenance": []
    },
    "kernelspec": {
      "name": "python3",
      "display_name": "Python 3"
    },
    "language_info": {
      "name": "python"
    },
    "accelerator": "GPU",
    "gpuClass": "standard",
    "widgets": {
      "application/vnd.jupyter.widget-state+json": {
        "a3ee0f18e7654f0eaf49d7fe29f8daec": {
          "model_module": "@jupyter-widgets/controls",
          "model_name": "HBoxModel",
          "model_module_version": "1.5.0",
          "state": {
            "_dom_classes": [],
            "_model_module": "@jupyter-widgets/controls",
            "_model_module_version": "1.5.0",
            "_model_name": "HBoxModel",
            "_view_count": null,
            "_view_module": "@jupyter-widgets/controls",
            "_view_module_version": "1.5.0",
            "_view_name": "HBoxView",
            "box_style": "",
            "children": [
              "IPY_MODEL_db9061f43acd4a3289cb4dee6b6b6321",
              "IPY_MODEL_07200ffe173c490c86e32b6db7302a03",
              "IPY_MODEL_2a7ef0500ac54454ae950d92c40a7031"
            ],
            "layout": "IPY_MODEL_ac13b64f01fe4a05ba3a06d4ab3672e7"
          }
        },
        "db9061f43acd4a3289cb4dee6b6b6321": {
          "model_module": "@jupyter-widgets/controls",
          "model_name": "HTMLModel",
          "model_module_version": "1.5.0",
          "state": {
            "_dom_classes": [],
            "_model_module": "@jupyter-widgets/controls",
            "_model_module_version": "1.5.0",
            "_model_name": "HTMLModel",
            "_view_count": null,
            "_view_module": "@jupyter-widgets/controls",
            "_view_module_version": "1.5.0",
            "_view_name": "HTMLView",
            "description": "",
            "description_tooltip": null,
            "layout": "IPY_MODEL_44d475730280421b8ba250ed16916add",
            "placeholder": "​",
            "style": "IPY_MODEL_4e964cbf14de4788aa56d115c9076afa",
            "value": "100%"
          }
        },
        "07200ffe173c490c86e32b6db7302a03": {
          "model_module": "@jupyter-widgets/controls",
          "model_name": "FloatProgressModel",
          "model_module_version": "1.5.0",
          "state": {
            "_dom_classes": [],
            "_model_module": "@jupyter-widgets/controls",
            "_model_module_version": "1.5.0",
            "_model_name": "FloatProgressModel",
            "_view_count": null,
            "_view_module": "@jupyter-widgets/controls",
            "_view_module_version": "1.5.0",
            "_view_name": "ProgressView",
            "bar_style": "success",
            "description": "",
            "description_tooltip": null,
            "layout": "IPY_MODEL_298b752e21b84e55a128f9b2dd7438be",
            "max": 2428923189,
            "min": 0,
            "orientation": "horizontal",
            "style": "IPY_MODEL_514674a0efda49dc9e19b7f3613d4f84",
            "value": 2428923189
          }
        },
        "2a7ef0500ac54454ae950d92c40a7031": {
          "model_module": "@jupyter-widgets/controls",
          "model_name": "HTMLModel",
          "model_module_version": "1.5.0",
          "state": {
            "_dom_classes": [],
            "_model_module": "@jupyter-widgets/controls",
            "_model_module_version": "1.5.0",
            "_model_name": "HTMLModel",
            "_view_count": null,
            "_view_module": "@jupyter-widgets/controls",
            "_view_module_version": "1.5.0",
            "_view_name": "HTMLView",
            "description": "",
            "description_tooltip": null,
            "layout": "IPY_MODEL_4a517786c9334cd9a0113637f88cab40",
            "placeholder": "​",
            "style": "IPY_MODEL_b6093ced133c4f0292b2e25f7e8c5262",
            "value": " 2.26G/2.26G [00:38&lt;00:00, 128MB/s]"
          }
        },
        "ac13b64f01fe4a05ba3a06d4ab3672e7": {
          "model_module": "@jupyter-widgets/base",
          "model_name": "LayoutModel",
          "model_module_version": "1.2.0",
          "state": {
            "_model_module": "@jupyter-widgets/base",
            "_model_module_version": "1.2.0",
            "_model_name": "LayoutModel",
            "_view_count": null,
            "_view_module": "@jupyter-widgets/base",
            "_view_module_version": "1.2.0",
            "_view_name": "LayoutView",
            "align_content": null,
            "align_items": null,
            "align_self": null,
            "border": null,
            "bottom": null,
            "display": null,
            "flex": null,
            "flex_flow": null,
            "grid_area": null,
            "grid_auto_columns": null,
            "grid_auto_flow": null,
            "grid_auto_rows": null,
            "grid_column": null,
            "grid_gap": null,
            "grid_row": null,
            "grid_template_areas": null,
            "grid_template_columns": null,
            "grid_template_rows": null,
            "height": null,
            "justify_content": null,
            "justify_items": null,
            "left": null,
            "margin": null,
            "max_height": null,
            "max_width": null,
            "min_height": null,
            "min_width": null,
            "object_fit": null,
            "object_position": null,
            "order": null,
            "overflow": null,
            "overflow_x": null,
            "overflow_y": null,
            "padding": null,
            "right": null,
            "top": null,
            "visibility": null,
            "width": null
          }
        },
        "44d475730280421b8ba250ed16916add": {
          "model_module": "@jupyter-widgets/base",
          "model_name": "LayoutModel",
          "model_module_version": "1.2.0",
          "state": {
            "_model_module": "@jupyter-widgets/base",
            "_model_module_version": "1.2.0",
            "_model_name": "LayoutModel",
            "_view_count": null,
            "_view_module": "@jupyter-widgets/base",
            "_view_module_version": "1.2.0",
            "_view_name": "LayoutView",
            "align_content": null,
            "align_items": null,
            "align_self": null,
            "border": null,
            "bottom": null,
            "display": null,
            "flex": null,
            "flex_flow": null,
            "grid_area": null,
            "grid_auto_columns": null,
            "grid_auto_flow": null,
            "grid_auto_rows": null,
            "grid_column": null,
            "grid_gap": null,
            "grid_row": null,
            "grid_template_areas": null,
            "grid_template_columns": null,
            "grid_template_rows": null,
            "height": null,
            "justify_content": null,
            "justify_items": null,
            "left": null,
            "margin": null,
            "max_height": null,
            "max_width": null,
            "min_height": null,
            "min_width": null,
            "object_fit": null,
            "object_position": null,
            "order": null,
            "overflow": null,
            "overflow_x": null,
            "overflow_y": null,
            "padding": null,
            "right": null,
            "top": null,
            "visibility": null,
            "width": null
          }
        },
        "4e964cbf14de4788aa56d115c9076afa": {
          "model_module": "@jupyter-widgets/controls",
          "model_name": "DescriptionStyleModel",
          "model_module_version": "1.5.0",
          "state": {
            "_model_module": "@jupyter-widgets/controls",
            "_model_module_version": "1.5.0",
            "_model_name": "DescriptionStyleModel",
            "_view_count": null,
            "_view_module": "@jupyter-widgets/base",
            "_view_module_version": "1.2.0",
            "_view_name": "StyleView",
            "description_width": ""
          }
        },
        "298b752e21b84e55a128f9b2dd7438be": {
          "model_module": "@jupyter-widgets/base",
          "model_name": "LayoutModel",
          "model_module_version": "1.2.0",
          "state": {
            "_model_module": "@jupyter-widgets/base",
            "_model_module_version": "1.2.0",
            "_model_name": "LayoutModel",
            "_view_count": null,
            "_view_module": "@jupyter-widgets/base",
            "_view_module_version": "1.2.0",
            "_view_name": "LayoutView",
            "align_content": null,
            "align_items": null,
            "align_self": null,
            "border": null,
            "bottom": null,
            "display": null,
            "flex": null,
            "flex_flow": null,
            "grid_area": null,
            "grid_auto_columns": null,
            "grid_auto_flow": null,
            "grid_auto_rows": null,
            "grid_column": null,
            "grid_gap": null,
            "grid_row": null,
            "grid_template_areas": null,
            "grid_template_columns": null,
            "grid_template_rows": null,
            "height": null,
            "justify_content": null,
            "justify_items": null,
            "left": null,
            "margin": null,
            "max_height": null,
            "max_width": null,
            "min_height": null,
            "min_width": null,
            "object_fit": null,
            "object_position": null,
            "order": null,
            "overflow": null,
            "overflow_x": null,
            "overflow_y": null,
            "padding": null,
            "right": null,
            "top": null,
            "visibility": null,
            "width": null
          }
        },
        "514674a0efda49dc9e19b7f3613d4f84": {
          "model_module": "@jupyter-widgets/controls",
          "model_name": "ProgressStyleModel",
          "model_module_version": "1.5.0",
          "state": {
            "_model_module": "@jupyter-widgets/controls",
            "_model_module_version": "1.5.0",
            "_model_name": "ProgressStyleModel",
            "_view_count": null,
            "_view_module": "@jupyter-widgets/base",
            "_view_module_version": "1.2.0",
            "_view_name": "StyleView",
            "bar_color": null,
            "description_width": ""
          }
        },
        "4a517786c9334cd9a0113637f88cab40": {
          "model_module": "@jupyter-widgets/base",
          "model_name": "LayoutModel",
          "model_module_version": "1.2.0",
          "state": {
            "_model_module": "@jupyter-widgets/base",
            "_model_module_version": "1.2.0",
            "_model_name": "LayoutModel",
            "_view_count": null,
            "_view_module": "@jupyter-widgets/base",
            "_view_module_version": "1.2.0",
            "_view_name": "LayoutView",
            "align_content": null,
            "align_items": null,
            "align_self": null,
            "border": null,
            "bottom": null,
            "display": null,
            "flex": null,
            "flex_flow": null,
            "grid_area": null,
            "grid_auto_columns": null,
            "grid_auto_flow": null,
            "grid_auto_rows": null,
            "grid_column": null,
            "grid_gap": null,
            "grid_row": null,
            "grid_template_areas": null,
            "grid_template_columns": null,
            "grid_template_rows": null,
            "height": null,
            "justify_content": null,
            "justify_items": null,
            "left": null,
            "margin": null,
            "max_height": null,
            "max_width": null,
            "min_height": null,
            "min_width": null,
            "object_fit": null,
            "object_position": null,
            "order": null,
            "overflow": null,
            "overflow_x": null,
            "overflow_y": null,
            "padding": null,
            "right": null,
            "top": null,
            "visibility": null,
            "width": null
          }
        },
        "b6093ced133c4f0292b2e25f7e8c5262": {
          "model_module": "@jupyter-widgets/controls",
          "model_name": "DescriptionStyleModel",
          "model_module_version": "1.5.0",
          "state": {
            "_model_module": "@jupyter-widgets/controls",
            "_model_module_version": "1.5.0",
            "_model_name": "DescriptionStyleModel",
            "_view_count": null,
            "_view_module": "@jupyter-widgets/base",
            "_view_module_version": "1.2.0",
            "_view_name": "StyleView",
            "description_width": ""
          }
        }
      }
    }
  },
  "cells": [
    {
      "cell_type": "markdown",
      "source": [
        "## Amruta Mahendra Parulekar  20D070009\n",
        "## Keshav Singhal 20D070047\n",
        "## Sameep Chattopadhyay 20d070067"
      ],
      "metadata": {
        "id": "9D2wPM0ER9QG"
      }
    },
    {
      "cell_type": "code",
      "execution_count": null,
      "metadata": {
        "id": "re_Ka4C29fdw"
      },
      "outputs": [],
      "source": [
        "%matplotlib inline"
      ]
    },
    {
      "cell_type": "code",
      "source": [
        "!pip install pydub torch==1.7.0+cu101 torchvision==0.8.1+cu101 torchaudio==0.7.0 -f https://download.pytorch.org/whl/torch_stable.html\n",
        "\n",
        "import torch\n",
        "import torch.nn as nn\n",
        "import torch.nn.functional as F\n",
        "import torch.optim as optim\n",
        "import torchaudio\n",
        "import sys\n",
        "\n",
        "import matplotlib.pyplot as plt\n",
        "import IPython.display as ipd\n",
        "\n",
        "from tqdm import tqdm"
      ],
      "metadata": {
        "colab": {
          "base_uri": "https://localhost:8080/"
        },
        "id": "ZwY9HCIE9pAo",
        "outputId": "0196b6d2-bb8a-4370-879c-0982d7216c72"
      },
      "execution_count": null,
      "outputs": [
        {
          "output_type": "stream",
          "name": "stdout",
          "text": [
            "Looking in indexes: https://pypi.org/simple, https://us-python.pkg.dev/colab-wheels/public/simple/\n",
            "Looking in links: https://download.pytorch.org/whl/torch_stable.html\n",
            "Collecting pydub\n",
            "  Downloading pydub-0.25.1-py2.py3-none-any.whl (32 kB)\n",
            "\u001b[31mERROR: Could not find a version that satisfies the requirement torch==1.7.0+cu101 (from versions: 1.7.1, 1.7.1+cpu, 1.7.1+cu101, 1.7.1+cu110, 1.7.1+cu92, 1.7.1+rocm3.7, 1.7.1+rocm3.8, 1.8.0, 1.8.0+cpu, 1.8.0+cu101, 1.8.0+cu111, 1.8.0+rocm3.10, 1.8.0+rocm4.0.1, 1.8.1, 1.8.1+cpu, 1.8.1+cu101, 1.8.1+cu102, 1.8.1+cu111, 1.8.1+rocm3.10, 1.8.1+rocm4.0.1, 1.9.0, 1.9.0+cpu, 1.9.0+cu102, 1.9.0+cu111, 1.9.0+rocm4.0.1, 1.9.0+rocm4.1, 1.9.0+rocm4.2, 1.9.1, 1.9.1+cpu, 1.9.1+cu102, 1.9.1+cu111, 1.9.1+rocm4.0.1, 1.9.1+rocm4.1, 1.9.1+rocm4.2, 1.10.0, 1.10.0+cpu, 1.10.0+cu102, 1.10.0+cu111, 1.10.0+cu113, 1.10.0+rocm4.0.1, 1.10.0+rocm4.1, 1.10.0+rocm4.2, 1.10.1, 1.10.1+cpu, 1.10.1+cu102, 1.10.1+cu111, 1.10.1+cu113, 1.10.1+rocm4.0.1, 1.10.1+rocm4.1, 1.10.1+rocm4.2, 1.10.2, 1.10.2+cpu, 1.10.2+cu102, 1.10.2+cu111, 1.10.2+cu113, 1.10.2+rocm4.0.1, 1.10.2+rocm4.1, 1.10.2+rocm4.2, 1.11.0, 1.11.0+cpu, 1.11.0+cu102, 1.11.0+cu113, 1.11.0+cu115, 1.11.0+rocm4.3.1, 1.11.0+rocm4.5.2, 1.12.0, 1.12.0+cpu, 1.12.0+cu102, 1.12.0+cu113, 1.12.0+cu116, 1.12.0+rocm5.0, 1.12.0+rocm5.1.1, 1.12.1, 1.12.1+cpu, 1.12.1+cu102, 1.12.1+cu113, 1.12.1+cu116, 1.12.1+rocm5.0, 1.12.1+rocm5.1.1, 1.13.0, 1.13.0+cpu, 1.13.0+cu116, 1.13.0+cu117, 1.13.0+cu117.with.pypi.cudnn, 1.13.0+rocm5.1.1, 1.13.0+rocm5.2, 1.13.1, 1.13.1+cpu, 1.13.1+cu116, 1.13.1+cu117, 1.13.1+cu117.with.pypi.cudnn, 1.13.1+rocm5.1.1, 1.13.1+rocm5.2, 2.0.0, 2.0.0+cpu, 2.0.0+cpu.cxx11.abi, 2.0.0+cu117, 2.0.0+cu117.with.pypi.cudnn, 2.0.0+cu118, 2.0.0+rocm5.3, 2.0.0+rocm5.4.2)\u001b[0m\u001b[31m\n",
            "\u001b[0m\u001b[31mERROR: No matching distribution found for torch==1.7.0+cu101\u001b[0m\u001b[31m\n",
            "\u001b[0m"
          ]
        }
      ]
    },
    {
      "cell_type": "code",
      "source": [
        "device = torch.device(\"cuda\" if torch.cuda.is_available() else \"cpu\")\n",
        "print(device)"
      ],
      "metadata": {
        "colab": {
          "base_uri": "https://localhost:8080/"
        },
        "id": "cASJndYe9-KZ",
        "outputId": "ab84eddc-9229-450c-c5ec-81cf8d92b873"
      },
      "execution_count": null,
      "outputs": [
        {
          "output_type": "stream",
          "name": "stdout",
          "text": [
            "cuda\n"
          ]
        }
      ]
    },
    {
      "cell_type": "code",
      "source": [
        "# from google.colab import drive\n",
        "# drive.mount('/content/drive')"
      ],
      "metadata": {
        "id": "V2NHi5uQkP-P"
      },
      "execution_count": null,
      "outputs": []
    },
    {
      "cell_type": "code",
      "source": [
        "from torchaudio.datasets import SPEECHCOMMANDS\n",
        "import os\n",
        "\n",
        "\n",
        "class SubsetSC(SPEECHCOMMANDS):\n",
        "    def __init__(self, subset: str = None):\n",
        "        super().__init__(\"./\", download=True)\n",
        "\n",
        "        def load_list(filename):\n",
        "            filepath = os.path.join(self._path, filename)\n",
        "            with open(filepath) as fileobj:\n",
        "                return [os.path.normpath(os.path.join(self._path, line.strip())) for line in fileobj]\n",
        "\n",
        "        if subset == \"validation\":\n",
        "            self._walker = load_list(\"validation_list.txt\")\n",
        "        elif subset == \"testing\":\n",
        "            self._walker = load_list(\"testing_list.txt\")\n",
        "        elif subset == \"training\":\n",
        "            excludes = load_list(\"validation_list.txt\") + load_list(\"testing_list.txt\")\n",
        "            excludes = set(excludes)\n",
        "            self._walker = [w for w in self._walker if w[2:] not in excludes] #Edited line to get correct training set, Keshav\n",
        "\n",
        "\n",
        "# Create training and testing split of the data. We do not use validation in this tutorial.\n",
        "train_set_init = SubsetSC(\"training\")\n",
        "test_set_init = SubsetSC(\"testing\")\n",
        "\n"
      ],
      "metadata": {
        "id": "RJV7qaGy_n_g",
        "colab": {
          "base_uri": "https://localhost:8080/",
          "height": 49,
          "referenced_widgets": [
            "a3ee0f18e7654f0eaf49d7fe29f8daec",
            "db9061f43acd4a3289cb4dee6b6b6321",
            "07200ffe173c490c86e32b6db7302a03",
            "2a7ef0500ac54454ae950d92c40a7031",
            "ac13b64f01fe4a05ba3a06d4ab3672e7",
            "44d475730280421b8ba250ed16916add",
            "4e964cbf14de4788aa56d115c9076afa",
            "298b752e21b84e55a128f9b2dd7438be",
            "514674a0efda49dc9e19b7f3613d4f84",
            "4a517786c9334cd9a0113637f88cab40",
            "b6093ced133c4f0292b2e25f7e8c5262"
          ]
        },
        "outputId": "63565852-66a8-42c0-f474-a27badbfdd54"
      },
      "execution_count": null,
      "outputs": [
        {
          "output_type": "display_data",
          "data": {
            "text/plain": [
              "  0%|          | 0.00/2.26G [00:00<?, ?B/s]"
            ],
            "application/vnd.jupyter.widget-view+json": {
              "version_major": 2,
              "version_minor": 0,
              "model_id": "a3ee0f18e7654f0eaf49d7fe29f8daec"
            }
          },
          "metadata": {}
        }
      ]
    },
    {
      "cell_type": "code",
      "source": [
        "len(train_set_init)"
      ],
      "metadata": {
        "id": "TnCLmiAYFxI4",
        "colab": {
          "base_uri": "https://localhost:8080/"
        },
        "outputId": "60bdd287-218d-4081-fc56-fc65d6d6e9c9"
      },
      "execution_count": null,
      "outputs": [
        {
          "output_type": "execute_result",
          "data": {
            "text/plain": [
              "105829"
            ]
          },
          "metadata": {},
          "execution_count": 6
        }
      ]
    },
    {
      "cell_type": "code",
      "source": [
        "import urllib.request as req\n",
        "data_test = req.urlopen(r\"https://www.cse.iitb.ac.in/~pjyothi/cs753/test_list.txt\")\n",
        "data_train = req.urlopen(r\"https://www.cse.iitb.ac.in/~pjyothi/cs753/train_list.txt\")\n",
        "n_test=[]\n",
        "n_train=[]\n",
        "for num in data_test:\n",
        "  n_test.append(int(num))\n",
        "for num in data_train:\n",
        "  n_train.append(int(num))"
      ],
      "metadata": {
        "id": "vbjej7vUZFho"
      },
      "execution_count": null,
      "outputs": []
    },
    {
      "cell_type": "code",
      "source": [
        "train_set=list([train_set_init[n] for n in n_train])\n",
        "test_set=list([test_set_init[n] for n in n_test])"
      ],
      "metadata": {
        "id": "kQPXjWHjc7lo"
      },
      "execution_count": null,
      "outputs": []
    },
    {
      "cell_type": "code",
      "source": [
        "waveform, sample_rate, label, speaker_id, utterance_number = train_set[-1]\n",
        "print(sample_rate)\n",
        "print(label)\n",
        "print(utterance_number)\n",
        "print(speaker_id)"
      ],
      "metadata": {
        "id": "uUUC8uoioTn5",
        "colab": {
          "base_uri": "https://localhost:8080/"
        },
        "outputId": "dc29c5d5-2bdb-45ae-c503-ced3c8bb6ed6"
      },
      "execution_count": null,
      "outputs": [
        {
          "output_type": "stream",
          "name": "stdout",
          "text": [
            "16000\n",
            "tree\n",
            "0\n",
            "1afd49bf\n"
          ]
        }
      ]
    },
    {
      "cell_type": "code",
      "source": [
        "len(train_set)"
      ],
      "metadata": {
        "id": "rYMrieyrF3HJ",
        "colab": {
          "base_uri": "https://localhost:8080/"
        },
        "outputId": "713ac9fa-cc96-43aa-9caa-f81cb2b02c04"
      },
      "execution_count": null,
      "outputs": [
        {
          "output_type": "execute_result",
          "data": {
            "text/plain": [
              "12000"
            ]
          },
          "metadata": {},
          "execution_count": 10
        }
      ]
    },
    {
      "cell_type": "code",
      "source": [
        "waveform.t().numpy().shape"
      ],
      "metadata": {
        "id": "D2s0wAcgpv4W",
        "colab": {
          "base_uri": "https://localhost:8080/"
        },
        "outputId": "95b80a5d-44b9-4f18-c024-9511840cc461"
      },
      "execution_count": null,
      "outputs": [
        {
          "output_type": "execute_result",
          "data": {
            "text/plain": [
              "(15019, 1)"
            ]
          },
          "metadata": {},
          "execution_count": 11
        }
      ]
    },
    {
      "cell_type": "code",
      "source": [
        "print(\"Shape of waveform: {}\".format(waveform.size()))\n",
        "print(\"Sample rate of waveform: {}\".format(sample_rate))\n",
        "\n",
        "plt.plot(waveform.t().numpy());"
      ],
      "metadata": {
        "id": "CcA4YS8HGhWP",
        "colab": {
          "base_uri": "https://localhost:8080/",
          "height": 300
        },
        "outputId": "8b664d67-ac53-4430-cfa0-3b5a04ee965f"
      },
      "execution_count": null,
      "outputs": [
        {
          "output_type": "stream",
          "name": "stdout",
          "text": [
            "Shape of waveform: torch.Size([1, 15019])\n",
            "Sample rate of waveform: 16000\n"
          ]
        },
        {
          "output_type": "display_data",
          "data": {
            "text/plain": [
              "<Figure size 432x288 with 1 Axes>"
            ],
            "image/png": "[encoded data removed]"
          },
          "metadata": {
            "needs_background": "light"
          }
        }
      ]
    },
    {
      "cell_type": "code",
      "source": [
        "labels = sorted(list(set(datapoint[2] for datapoint in train_set)))\n",
        "len(labels)"
      ],
      "metadata": {
        "id": "Z0-OW39foQJv",
        "colab": {
          "base_uri": "https://localhost:8080/"
        },
        "outputId": "8f9ab00b-66c3-40a1-f554-a21d20e25ea4"
      },
      "execution_count": null,
      "outputs": [
        {
          "output_type": "execute_result",
          "data": {
            "text/plain": [
              "29"
            ]
          },
          "metadata": {},
          "execution_count": 13
        }
      ]
    },
    {
      "cell_type": "code",
      "source": [
        "test_set_temp=[]\n",
        "for i in range(len(test_set)):\n",
        "  if test_set[i][2] in labels:\n",
        "    test_set_temp.append(test_set[i])\n",
        "test_set=list(test_set_temp)"
      ],
      "metadata": {
        "id": "V8lS7pr8ikqS"
      },
      "execution_count": null,
      "outputs": []
    },
    {
      "cell_type": "code",
      "source": [
        "id = sorted(list(set(datapoint[4] for datapoint in train_set)))\n",
        "len(id)"
      ],
      "metadata": {
        "id": "stI30tmrtfS1",
        "colab": {
          "base_uri": "https://localhost:8080/"
        },
        "outputId": "730fdae6-8251-4a00-b2df-9102ae7851f8"
      },
      "execution_count": null,
      "outputs": [
        {
          "output_type": "execute_result",
          "data": {
            "text/plain": [
              "19"
            ]
          },
          "metadata": {},
          "execution_count": 15
        }
      ]
    },
    {
      "cell_type": "code",
      "source": [
        "waveform_first, *_ = train_set[4504]\n",
        "ipd.Audio(waveform_first.numpy(), rate=sample_rate)"
      ],
      "metadata": {
        "id": "0oqCXmRauOhq",
        "colab": {
          "base_uri": "https://localhost:8080/",
          "height": 75
        },
        "outputId": "9962430c-7126-4a8e-c5d1-79b7df030350"
      },
      "execution_count": null,
      "outputs": [
        {
          "output_type": "execute_result",
          "data": {
            "text/plain": [
              "<IPython.lib.display.Audio object>"
            ],
            "text/html": [
              "\n",
              "                <audio  controls=\"controls\" >\n",
              "                    <source src=\"data:audio/wav;base64,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\" type=\"audio/wav\" />\n",
              "                    Your browser does not support the audio element.\n",
              "                </audio>\n",
              "              "
            ]
          },
          "metadata": {},
          "execution_count": 16
        }
      ]
    },
    {
      "cell_type": "code",
      "source": [
        "new_sample_rate = 8000\n",
        "transform = torchaudio.transforms.Resample(orig_freq=sample_rate, new_freq=new_sample_rate)\n",
        "transformed = transform(waveform)\n",
        "\n",
        "ipd.Audio(transformed.numpy(), rate=new_sample_rate)"
      ],
      "metadata": {
        "id": "nQ8Y5_4UuKeK",
        "colab": {
          "base_uri": "https://localhost:8080/",
          "height": 75
        },
        "outputId": "10f2daaa-57d7-4da5-9f88-71fcba277259"
      },
      "execution_count": null,
      "outputs": [
        {
          "output_type": "execute_result",
          "data": {
            "text/plain": [
              "<IPython.lib.display.Audio object>"
            ],
            "text/html": [
              "\n",
              "                <audio  controls=\"controls\" >\n",
              "                    <source src=\"data:audio/wav;base64,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\" type=\"audio/wav\" />\n",
              "                    Your browser does not support the audio element.\n",
              "                </audio>\n",
              "              "
            ]
          },
          "metadata": {},
          "execution_count": 17
        }
      ]
    },
    {
      "cell_type": "code",
      "source": [
        "def label_to_index(word):\n",
        "    # Return the position of the word in labels\n",
        "    return torch.tensor(labels.index(word))\n",
        "\n",
        "\n",
        "def index_to_label(index):\n",
        "    # Return the word corresponding to the index in labels\n",
        "    # This is the inverse of label_to_index\n",
        "    return labels[index]\n",
        "\n",
        "\n",
        "word_start = \"bed\"\n",
        "index = label_to_index(word_start)\n",
        "word_recovered = index_to_label(index)\n",
        "\n",
        "print(word_start, \"-->\", index, \"-->\", word_recovered)"
      ],
      "metadata": {
        "id": "z37RKJlIukI7",
        "colab": {
          "base_uri": "https://localhost:8080/"
        },
        "outputId": "27719d41-c3e9-409b-a67e-290660610e59"
      },
      "execution_count": null,
      "outputs": [
        {
          "output_type": "stream",
          "name": "stdout",
          "text": [
            "bed --> tensor(1) --> bed\n"
          ]
        }
      ]
    },
    {
      "cell_type": "code",
      "source": [
        "def pad_sequence(batch):\n",
        "    # Make all tensor in a batch the same length by padding with zeros\n",
        "    batch = [item.t() for item in batch]\n",
        "    batch = torch.nn.utils.rnn.pad_sequence(batch, batch_first=True, padding_value=0.)\n",
        "    return batch.permute(0, 2, 1)\n",
        "\n",
        "\n",
        "def collate_fn(batch):\n",
        "\n",
        "    # A data tuple has the form:\n",
        "    # waveform, sample_rate, label, speaker_id, utterance_number\n",
        "\n",
        "    tensors, targets = [], []\n",
        "\n",
        "    # Gather in lists, and encode labels as indices\n",
        "    for waveform, _, label, *_ in batch:\n",
        "        tensors += [waveform]\n",
        "        targets += [label_to_index(label)]\n",
        "\n",
        "    # Group the list of tensors into a batched tensor\n",
        "    tensors = pad_sequence(tensors)\n",
        "    targets = torch.stack(targets)\n",
        "\n",
        "    return tensors, targets\n",
        "\n",
        "\n",
        "batch_size = 256\n",
        "\n",
        "if device == \"cuda\":\n",
        "    num_workers = 1\n",
        "    pin_memory = True\n",
        "else:\n",
        "    num_workers = 0\n",
        "    pin_memory = False\n",
        "\n",
        "train_loader = torch.utils.data.DataLoader(\n",
        "    train_set,\n",
        "    batch_size=batch_size,\n",
        "    shuffle=True,\n",
        "    collate_fn=collate_fn,\n",
        "    num_workers=num_workers,\n",
        "    pin_memory=pin_memory,\n",
        ")\n",
        "test_loader = torch.utils.data.DataLoader(\n",
        "    test_set,\n",
        "    batch_size=batch_size,\n",
        "    shuffle=False,\n",
        "    drop_last=False,\n",
        "    collate_fn=collate_fn,\n",
        "    num_workers=num_workers,\n",
        "    pin_memory=pin_memory,\n",
        ")"
      ],
      "metadata": {
        "id": "9XyteJRhwrYo"
      },
      "execution_count": null,
      "outputs": []
    },
    {
      "cell_type": "code",
      "source": [
        "class M5(nn.Module):\n",
        "    def __init__(self, n_input=1, n_output=35, stride=16, n_channel=32):\n",
        "        super().__init__()\n",
        "        self.conv1 = nn.Conv1d(n_input, n_channel, kernel_size=80, stride=stride)\n",
        "        self.bn1 = nn.BatchNorm1d(n_channel)\n",
        "        self.pool1 = nn.MaxPool1d(4)\n",
        "        self.conv2 = nn.Conv1d(n_channel, n_channel, kernel_size=3)\n",
        "        self.bn2 = nn.BatchNorm1d(n_channel)\n",
        "        self.pool2 = nn.MaxPool1d(4)\n",
        "        self.conv3 = nn.Conv1d(n_channel, 2 * n_channel, kernel_size=3)\n",
        "        self.bn3 = nn.BatchNorm1d(2 * n_channel)\n",
        "        self.pool3 = nn.MaxPool1d(4)\n",
        "        self.conv4 = nn.Conv1d(2 * n_channel, 2 * n_channel, kernel_size=3)\n",
        "        self.bn4 = nn.BatchNorm1d(2 * n_channel)\n",
        "        self.pool4 = nn.MaxPool1d(4)\n",
        "        self.fc1 = nn.Linear(2 * n_channel, n_output)\n",
        "\n",
        "    def forward(self, x):\n",
        "        x = self.conv1(x)\n",
        "        x = F.relu(self.bn1(x))\n",
        "        x = self.pool1(x)\n",
        "        x = self.conv2(x)\n",
        "        x = F.relu(self.bn2(x))\n",
        "        x = self.pool2(x)\n",
        "        x = self.conv3(x)\n",
        "        x = F.relu(self.bn3(x))\n",
        "        x = self.pool3(x)\n",
        "        x = self.conv4(x)\n",
        "        x = F.relu(self.bn4(x))\n",
        "        x = self.pool4(x)\n",
        "        x = F.avg_pool1d(x, x.shape[-1])\n",
        "        x = x.permute(0, 2, 1)\n",
        "        x = self.fc1(x)\n",
        "        return F.log_softmax(x, dim=2)\n",
        "\n",
        "\n",
        "model = M5(n_input=transformed.shape[0], n_output=len(labels))\n",
        "model.to(device)\n",
        "print(model)\n",
        "\n",
        "\n",
        "def count_parameters(model):\n",
        "    return sum(p.numel() for p in model.parameters() if p.requires_grad)\n",
        "\n",
        "\n",
        "n = count_parameters(model)\n",
        "print(\"Number of parameters: %s\" % n)"
      ],
      "metadata": {
        "id": "3v0Wg5jp4kwL",
        "colab": {
          "base_uri": "https://localhost:8080/"
        },
        "outputId": "603a362a-3d3b-4631-af4a-4286c0bb0e0d"
      },
      "execution_count": null,
      "outputs": [
        {
          "output_type": "stream",
          "name": "stdout",
          "text": [
            "M5(\n",
            "  (conv1): Conv1d(1, 32, kernel_size=(80,), stride=(16,))\n",
            "  (bn1): BatchNorm1d(32, eps=1e-05, momentum=0.1, affine=True, track_running_stats=True)\n",
            "  (pool1): MaxPool1d(kernel_size=4, stride=4, padding=0, dilation=1, ceil_mode=False)\n",
            "  (conv2): Conv1d(32, 32, kernel_size=(3,), stride=(1,))\n",
            "  (bn2): BatchNorm1d(32, eps=1e-05, momentum=0.1, affine=True, track_running_stats=True)\n",
            "  (pool2): MaxPool1d(kernel_size=4, stride=4, padding=0, dilation=1, ceil_mode=False)\n",
            "  (conv3): Conv1d(32, 64, kernel_size=(3,), stride=(1,))\n",
            "  (bn3): BatchNorm1d(64, eps=1e-05, momentum=0.1, affine=True, track_running_stats=True)\n",
            "  (pool3): MaxPool1d(kernel_size=4, stride=4, padding=0, dilation=1, ceil_mode=False)\n",
            "  (conv4): Conv1d(64, 64, kernel_size=(3,), stride=(1,))\n",
            "  (bn4): BatchNorm1d(64, eps=1e-05, momentum=0.1, affine=True, track_running_stats=True)\n",
            "  (pool4): MaxPool1d(kernel_size=4, stride=4, padding=0, dilation=1, ceil_mode=False)\n",
            "  (fc1): Linear(in_features=64, out_features=29, bias=True)\n",
            ")\n",
            "Number of parameters: 26525\n"
          ]
        }
      ]
    },
    {
      "cell_type": "code",
      "source": [
        "optimizer = optim.Adam(model.parameters(), lr=0.01, weight_decay=0.0001)\n",
        "scheduler = optim.lr_scheduler.StepLR(optimizer, step_size=20, gamma=0.1)  # reduce the learning after 20 epochs by a factor of 10"
      ],
      "metadata": {
        "id": "JBp_wRLg6NKR"
      },
      "execution_count": null,
      "outputs": []
    },
    {
      "cell_type": "code",
      "source": [
        "# basic random seed\n",
        "import os\n",
        "import random\n",
        "import numpy as np\n",
        "DEFAULT_RANDOM_SEED = 2021\n",
        "def seedBasic(seed=DEFAULT_RANDOM_SEED):\n",
        " random.seed(seed)\n",
        " os.environ['PYTHONHASHSEED'] = str(seed)\n",
        " np.random.seed(seed)\n",
        "# tensorflow random seed\n",
        " import tensorflow as tf\n",
        "def seedTF(seed=DEFAULT_RANDOM_SEED):\n",
        " tf.random.set_seed(seed)\n",
        "# torch random seed\n",
        " import torch\n",
        "def seedTorch(seed=DEFAULT_RANDOM_SEED):\n",
        " torch.manual_seed(seed)\n",
        " torch.cuda.manual_seed(seed)\n",
        " torch.backends.cudnn.deterministic = True\n",
        " torch.backends.cudnn.benchmark = False\n",
        "# basic + tensorflow + torch\n",
        "def seedEverything(seed=DEFAULT_RANDOM_SEED):\n",
        " seedBasic(seed)\n",
        " seedTF(seed)\n",
        " seedTorch(seed)\n",
        " seedEverything(1004)"
      ],
      "metadata": {
        "id": "SkWV9QWXtugf"
      },
      "execution_count": null,
      "outputs": []
    },
    {
      "cell_type": "code",
      "source": [
        "def train(model, epoch, log_interval):\n",
        "    model.train()\n",
        "    for batch_idx, (data, target) in enumerate(train_loader):\n",
        "\n",
        "        data = data.to(device)\n",
        "        target = target.to(device)\n",
        "\n",
        "        # apply transform and model on whole batch directly on device\n",
        "        data = transform(data)\n",
        "        output = model(data)\n",
        "\n",
        "        # negative log-likelihood for a tensor of size (batch x 1 x n_output)\n",
        "        loss = F.nll_loss(output.squeeze(), target)\n",
        "\n",
        "        optimizer.zero_grad()\n",
        "        loss.backward()\n",
        "        optimizer.step()\n",
        "\n",
        "        # print training stats\n",
        "        if batch_idx % log_interval == 0:\n",
        "            print(f\"Train Epoch: {epoch} [{batch_idx * len(data)}/{len(train_loader.dataset)} ({100. * batch_idx / len(train_loader):.0f}%)]\\tLoss: {loss.item():.6f}\")\n",
        "\n",
        "        # update progress bar\n",
        "        pbar.update(pbar_update)\n",
        "        # record loss\n",
        "        losses.append(loss.item())"
      ],
      "metadata": {
        "id": "NrHoNBXw6RwJ"
      },
      "execution_count": null,
      "outputs": []
    },
    {
      "cell_type": "code",
      "source": [
        "def number_of_correct(pred, target):\n",
        "    # count number of correct predictions\n",
        "    return pred.squeeze().eq(target).sum().item()\n",
        "\n",
        "\n",
        "def get_likely_index(tensor):\n",
        "    # find most likely label index for each element in the batch\n",
        "    return tensor.argmax(dim=-1)\n",
        "\n",
        "\n",
        "def test(model, epoch):\n",
        "    model.eval()\n",
        "    correct = 0\n",
        "    for data, target in test_loader:\n",
        "\n",
        "        data = data.to(device)\n",
        "        target = target.to(device)\n",
        "\n",
        "        # apply transform and model on whole batch directly on device\n",
        "        data = transform(data)\n",
        "        output = model(data)\n",
        "\n",
        "        pred = get_likely_index(output)\n",
        "        correct += number_of_correct(pred, target)\n",
        "\n",
        "        # update progress bar\n",
        "        pbar.update(pbar_update)\n",
        "\n",
        "    print(f\"\\nTest Epoch: {epoch}\\tAccuracy: {correct}/{len(test_loader.dataset)} ({100. * correct / len(test_loader.dataset):.2f}%)\\n{100. * correct / len(test_loader.dataset):.2f}\")"
      ],
      "metadata": {
        "id": "5l5fXyzW68VP"
      },
      "execution_count": null,
      "outputs": []
    },
    {
      "cell_type": "code",
      "source": [
        "log_interval = 20\n",
        "n_epoch = 20\n",
        "\n",
        "pbar_update = 1 / (len(train_loader) + len(test_loader))\n",
        "losses = []\n",
        "\n",
        "# The transform needs to live on the same device as the model and the data.\n",
        "transform = transform.to(device)\n",
        "with tqdm(total=n_epoch) as pbar:\n",
        "    for epoch in range(1, n_epoch + 1):\n",
        "        train(model, epoch, log_interval)\n",
        "        test(model, epoch)\n",
        "        scheduler.step()"
      ],
      "metadata": {
        "id": "4LxHLrhz7EQ7",
        "colab": {
          "base_uri": "https://localhost:8080/"
        },
        "outputId": "e850635d-164f-4c86-de0c-fa972365752c"
      },
      "execution_count": null,
      "outputs": [
        {
          "output_type": "stream",
          "name": "stderr",
          "text": [
            "  0%|          | 0.05/20 [00:09<47:10, 141.90s/it]                  "
          ]
        },
        {
          "output_type": "stream",
          "name": "stdout",
          "text": [
            "Train Epoch: 1 [0/12000 (0%)]\tLoss: 3.504080\n"
          ]
        },
        {
          "output_type": "stream",
          "name": "stderr",
          "text": [
            "  2%|▏         | 0.41666666666666663/20 [00:09<01:44,  5.36s/it]"
          ]
        },
        {
          "output_type": "stream",
          "name": "stdout",
          "text": [
            "Train Epoch: 1 [5120/12000 (43%)]\tLoss: 2.893085\n"
          ]
        },
        {
          "output_type": "stream",
          "name": "stderr",
          "text": [
            "  4%|▍         | 0.8000000000000008/20 [00:10<00:39,  2.07s/it]"
          ]
        },
        {
          "output_type": "stream",
          "name": "stdout",
          "text": [
            "Train Epoch: 1 [10240/12000 (85%)]\tLoss: 2.391556\n"
          ]
        },
        {
          "output_type": "stream",
          "name": "stderr",
          "text": [
            "  5%|▌         | 1.0666666666666678/20 [00:10<00:29,  1.55s/it]"
          ]
        },
        {
          "output_type": "stream",
          "name": "stdout",
          "text": [
            "\n",
            "Test Epoch: 1\tAccuracy: 993/3272 (30.35%)\n",
            "30.35\n",
            "Train Epoch: 2 [0/12000 (0%)]\tLoss: 2.230829\n"
          ]
        },
        {
          "output_type": "stream",
          "name": "stderr",
          "text": [
            "  7%|▋         | 1.4333333333333331/20 [00:11<00:25,  1.37s/it]"
          ]
        },
        {
          "output_type": "stream",
          "name": "stdout",
          "text": [
            "Train Epoch: 2 [5120/12000 (43%)]\tLoss: 1.850416\n"
          ]
        },
        {
          "output_type": "stream",
          "name": "stderr",
          "text": [
            "  9%|▉         | 1.7666666666666653/20 [00:11<00:23,  1.31s/it]"
          ]
        },
        {
          "output_type": "stream",
          "name": "stdout",
          "text": [
            "Train Epoch: 2 [10240/12000 (85%)]\tLoss: 1.781303\n"
          ]
        },
        {
          "output_type": "stream",
          "name": "stderr",
          "text": [
            " 10%|█         | 2.083333333333331/20 [00:11<00:21,  1.19s/it] "
          ]
        },
        {
          "output_type": "stream",
          "name": "stdout",
          "text": [
            "\n",
            "Test Epoch: 2\tAccuracy: 1404/3272 (42.91%)\n",
            "42.91\n",
            "Train Epoch: 3 [0/12000 (0%)]\tLoss: 1.518494\n"
          ]
        },
        {
          "output_type": "stream",
          "name": "stderr",
          "text": [
            " 12%|█▏        | 2.449999999999996/20 [00:12<00:22,  1.25s/it]"
          ]
        },
        {
          "output_type": "stream",
          "name": "stdout",
          "text": [
            "Train Epoch: 3 [5120/12000 (43%)]\tLoss: 1.438037\n"
          ]
        },
        {
          "output_type": "stream",
          "name": "stderr",
          "text": [
            " 14%|█▍        | 2.7833333333333283/20 [00:12<00:21,  1.27s/it]"
          ]
        },
        {
          "output_type": "stream",
          "name": "stdout",
          "text": [
            "Train Epoch: 3 [10240/12000 (85%)]\tLoss: 1.484767\n"
          ]
        },
        {
          "output_type": "stream",
          "name": "stderr",
          "text": [
            " 16%|█▌        | 3.1166666666666605/20 [00:13<00:20,  1.22s/it]"
          ]
        },
        {
          "output_type": "stream",
          "name": "stdout",
          "text": [
            "\n",
            "Test Epoch: 3\tAccuracy: 1634/3272 (49.94%)\n",
            "49.94\n",
            "Train Epoch: 4 [0/12000 (0%)]\tLoss: 1.268650\n"
          ]
        },
        {
          "output_type": "stream",
          "name": "stderr",
          "text": [
            " 17%|█▋        | 3.483333333333326/20 [00:13<00:19,  1.18s/it]"
          ]
        },
        {
          "output_type": "stream",
          "name": "stdout",
          "text": [
            "Train Epoch: 4 [5120/12000 (43%)]\tLoss: 1.241381\n"
          ]
        },
        {
          "output_type": "stream",
          "name": "stderr",
          "text": [
            " 19%|█▉        | 3.7833333333333248/20 [00:13<00:18,  1.12s/it]"
          ]
        },
        {
          "output_type": "stream",
          "name": "stdout",
          "text": [
            "Train Epoch: 4 [10240/12000 (85%)]\tLoss: 1.160200\n"
          ]
        },
        {
          "output_type": "stream",
          "name": "stderr",
          "text": [
            " 21%|██        | 4.149999999999991/20 [00:14<00:16,  1.03s/it]"
          ]
        },
        {
          "output_type": "stream",
          "name": "stdout",
          "text": [
            "\n",
            "Test Epoch: 4\tAccuracy: 1603/3272 (48.99%)\n",
            "48.99\n",
            "Train Epoch: 5 [0/12000 (0%)]\tLoss: 1.198005\n"
          ]
        },
        {
          "output_type": "stream",
          "name": "stderr",
          "text": [
            " 22%|██▏       | 4.4499999999999895/20 [00:14<00:16,  1.08s/it]"
          ]
        },
        {
          "output_type": "stream",
          "name": "stdout",
          "text": [
            "Train Epoch: 5 [5120/12000 (43%)]\tLoss: 1.197548\n"
          ]
        },
        {
          "output_type": "stream",
          "name": "stderr",
          "text": [
            " 24%|██▍       | 4.866666666666655/20 [00:15<00:15,  1.02s/it] "
          ]
        },
        {
          "output_type": "stream",
          "name": "stdout",
          "text": [
            "Train Epoch: 5 [10240/12000 (85%)]\tLoss: 1.000604\n"
          ]
        },
        {
          "output_type": "stream",
          "name": "stderr",
          "text": [
            " 26%|██▌       | 5.13333333333332/20 [00:15<00:14,  1.00it/s] "
          ]
        },
        {
          "output_type": "stream",
          "name": "stdout",
          "text": [
            "\n",
            "Test Epoch: 5\tAccuracy: 2117/3272 (64.70%)\n",
            "64.70\n",
            "Train Epoch: 6 [0/12000 (0%)]\tLoss: 1.112771\n"
          ]
        },
        {
          "output_type": "stream",
          "name": "stderr",
          "text": [
            " 27%|██▋       | 5.449999999999986/20 [00:15<00:15,  1.04s/it]"
          ]
        },
        {
          "output_type": "stream",
          "name": "stdout",
          "text": [
            "Train Epoch: 6 [5120/12000 (43%)]\tLoss: 0.991381\n"
          ]
        },
        {
          "output_type": "stream",
          "name": "stderr",
          "text": [
            " 29%|██▉       | 5.866666666666651/20 [00:16<00:14,  1.02s/it]"
          ]
        },
        {
          "output_type": "stream",
          "name": "stdout",
          "text": [
            "Train Epoch: 6 [10240/12000 (85%)]\tLoss: 0.941420\n"
          ]
        },
        {
          "output_type": "stream",
          "name": "stderr",
          "text": [
            " 31%|███       | 6.133333333333317/20 [00:16<00:14,  1.02s/it]"
          ]
        },
        {
          "output_type": "stream",
          "name": "stdout",
          "text": [
            "\n",
            "Test Epoch: 6\tAccuracy: 2120/3272 (64.79%)\n",
            "64.79\n",
            "Train Epoch: 7 [0/12000 (0%)]\tLoss: 0.998402\n"
          ]
        },
        {
          "output_type": "stream",
          "name": "stderr",
          "text": [
            " 33%|███▎      | 6.5333333333333155/20 [00:16<00:14,  1.05s/it]"
          ]
        },
        {
          "output_type": "stream",
          "name": "stdout",
          "text": [
            "Train Epoch: 7 [5120/12000 (43%)]\tLoss: 0.946425\n"
          ]
        },
        {
          "output_type": "stream",
          "name": "stderr",
          "text": [
            " 34%|███▍      | 6.849999999999981/20 [00:17<00:13,  1.02s/it]"
          ]
        },
        {
          "output_type": "stream",
          "name": "stdout",
          "text": [
            "Train Epoch: 7 [10240/12000 (85%)]\tLoss: 0.895353\n"
          ]
        },
        {
          "output_type": "stream",
          "name": "stderr",
          "text": [
            " 36%|███▌      | 7.116666666666647/20 [00:17<00:12,  1.01it/s] "
          ]
        },
        {
          "output_type": "stream",
          "name": "stdout",
          "text": [
            "\n",
            "Test Epoch: 7\tAccuracy: 2104/3272 (64.30%)\n",
            "64.30\n",
            "Train Epoch: 8 [0/12000 (0%)]\tLoss: 0.747270\n"
          ]
        },
        {
          "output_type": "stream",
          "name": "stderr",
          "text": [
            " 37%|███▋      | 7.449999999999979/20 [00:17<00:12,  1.03s/it]"
          ]
        },
        {
          "output_type": "stream",
          "name": "stdout",
          "text": [
            "Train Epoch: 8 [5120/12000 (43%)]\tLoss: 0.888001\n"
          ]
        },
        {
          "output_type": "stream",
          "name": "stderr",
          "text": [
            " 39%|███▉      | 7.866666666666644/20 [00:18<00:12,  1.01s/it]"
          ]
        },
        {
          "output_type": "stream",
          "name": "stdout",
          "text": [
            "Train Epoch: 8 [10240/12000 (85%)]\tLoss: 1.002346\n"
          ]
        },
        {
          "output_type": "stream",
          "name": "stderr",
          "text": [
            " 41%|████      | 8.133333333333317/20 [00:18<00:11,  1.01it/s]"
          ]
        },
        {
          "output_type": "stream",
          "name": "stdout",
          "text": [
            "\n",
            "Test Epoch: 8\tAccuracy: 2185/3272 (66.78%)\n",
            "66.78\n",
            "Train Epoch: 9 [0/12000 (0%)]\tLoss: 0.752854\n"
          ]
        },
        {
          "output_type": "stream",
          "name": "stderr",
          "text": [
            " 42%|████▏     | 8.45/20 [00:18<00:12,  1.04s/it]             "
          ]
        },
        {
          "output_type": "stream",
          "name": "stdout",
          "text": [
            "Train Epoch: 9 [5120/12000 (43%)]\tLoss: 0.837931\n"
          ]
        },
        {
          "output_type": "stream",
          "name": "stderr",
          "text": [
            " 44%|████▍     | 8.866666666666687/20 [00:19<00:11,  1.01s/it]"
          ]
        },
        {
          "output_type": "stream",
          "name": "stdout",
          "text": [
            "Train Epoch: 9 [10240/12000 (85%)]\tLoss: 0.739923\n"
          ]
        },
        {
          "output_type": "stream",
          "name": "stderr",
          "text": [
            " 46%|████▌     | 9.1166666666667/20 [00:19<00:10,  1.00s/it]  "
          ]
        },
        {
          "output_type": "stream",
          "name": "stdout",
          "text": [
            "\n",
            "Test Epoch: 9\tAccuracy: 2258/3272 (69.01%)\n",
            "69.01\n",
            "Train Epoch: 10 [0/12000 (0%)]\tLoss: 0.634203\n"
          ]
        },
        {
          "output_type": "stream",
          "name": "stderr",
          "text": [
            " 48%|████▊     | 9.533333333333387/20 [00:19<00:10,  1.04s/it]"
          ]
        },
        {
          "output_type": "stream",
          "name": "stdout",
          "text": [
            "Train Epoch: 10 [5120/12000 (43%)]\tLoss: 0.689940\n"
          ]
        },
        {
          "output_type": "stream",
          "name": "stderr",
          "text": [
            " 49%|████▉     | 9.850000000000069/20 [00:20<00:10,  1.02s/it]"
          ]
        },
        {
          "output_type": "stream",
          "name": "stdout",
          "text": [
            "Train Epoch: 10 [10240/12000 (85%)]\tLoss: 0.668695\n"
          ]
        },
        {
          "output_type": "stream",
          "name": "stderr",
          "text": [
            " 51%|█████     | 10.100000000000081/20 [00:20<00:09,  1.02it/s]"
          ]
        },
        {
          "output_type": "stream",
          "name": "stdout",
          "text": [
            "\n",
            "Test Epoch: 10\tAccuracy: 2159/3272 (65.98%)\n",
            "65.98\n",
            "Train Epoch: 11 [0/12000 (0%)]\tLoss: 0.695090\n"
          ]
        },
        {
          "output_type": "stream",
          "name": "stderr",
          "text": [
            " 53%|█████▎    | 10.516666666666769/20 [00:20<00:09,  1.04s/it]"
          ]
        },
        {
          "output_type": "stream",
          "name": "stdout",
          "text": [
            "Train Epoch: 11 [5120/12000 (43%)]\tLoss: 0.572163\n"
          ]
        },
        {
          "output_type": "stream",
          "name": "stderr",
          "text": [
            " 54%|█████▍    | 10.816666666666784/20 [00:21<00:09,  1.05s/it]"
          ]
        },
        {
          "output_type": "stream",
          "name": "stdout",
          "text": [
            "Train Epoch: 11 [10240/12000 (85%)]\tLoss: 0.631702\n"
          ]
        },
        {
          "output_type": "stream",
          "name": "stderr",
          "text": [
            " 55%|█████▌    | 11.066666666666796/20 [00:21<00:08,  1.03it/s]"
          ]
        },
        {
          "output_type": "stream",
          "name": "stdout",
          "text": [
            "\n",
            "Test Epoch: 11\tAccuracy: 2346/3272 (71.70%)\n",
            "71.70\n",
            "Train Epoch: 12 [0/12000 (0%)]\tLoss: 0.586558\n"
          ]
        },
        {
          "output_type": "stream",
          "name": "stderr",
          "text": [
            " 58%|█████▊    | 11.500000000000151/20 [00:21<00:08,  1.03s/it]"
          ]
        },
        {
          "output_type": "stream",
          "name": "stdout",
          "text": [
            "Train Epoch: 12 [5120/12000 (43%)]\tLoss: 0.656751\n"
          ]
        },
        {
          "output_type": "stream",
          "name": "stderr",
          "text": [
            " 59%|█████▉    | 11.800000000000166/20 [00:22<00:08,  1.05s/it]"
          ]
        },
        {
          "output_type": "stream",
          "name": "stdout",
          "text": [
            "Train Epoch: 12 [10240/12000 (85%)]\tLoss: 0.678945\n"
          ]
        },
        {
          "output_type": "stream",
          "name": "stderr",
          "text": [
            " 60%|██████    | 12.066666666666846/20 [00:22<00:07,  1.06it/s]"
          ]
        },
        {
          "output_type": "stream",
          "name": "stdout",
          "text": [
            "\n",
            "Test Epoch: 12\tAccuracy: 2274/3272 (69.50%)\n",
            "69.50\n",
            "Train Epoch: 13 [0/12000 (0%)]\tLoss: 0.575079\n"
          ]
        },
        {
          "output_type": "stream",
          "name": "stderr",
          "text": [
            " 63%|██████▎   | 12.5000000000002/20 [00:22<00:07,  1.04s/it]  "
          ]
        },
        {
          "output_type": "stream",
          "name": "stdout",
          "text": [
            "Train Epoch: 13 [5120/12000 (43%)]\tLoss: 0.523681\n"
          ]
        },
        {
          "output_type": "stream",
          "name": "stderr",
          "text": [
            " 64%|██████▍   | 12.800000000000216/20 [00:23<00:07,  1.07s/it]"
          ]
        },
        {
          "output_type": "stream",
          "name": "stdout",
          "text": [
            "Train Epoch: 13 [10240/12000 (85%)]\tLoss: 0.702104\n"
          ]
        },
        {
          "output_type": "stream",
          "name": "stderr",
          "text": [
            " 65%|██████▌   | 13.050000000000228/20 [00:23<00:06,  1.04it/s]"
          ]
        },
        {
          "output_type": "stream",
          "name": "stdout",
          "text": [
            "\n",
            "Test Epoch: 13\tAccuracy: 2179/3272 (66.60%)\n",
            "66.60\n",
            "Train Epoch: 14 [0/12000 (0%)]\tLoss: 0.506439\n"
          ]
        },
        {
          "output_type": "stream",
          "name": "stderr",
          "text": [
            " 67%|██████▋   | 13.466666666666915/20 [00:23<00:08,  1.24s/it]"
          ]
        },
        {
          "output_type": "stream",
          "name": "stdout",
          "text": [
            "Train Epoch: 14 [5120/12000 (43%)]\tLoss: 0.637614\n"
          ]
        },
        {
          "output_type": "stream",
          "name": "stderr",
          "text": [
            " 69%|██████▉   | 13.800000000000265/20 [00:24<00:07,  1.27s/it]"
          ]
        },
        {
          "output_type": "stream",
          "name": "stdout",
          "text": [
            "Train Epoch: 14 [10240/12000 (85%)]\tLoss: 0.504687\n"
          ]
        },
        {
          "output_type": "stream",
          "name": "stderr",
          "text": [
            " 71%|███████   | 14.133333333333615/20 [00:24<00:06,  1.16s/it]"
          ]
        },
        {
          "output_type": "stream",
          "name": "stdout",
          "text": [
            "\n",
            "Test Epoch: 14\tAccuracy: 2409/3272 (73.62%)\n",
            "73.62\n",
            "Train Epoch: 15 [0/12000 (0%)]\tLoss: 0.414606\n"
          ]
        },
        {
          "output_type": "stream",
          "name": "stderr",
          "text": [
            " 72%|███████▏  | 14.43333333333363/20 [00:25<00:06,  1.21s/it] "
          ]
        },
        {
          "output_type": "stream",
          "name": "stdout",
          "text": [
            "Train Epoch: 15 [5120/12000 (43%)]\tLoss: 0.439215\n"
          ]
        },
        {
          "output_type": "stream",
          "name": "stderr",
          "text": [
            " 74%|███████▍  | 14.76666666666698/20 [00:25<00:06,  1.29s/it] "
          ]
        },
        {
          "output_type": "stream",
          "name": "stdout",
          "text": [
            "Train Epoch: 15 [10240/12000 (85%)]\tLoss: 0.486831\n"
          ]
        },
        {
          "output_type": "stream",
          "name": "stderr",
          "text": [
            " 76%|███████▌  | 15.10000000000033/20 [00:25<00:05,  1.09s/it] "
          ]
        },
        {
          "output_type": "stream",
          "name": "stdout",
          "text": [
            "\n",
            "Test Epoch: 15\tAccuracy: 2244/3272 (68.58%)\n",
            "68.58\n",
            "Train Epoch: 16 [0/12000 (0%)]\tLoss: 0.446907\n"
          ]
        },
        {
          "output_type": "stream",
          "name": "stderr",
          "text": [
            " 78%|███████▊  | 15.50000000000035/20 [00:26<00:04,  1.08s/it] "
          ]
        },
        {
          "output_type": "stream",
          "name": "stdout",
          "text": [
            "Train Epoch: 16 [5120/12000 (43%)]\tLoss: 0.511788\n"
          ]
        },
        {
          "output_type": "stream",
          "name": "stderr",
          "text": [
            " 79%|███████▉  | 15.800000000000365/20 [00:26<00:04,  1.09s/it]"
          ]
        },
        {
          "output_type": "stream",
          "name": "stdout",
          "text": [
            "Train Epoch: 16 [10240/12000 (85%)]\tLoss: 0.376536\n"
          ]
        },
        {
          "output_type": "stream",
          "name": "stderr",
          "text": [
            " 81%|████████  | 16.16666666666703/20 [00:26<00:03,  1.01s/it]"
          ]
        },
        {
          "output_type": "stream",
          "name": "stdout",
          "text": [
            "\n",
            "Test Epoch: 16\tAccuracy: 2193/3272 (67.02%)\n",
            "67.02\n",
            "Train Epoch: 17 [0/12000 (0%)]\tLoss: 0.477894\n"
          ]
        },
        {
          "output_type": "stream",
          "name": "stderr",
          "text": [
            " 82%|████████▏ | 16.466666666667013/20 [00:27<00:03,  1.05s/it]"
          ]
        },
        {
          "output_type": "stream",
          "name": "stdout",
          "text": [
            "Train Epoch: 17 [5120/12000 (43%)]\tLoss: 0.374224\n"
          ]
        },
        {
          "output_type": "stream",
          "name": "stderr",
          "text": [
            " 84%|████████▍ | 16.883333333333656/20 [00:27<00:03,  1.00it/s]"
          ]
        },
        {
          "output_type": "stream",
          "name": "stdout",
          "text": [
            "Train Epoch: 17 [10240/12000 (85%)]\tLoss: 0.456050\n"
          ]
        },
        {
          "output_type": "stream",
          "name": "stderr",
          "text": [
            " 86%|████████▌ | 17.133333333333642/20 [00:27<00:02,  1.02s/it]"
          ]
        },
        {
          "output_type": "stream",
          "name": "stdout",
          "text": [
            "\n",
            "Test Epoch: 17\tAccuracy: 2304/3272 (70.42%)\n",
            "70.42\n",
            "Train Epoch: 18 [0/12000 (0%)]\tLoss: 0.482869\n"
          ]
        },
        {
          "output_type": "stream",
          "name": "stderr",
          "text": [
            " 87%|████████▋ | 17.45000000000029/20 [00:28<00:02,  1.06s/it] "
          ]
        },
        {
          "output_type": "stream",
          "name": "stdout",
          "text": [
            "Train Epoch: 18 [5120/12000 (43%)]\tLoss: 0.290801\n"
          ]
        },
        {
          "output_type": "stream",
          "name": "stderr",
          "text": [
            " 89%|████████▉ | 17.866666666666934/20 [00:28<00:02,  1.03s/it]"
          ]
        },
        {
          "output_type": "stream",
          "name": "stdout",
          "text": [
            "Train Epoch: 18 [10240/12000 (85%)]\tLoss: 0.382095\n"
          ]
        },
        {
          "output_type": "stream",
          "name": "stderr",
          "text": [
            " 91%|█████████ | 18.133333333333585/20 [00:29<00:01,  1.01s/it]"
          ]
        },
        {
          "output_type": "stream",
          "name": "stdout",
          "text": [
            "\n",
            "Test Epoch: 18\tAccuracy: 2332/3272 (71.27%)\n",
            "71.27\n",
            "Train Epoch: 19 [0/12000 (0%)]\tLoss: 0.387775\n"
          ]
        },
        {
          "output_type": "stream",
          "name": "stderr",
          "text": [
            " 93%|█████████▎| 18.533333333333562/20 [00:29<00:01,  1.05s/it]"
          ]
        },
        {
          "output_type": "stream",
          "name": "stdout",
          "text": [
            "Train Epoch: 19 [5120/12000 (43%)]\tLoss: 0.383562\n"
          ]
        },
        {
          "output_type": "stream",
          "name": "stderr",
          "text": [
            " 94%|█████████▍| 18.85000000000021/20 [00:29<00:01,  1.04s/it]"
          ]
        },
        {
          "output_type": "stream",
          "name": "stdout",
          "text": [
            "Train Epoch: 19 [10240/12000 (85%)]\tLoss: 0.473701\n"
          ]
        },
        {
          "output_type": "stream",
          "name": "stderr",
          "text": [
            " 96%|█████████▌| 19.116666666666863/20 [00:30<00:00,  1.01it/s]"
          ]
        },
        {
          "output_type": "stream",
          "name": "stdout",
          "text": [
            "\n",
            "Test Epoch: 19\tAccuracy: 2427/3272 (74.17%)\n",
            "74.17\n",
            "Train Epoch: 20 [0/12000 (0%)]\tLoss: 0.368118\n"
          ]
        },
        {
          "output_type": "stream",
          "name": "stderr",
          "text": [
            " 98%|█████████▊| 19.533333333333506/20 [00:30<00:00,  1.03s/it]"
          ]
        },
        {
          "output_type": "stream",
          "name": "stdout",
          "text": [
            "Train Epoch: 20 [5120/12000 (43%)]\tLoss: 0.371845\n"
          ]
        },
        {
          "output_type": "stream",
          "name": "stderr",
          "text": [
            " 99%|█████████▉| 19.850000000000154/20 [00:30<00:00,  1.02s/it]"
          ]
        },
        {
          "output_type": "stream",
          "name": "stdout",
          "text": [
            "Train Epoch: 20 [10240/12000 (85%)]\tLoss: 0.332527\n"
          ]
        },
        {
          "output_type": "stream",
          "name": "stderr",
          "text": [
            "/usr/local/lib/python3.9/dist-packages/tqdm/std.py:524: TqdmWarning: clamping frac to range [0, 1]\n",
            "  full_bar = Bar(frac,\n",
            "100%|██████████| 20.000000000000146/20 [00:30<00:00,  1.55s/it]"
          ]
        },
        {
          "output_type": "stream",
          "name": "stdout",
          "text": [
            "\n",
            "Test Epoch: 20\tAccuracy: 2338/3272 (71.45%)\n",
            "71.45\n"
          ]
        },
        {
          "output_type": "stream",
          "name": "stderr",
          "text": [
            "\n"
          ]
        }
      ]
    }
  ]
}