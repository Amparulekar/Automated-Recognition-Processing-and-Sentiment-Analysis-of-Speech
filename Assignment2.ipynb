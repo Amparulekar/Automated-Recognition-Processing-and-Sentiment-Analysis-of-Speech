{
  "cells": [
    {
      "cell_type": "markdown",
      "metadata": {
        "id": "_JBERAXX86Ic"
      },
      "source": [
        "# CS753 2023 -- Assignment 2\n",
        "\n",
        "This assignment is due on or before **11.59 pm on April 9, 2023**. The submission portal\n",
        "on Moodle will be open until midnight on April 11th with a 5% penalty for each additional day after the 9th. This  assignment adds up to 25 points overall. This is a group assignment. You can form groups of 2-3 students.\n",
        "\n",
        "## **Acknowledgements**\n",
        "\n",
        "* All of Task 0's ASR-related code snippets have been borrowed from the ASR Notebook at [CS224S's Assignment 4 at Stanford](https://web.stanford.edu/class/cs224s/assignments/a4/) which are, in turn, borrowed from the [SpeechBrain toolkit](https://github.com/speechbrain/speechbrain/).\n",
        "\n",
        "* SpeechBrain models are downloaded from their host site on [Huggingface](https://huggingface.co/speechbrain).  \n",
        "\n",
        "* The following [SpeechBrain tutorial](https://colab.research.google.com/drive/1aFgzrUv3udM_gNJNUoLaHIm78QHtxdIz?usp=sharing#scrollTo=J6N0Fb51pFnZ) will give you a code walkthrough of how an ASR system is coded from scratch using this toolkit.\n",
        "\n",
        "## **Dataset**\n",
        "\n",
        "We will use *HarperValleyBank (HVB)* -- a publicly-available spoken dialog corpus. Click [here](https://arxiv.org/pdf/2010.13929.pdf) for more details about the HVB corpus, how it was collected and what it is annotated for.  \n",
        "\n",
        "## **What to submit**\n",
        "\n",
        "On Moodle, you will have to submit a text file `README.txt` with answers requested for in the tasks below and a `.ipynb` file containing all your code with the following naming convention: LDAP IDs of team members delimited by `_`. E.g., `220022022_220022021.ipynb`.\n",
        "\n",
        "## **Getting Started**\n",
        "* Make a copy of this notebook in your personal Google Drive to make edits.\n",
        "* Change your runtime type (under \"Runtime\") to GPU.\n",
        "* Go through all the steps in Task 0 to get set up with the first ASR task.\n",
        "* **Important:** ASR training, as in Task 0, will take close to **1.5 hours** for two epochs. Keep this in mind when scheduling your runs. You should consider saving the checkpoints from a training run if you want to use it for other experiments or for additional finetuning.\n"
      ]
    },
    {
      "cell_type": "markdown",
      "metadata": {
        "id": "b5qc5LC2cWtS"
      },
      "source": [
        "# Dependencies"
      ]
    },
    {
      "cell_type": "markdown",
      "metadata": {
        "id": "oTYjUyWirYR3"
      },
      "source": [
        "If you have any issues using `gdown`, the same data and config files are available directly via Google Drive [here](https://drive.google.com/drive/folders/1xQxvR9NRlwK-75KMd0i1y4Dy0fimTsM9).  "
      ]
    },
    {
      "cell_type": "code",
      "execution_count": null,
      "metadata": {
        "id": "etpTb5AW8uM0",
        "colab": {
          "base_uri": "https://localhost:8080/"
        },
        "outputId": "08d6e94f-c4aa-4b81-bc5f-42306af20cee"
      },
      "outputs": [
        {
          "output_type": "stream",
          "name": "stdout",
          "text": [
            "Downloading...\n",
            "From: https://drive.google.com/uc?id=16nfiMfbQ4ewD-qUpFsABzDrDOgVUSTby\n",
            "To: /content/hvb.zip\n",
            "100% 2.46G/2.46G [00:11<00:00, 207MB/s]\n",
            "mv: cannot move 'content/data' to '/content/data': Directory not empty\n",
            "Downloading...\n",
            "From: https://drive.google.com/uc?id=1a0EGlsLbXnGn1xwZoSqT0tcdAQ1L2nfd\n",
            "To: /content/train.py\n",
            "100% 18.3k/18.3k [00:00<00:00, 31.3MB/s]\n",
            "Downloading...\n",
            "From: https://drive.google.com/uc?id=1yCmjRbxXRxfEN5LXdnE1Zpl8ZOIzdrAO\n",
            "To: /content/train.yaml\n",
            "100% 12.1k/12.1k [00:00<00:00, 21.6MB/s]\n",
            "Downloading...\n",
            "From: https://drive.google.com/uc?id=1KHmdcLVFI9ontvGmi5J6vfaropGYuKcr\n",
            "To: /content/inference.yaml\n",
            "100% 4.96k/4.96k [00:00<00:00, 9.61MB/s]\n"
          ]
        }
      ],
      "source": [
        "# setup\n",
        "#!gdown 1oJh0U3g_bUx6UPX4xix2UHMVHeCE_H1y\n",
        "!gdown 16nfiMfbQ4ewD-qUpFsABzDrDOgVUSTby\n",
        "!unzip -q hvb.zip\n",
        "!mv content/data /content/\n",
        "!rm -r /content/content\n",
        "\n",
        "!gdown 1a0EGlsLbXnGn1xwZoSqT0tcdAQ1L2nfd # train.py\n",
        "!gdown 1yCmjRbxXRxfEN5LXdnE1Zpl8ZOIzdrAO # train.yaml\n",
        "!gdown 1KHmdcLVFI9ontvGmi5J6vfaropGYuKcr # inference.yaml\n",
        "\n",
        "!pip install speechbrain -q"
      ]
    },
    {
      "cell_type": "code",
      "execution_count": null,
      "metadata": {
        "id": "30NIWqcyAD-G"
      },
      "outputs": [],
      "source": [
        "\n",
        "import speechbrain as sb\n",
        "from speechbrain.pretrained import EncoderDecoderASR\n",
        "import json\n",
        "import torchaudio\n",
        "import torch\n",
        "from torch import nn\n",
        "from tqdm import tqdm\n",
        "from collections import Counter\n",
        "from IPython.display import Audio\n",
        "from scipy.io import wavfile\n",
        "\n",
        "device = 'cuda' if torch.cuda.is_available() else 'cpu'"
      ]
    },
    {
      "cell_type": "markdown",
      "metadata": {
        "id": "YwgCA2Oc9h_h"
      },
      "source": [
        "# Task 0: Evaluate a pretrained CRDNN model, further finetuned with HVB (5 points)\n",
        "\n",
        "We will first load a [SpeechBrain CRDNN model pretrained on LibriSpeech](https://huggingface.co/speechbrain/asr-crdnn-rnnlm-librispeech). SpeechBrain has some utils with built-in options to source pre-trained models from a repository on HuggingFace.\n",
        "\n",
        "In Task 0, you will first load this pretrained CRDNN model from HuggingFace and use it for inference on the first 500 examples from `test_manifest.json` (included within `hvb.zip` you have already downloaded earlier). Subsequently, you will fine tune this model on the HVB training dataset before reevaluating on the test examples and note the difference in performance."
      ]
    },
    {
      "cell_type": "code",
      "execution_count": null,
      "metadata": {
        "id": "bqTF_KNI_mGI"
      },
      "outputs": [],
      "source": [
        "crdnn = EncoderDecoderASR.from_hparams(\n",
        "    source='speechbrain/asr-crdnn-rnnlm-librispeech',\n",
        "    savedir='asr-crdnn-rnnlm-librispeech',\n",
        "    run_opts={'device': 'cuda'}\n",
        ")"
      ]
    },
    {
      "cell_type": "markdown",
      "metadata": {
        "id": "n9Z1gOWCJCCT"
      },
      "source": [
        "The manifests we prepared to use with SpeechBrain are jsons with the structure\n",
        "```\n",
        "{\n",
        "    \"15748\": {\n",
        "        \"wav\": \"/content/data/segments/15748.wav\",\n",
        "        \"length\": 1.86,\n",
        "        \"words\": \"WHAT DAY WOULD YOU LIKE FOR YOUR APPOINTMENT\"\n",
        "    },\n",
        "    ...\n",
        "}\n",
        "```\n",
        "\n",
        "We first load them and define a function to batch them into a format that our `EncoderDecoderASR` object can ingest:"
      ]
    },
    {
      "cell_type": "code",
      "execution_count": null,
      "metadata": {
        "id": "NH2kZ0PbAsb1"
      },
      "outputs": [],
      "source": [
        "TEST_SIZE = 500 # for faster processing\n",
        "\n",
        "with open('data/test_manifest.json', 'r') as f:\n",
        "    test_manifest = json.load(f)\n",
        "test_manifest = {\n",
        "    k: v for k, v in list(test_manifest.items())[:TEST_SIZE]\n",
        "}\n",
        "\n",
        "def batchify(manifest, batch_size):\n",
        "    keys = list(manifest.keys())\n",
        "    wav_paths = list(map(lambda x: x['wav'], manifest.values()))\n",
        "    iterable = zip(keys, wav_paths)\n",
        "    num_examples = len(manifest)\n",
        "    for i in range(0, num_examples, batch_size):\n",
        "        batch_wavs = nn.utils.rnn.pad_sequence([\n",
        "            torchaudio.load(path)[0].squeeze(0)\n",
        "            for path in wav_paths[i:min(i + batch_size, num_examples)]\n",
        "        ], batch_first=True)\n",
        "        batch_keys = keys[i:min(i + batch_size, num_examples)]\n",
        "        batch_wav_lens = torch.tensor([\n",
        "            manifest[key]['length'] for key in batch_keys\n",
        "        ])\n",
        "        batch_wav_lens = batch_wav_lens / batch_wav_lens.max()\n",
        "        yield batch_keys, batch_wavs, batch_wav_lens"
      ]
    },
    {
      "cell_type": "markdown",
      "metadata": {
        "id": "tdRtje1OLiG5"
      },
      "source": [
        "Next, we feed our test examples through the pretrained ASR model:"
      ]
    },
    {
      "cell_type": "code",
      "execution_count": null,
      "metadata": {
        "id": "0YCNyfAzFh-y"
      },
      "outputs": [],
      "source": [
        "true_dict = {key: test_manifest[key]['words'] for key in test_manifest}\n",
        "\n",
        "def inference(model, test_manifest, batch_size=8):\n",
        "    torch.cuda.empty_cache()\n",
        "    pred_dict = {}\n",
        "    for keys, wavs, wav_lens in tqdm(batchify(test_manifest, batch_size), total=round(len(test_manifest) / batch_size + 0.5)):\n",
        "        transcriptions, _ = model.transcribe_batch(wavs.to(device), wav_lens.to(device))\n",
        "        for key, transcription in zip(keys, transcriptions):\n",
        "            pred_dict[key] = transcription\n",
        "    return pred_dict\n",
        "\n"
      ]
    },
    {
      "cell_type": "code",
      "source": [
        "pred_dict = inference(crdnn, test_manifest)"
      ],
      "metadata": {
        "id": "-S7bbeOrs3de",
        "colab": {
          "base_uri": "https://localhost:8080/"
        },
        "outputId": "c3f78996-5e9f-4fa6-96d6-9ffcf0ff6eff"
      },
      "execution_count": null,
      "outputs": [
        {
          "output_type": "stream",
          "name": "stderr",
          "text": [
            "\r  0%|          | 0/63 [00:00<?, ?it/s]/usr/local/lib/python3.9/dist-packages/torch/functional.py:641: UserWarning: stft with return_complex=False is deprecated. In a future pytorch release, stft will return complex tensors for all inputs, and return_complex=False will raise an error.\n",
            "Note: you can still call torch.view_as_real on the complex output to recover the old return format. (Triggered internally at ../aten/src/ATen/native/SpectralOps.cpp:862.)\n",
            "  return _VF.stft(input, n_fft, hop_length, win_length, window,  # type: ignore[attr-defined]\n",
            "100%|██████████| 63/63 [03:45<00:00,  3.58s/it]\n"
          ]
        }
      ]
    },
    {
      "cell_type": "markdown",
      "metadata": {
        "id": "Yxyq8kjpmhR3"
      },
      "source": [
        "## Q1: Evaluate WER of pretrained model predictions (2 points)"
      ]
    },
    {
      "cell_type": "markdown",
      "metadata": {
        "id": "Dbnw0_ZKL9TQ"
      },
      "source": [
        "Check the word error rate on the first 200 test instances in `test_manifest.json`. Note that we want WERs, so we need to split our transcripts into lists of words.\n",
        "\n",
        "You don't need to implement anything new here. Just follow along and ensure you can run the code to obtain WER on the results you just generated."
      ]
    },
    {
      "cell_type": "code",
      "execution_count": null,
      "metadata": {
        "id": "IFnB0JOfPZoj"
      },
      "outputs": [],
      "source": [
        "# this data structure stores WER information we use later.\n",
        "details_by_utterance = sb.utils.edit_distance.wer_details_by_utterance(\n",
        "    {k: v.split() for k, v in true_dict.items()},\n",
        "    {k: v.split() for k, v in pred_dict.items()},\n",
        ")"
      ]
    },
    {
      "cell_type": "code",
      "execution_count": null,
      "metadata": {
        "id": "JU-xiNDdSabz",
        "colab": {
          "base_uri": "https://localhost:8080/"
        },
        "outputId": "ec45b268-78ed-4d67-efb8-6e292564cbdf"
      },
      "outputs": [
        {
          "output_type": "execute_result",
          "data": {
            "text/plain": [
              "{'WER': 75.84080717488789,\n",
              " 'SER': 87.8,\n",
              " 'num_edits': 2706,\n",
              " 'num_scored_tokens': 3568,\n",
              " 'num_erraneous_sents': 439,\n",
              " 'num_scored_sents': 500,\n",
              " 'num_absent_sents': 0,\n",
              " 'num_ref_sents': 500,\n",
              " 'insertions': 1127,\n",
              " 'deletions': 307,\n",
              " 'substitutions': 1272}"
            ]
          },
          "metadata": {},
          "execution_count": 8
        }
      ],
      "source": [
        "# word error rate (WER) summary using data structure we just created\n",
        "sb.utils.edit_distance.wer_summary(details_by_utterance)"
      ]
    },
    {
      "cell_type": "markdown",
      "metadata": {
        "id": "c0aOgXMKSowv"
      },
      "source": [
        "What is the WER value you obtain? Write it down in `README.txt` that you will upload on Moodle, along with your Colab notebook.\n",
        "\n",
        "We expect WER of this pretrained system to be somewhat high on HVB data (around 72%+ WER). That is really quite high! Note that we already re-sampled the audio to 16kHz to make the HVB audio features more similar to the training inputs of the pre-trained model.\n",
        "\n",
        "Often times ASR errors have specific error modes or correlations -- let's see if we can understand where our pretrained system is failing on HVB data. We can start to investigate where our system is making mistakes by checking some of the top missed utterances."
      ]
    },
    {
      "cell_type": "code",
      "execution_count": null,
      "metadata": {
        "id": "NCOAzZofSoOH",
        "colab": {
          "base_uri": "https://localhost:8080/"
        },
        "outputId": "e4384d09-a2bc-408c-a6cb-1537340a4d5d"
      },
      "outputs": [
        {
          "output_type": "stream",
          "name": "stdout",
          "text": [
            "3015: 6900.0\n",
            "\tTrue: ZERO\n",
            "\tPred: AIN'T IT OAT OAT OAT OAT OAK OAT OAT OAT OAT OAT OAT OAT OAT OAT OAT OAT OAT OAT OAT OAT OAT OAT OAT OAT OAT OAT OAT OAT OAT OAT OAT OAT OAT OAT OAT OAT OAT OAT OAT OAT OAT OAT OAT OAT OAT OAT OAT OAT OAT OAT OAT OAT OAT OAT OAT OAT OAT OAT OAT OAT OAT OAT OAT OAT OAT OAT OAT\n",
            "5788: 2633.3333333333335\n",
            "\tTrue: YOU AS WELL\n",
            "\tPred: YOU'RE THE WEST WEST WEST WEST WEST WEST WEST WEST WEST WEST WEST WEST WEST WEST WEST WEST WEST WEST WEST WEST WEST WEST WEST WEST WEST WEST WEST WEST WEST WEST WEST WEST WEST WEST WEST WEST WEST WEST WEST WEST WEST WEST WEST WEST WEST WEST WEST WEST WEST WEST WEST WEST WEST WEST WEST WEST WEST WEST WEST WEST WEST WEST WEST WEST WEST WEST WEST WEST WEST WEST WEST WEST WEST WEST WEST WEST WE\n",
            "1130: 2400.0\n",
            "\tTrue: ALRIGHT\n",
            "\tPred: RIPE RIGHT RIPE RIPE RIPE RIPE RIPE RIPE RIPE RIPE RIPE RIPE RIPE RIPE RIPE RIPE RIPE RIPE RIPE RIPE RIPE RIPE RIPE RIPE\n",
            "8731: 2100.0\n",
            "\tTrue: ALRIGHT\n",
            "\tPred: HE ARRAYED ARRAYED ARRAYED ARRAYED ARRAYED ARRAYED ARRAYED ARRAYED ARRAYED ARRAYED ARRAYED ARRAYED ARRAYED ARRAYED ARRAYED ARRAYED ARRAYED ARRAYED ARRAYED ARRAYED\n",
            "8211: 1466.6666666666667\n",
            "\tTrue: HMM TWO FIFTEEN\n",
            "\tPred: YOU AIN'T PAINT PAINT PAINT PAINT PAINT PAINT PAINT PAINT PAINT PAINT PAINT PAINT PAINT PAINT PAINT PAINT PAINT PAINT PAINT PAINT PAINT PAINT PAINT PAINT PAINT PAINT PAINT PAINT PAINT PAINT PAINT PAINT PAINT PAINT PAINT PAINT PAINT PAINT PAINT PAINT PAINT PAINT\n",
            "6150: 1275.0\n",
            "\tTrue: MY NAME IS ELIZABETH\n",
            "\tPred: ELIZABETH SAID ELIZABETH IT'S IT'S IT IT'S IT IT'S IT IT'S IT IT'S IT IT'S IT IT'S IT IT'S IT IT'S IT IT'S IT IT'S IT IT'S IT IT'S IT IT'S IT IT'S IT IT'S IT IT'S IT IT'S IT IT'S IT IT'S IT IT'S IT IT'S IT IT'S IT IT\n",
            "21066: 1250.0\n",
            "\tTrue: FIRST STREET\n",
            "\tPred: BURST DRIFT DRIFT DRIFT DRIFT DRIFT DRIFT DRIFT DRIFT DRIFT DRIFT DRIFT DRIFT DRIFT DRIFT DRIFT DRIFT DRIFT DRIFT DRIFT DRIFT DRIFT DRIFT DRIFT DRIFT\n",
            "12742: 1033.3333333333333\n",
            "\tTrue: NO THAT'S IT\n",
            "\tPred: NOW I DIDN'T I COULDN'T I COULDN'T I COULDN'T I COULDN'T I COULDN'T I COULDN'T I COULDN'T I COULDN'T I COULDN'T I COULDN'T I COULDN'T I COULDN'T I COULDN'T I COULDN\n",
            "5040: 966.6666666666666\n",
            "\tTrue: OKAY ONE HUNDRED AND THIRTY <UNK>\n",
            "\tPred: ONE HUNDRED THIRTY THIRTY THIRTY THIRTY THIRTY THIRTY THIRTY THIRTY THIRTY THIRTY THIRTY THIRTY THIRTY THIRTY THIRTY THIRTY THIRTY THIRTY THIRTY THIRTY THIRTY THIRTY THIRTY THIRTY THIRTY THIRTY THIRTY THIRTY THIRTY THIRTY THIRTY THIRTY THIRTY THIRTY THIRTY THIRTY THIRTY THIRTY THIRTY THIRTY THIRTY THIRTY THIRTY THIRTY THIRTY THIRTY THIRTY THIRTY THIRTY THIRTY THIRTY THIRTY THIRTY THIRTY THIRTY THIRTY THIRTY THIRT\n",
            "8336: 850.0\n",
            "\tTrue: TWO SEVENTEEN\n",
            "\tPred: FELT IT THROBBED IT IT FELT IT THROBBED IT IT FELT IT THROBBED IT IT FELT IT\n"
          ]
        }
      ],
      "source": [
        "def summarize(detail_dict, true_dict, pred_dict):\n",
        "    print(f\"{detail_dict['key']}: {detail_dict['WER']}\")\n",
        "    print(f\"\\tTrue: {true_dict[detail_dict['key']]}\")\n",
        "    print(f\"\\tPred: {pred_dict[detail_dict['key']]}\")\n",
        "\n",
        "for wer_dict in sb.utils.edit_distance.top_wer_utts(details_by_utterance, 10)[0]:\n",
        "    summarize(wer_dict, true_dict, pred_dict)"
      ]
    },
    {
      "cell_type": "markdown",
      "metadata": {
        "id": "RrJ-gKFXUHEf"
      },
      "source": [
        "Seems that our predictions keep outputting the same word over and over. Let's see why."
      ]
    },
    {
      "cell_type": "markdown",
      "metadata": {
        "id": "LrHqM-WfzFes"
      },
      "source": [
        "Select some examples the model wrongly predicts, and try to build a hypothesis around what in the data is associated with the model making mistakes. Examples of mistake types include:\n",
        "- Repeated wrong word\n",
        "- A few correct words but clearly wrong transcript\n",
        "\n",
        "Give examples of at least 3 audio files and different kinds of errors you have identified in these audio files. Add this to `README.txt`.\n"
      ]
    },
    {
      "cell_type": "markdown",
      "metadata": {
        "id": "8q3EtR_WWBjA"
      },
      "source": [
        "Here's a code snippet to help you get started."
      ]
    },
    {
      "cell_type": "code",
      "execution_count": null,
      "metadata": {
        "id": "eVNDEHXvWF-D",
        "colab": {
          "base_uri": "https://localhost:8080/",
          "height": 127
        },
        "outputId": "095d4a2e-2ece-49d3-a0e9-9f4c1dc4b1f5"
      },
      "outputs": [
        {
          "output_type": "stream",
          "name": "stdout",
          "text": [
            "15748: 37.5\n",
            "\tTrue: WHAT DAY WOULD YOU LIKE FOR YOUR APPOINTMENT\n",
            "\tPred: WHAT DAY WOULD YOU LIKELY APPOINT APPOINTMENT\n"
          ]
        },
        {
          "output_type": "execute_result",
          "data": {
            "text/plain": [
              "<IPython.lib.display.Audio object>"
            ],
            "text/html": [
              "\n",
              "                <audio  controls=\"controls\" >\n",
              "                    <source src=\"data:audio/x-wav;base64,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\" type=\"audio/x-wav\" />\n",
              "                    Your browser does not support the audio element.\n",
              "                </audio>\n",
              "              "
            ]
          },
          "metadata": {},
          "execution_count": 10
        }
      ],
      "source": [
        "example = details_by_utterance[0]\n",
        "summarize(example, true_dict, pred_dict)\n",
        "Audio(test_manifest[example['key']]['wav'])"
      ]
    },
    {
      "cell_type": "code",
      "source": [
        "example = details_by_utterance[1]\n",
        "summarize(example, true_dict, pred_dict)\n",
        "Audio(test_manifest[example['key']]['wav'])"
      ],
      "metadata": {
        "colab": {
          "base_uri": "https://localhost:8080/",
          "height": 127
        },
        "id": "MVQnM-iR76wA",
        "outputId": "a871f01d-8fbb-46ab-b922-6742a3a694f8"
      },
      "execution_count": null,
      "outputs": [
        {
          "output_type": "stream",
          "name": "stdout",
          "text": [
            "6297: 100.0\n",
            "\tTrue: UH CHECKING UH FROM MY CHECKING ACCOUNT\n",
            "\tPred: I'D HIDDEN AH FROM A KICKING A COW\n"
          ]
        },
        {
          "output_type": "execute_result",
          "data": {
            "text/plain": [
              "<IPython.lib.display.Audio object>"
            ],
            "text/html": [
              "\n",
              "                <audio  controls=\"controls\" >\n",
              "                    <source src=\"data:audio/x-wav;base64,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\" type=\"audio/x-wav\" />\n",
              "                    Your browser does not support the audio element.\n",
              "                </audio>\n",
              "              "
            ]
          },
          "metadata": {},
          "execution_count": 11
        }
      ]
    },
    {
      "cell_type": "code",
      "source": [
        "example = details_by_utterance[3]\n",
        "summarize(example, true_dict, pred_dict)\n",
        "Audio(test_manifest[example['key']]['wav'])"
      ],
      "metadata": {
        "colab": {
          "base_uri": "https://localhost:8080/",
          "height": 127
        },
        "id": "BcPm3sv978Sc",
        "outputId": "f7edd8fc-875c-4cdd-ddf2-ea8e19ddc62c"
      },
      "execution_count": null,
      "outputs": [
        {
          "output_type": "stream",
          "name": "stdout",
          "text": [
            "14654: 12.5\n",
            "\tTrue: THANK YOU FOR CALLING HAVE A GREAT DAY\n",
            "\tPred: THANK YOU FOR CALLING HAVE A GREAT DAY DAY\n"
          ]
        },
        {
          "output_type": "execute_result",
          "data": {
            "text/plain": [
              "<IPython.lib.display.Audio object>"
            ],
            "text/html": [
              "\n",
              "                <audio  controls=\"controls\" >\n",
              "                    <source src=\"data:audio/x-wav;base64,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\" type=\"audio/x-wav\" />\n",
              "                    Your browser does not support the audio element.\n",
              "                </audio>\n",
              "              "
            ]
          },
          "metadata": {},
          "execution_count": 12
        }
      ]
    },
    {
      "cell_type": "markdown",
      "metadata": {
        "id": "A4OjAs6oWnK-"
      },
      "source": [
        "(Hint: In our initial checks, poor audio quality seems to be associated with repeated word errors.)"
      ]
    },
    {
      "cell_type": "markdown",
      "metadata": {
        "id": "iT62DPlesXhK"
      },
      "source": [
        "## Q2: Finetune the pretrained CRDNN model (2 points)"
      ]
    },
    {
      "cell_type": "markdown",
      "metadata": {
        "id": "3Bm4ZQZQmJU_"
      },
      "source": [
        "The performance of this pretrained model is disappointing. However, the model was trained on a different data domain than call-center transcripts as in HVB. To see if we can derive better performance on our dataset, we fine-tune the pretrained model with HVB training data and test it. For this experiment, you won't need to modify it much. Just get training working, and you can try adjusting some training or decoding parameters as you like. The key thing to learn here is simply developing an understanding of how things work when finetuning on a new corpus using SpeechBrain. (This is a state-of-the-art approach to building and adjusting ASR models that might be used in industry projects.)\n",
        "\n",
        "We've set up the training script, experiment yaml, and inference yaml for you, but we encourage you to take a look at how it works (and most importantly what a neat ML experiment yaml file looks like). Training this model for 2 epochs on Colab GPUs should take around **1.5 hours**.\n",
        "\n",
        "The model will save checkpoints during training which you can specify for use during inference / testing below. That means you should be able to use a fine-tuned version of the model, even if you don't wait the full time for the model to completely train. It is okay to submit the homework with your fine tuning model partially trained, but not 2 full epochs."
      ]
    },
    {
      "cell_type": "code",
      "execution_count": null,
      "metadata": {
        "id": "iM2jQrwTmIw2",
        "colab": {
          "base_uri": "https://localhost:8080/"
        },
        "outputId": "be72203f-494e-4741-b096-6e57c9bafc03"
      },
      "outputs": [
        {
          "output_type": "stream",
          "name": "stdout",
          "text": [
            "Downloading...\n",
            "From: https://drive.google.com/uc?id=1v_3Kl8OrUd6_1_D0ZGoYVFEuOKhZ7YMo\n",
            "To: /content/train.py\n",
            "100% 18.3k/18.3k [00:00<00:00, 31.0MB/s]\n",
            "Downloading...\n",
            "From: https://drive.google.com/uc?id=17cQIpx5kLLMCD23EDaE0EYg2E9LPqMCF\n",
            "To: /content/train.yaml\n",
            "100% 12.1k/12.1k [00:00<00:00, 24.1MB/s]\n",
            "Downloading...\n",
            "From: https://drive.google.com/uc?id=1CWYOD2PC97gXguW4krc9122HKAraHkYS\n",
            "To: /content/inference.yaml\n",
            "100% 4.96k/4.96k [00:00<00:00, 9.98MB/s]\n"
          ]
        }
      ],
      "source": [
        "# this downloads the training and config files for our fine tuning setup\n",
        "!gdown 1v_3Kl8OrUd6_1_D0ZGoYVFEuOKhZ7YMo # train.py\n",
        "!gdown 17cQIpx5kLLMCD23EDaE0EYg2E9LPqMCF # train.yaml\n",
        "!gdown 1CWYOD2PC97gXguW4krc9122HKAraHkYS # inference.yaml"
      ]
    },
    {
      "cell_type": "markdown",
      "metadata": {
        "id": "qg-TThsjy2Ul"
      },
      "source": [
        "**Finetuning with HVB data**:\n",
        "\n",
        "There are two files you've just downloaded which specify the architecture to train, and the main training loop for improving the neural net ASR system.\n",
        "\n",
        "- `train.yaml` is the yaml config file SpeechBrain uses to specify both the network / ASR system architecture, as well as the parameters of training procedures, loss functions, datasets, etc. This is a good starting point for understanding the architecture of the ASR system you're working with. Note that you are not able to modify much about the ASR network architecture as it needs to match what we load from file. You can adjust things like loss function weights, learning rate, and training time to adjust the fine tuning setup.\n",
        "- `train.py` specifies the main training loop for fitting the acoustic model. You do not need to modify this file.\n",
        "\n",
        "Edit the training yaml file and run the training loop as shown below. Finetune with modified hyperparameters that worked best for you. Copy/paste train loss, valid loss, valid CER and valid WER from your training output in `README.txt`, along with the epoch number. (With using `train.yaml` as-is, we obtained training and validation loss < 1.75 after epoch 1.)\n",
        "\n"
      ]
    },
    {
      "cell_type": "code",
      "execution_count": null,
      "metadata": {
        "id": "HpCTGMTGohrq",
        "colab": {
          "base_uri": "https://localhost:8080/"
        },
        "outputId": "1eaaae50-995c-4de3-d67a-168f416b23e3"
      },
      "outputs": [
        {
          "output_type": "stream",
          "name": "stdout",
          "text": [
            "./data/rirs_noises.zip exists. Skipping download\n",
            "Extracting ./data/rirs_noises.zip to ./data\n",
            "Traceback (most recent call last):\n",
            "  File \"/content/train.py\", line 417, in <module>\n",
            "    hparams = load_hyperpyyaml(fin, overrides)\n",
            "  File \"/usr/local/lib/python3.9/dist-packages/hyperpyyaml/core.py\", line 188, in load_hyperpyyaml\n",
            "    hparams = yaml.load(yaml_stream, Loader=loader)\n",
            "  File \"/usr/local/lib/python3.9/dist-packages/yaml/__init__.py\", line 81, in load\n",
            "    return loader.get_single_data()\n",
            "  File \"/usr/local/lib/python3.9/dist-packages/ruamel/yaml/constructor.py\", line 121, in get_single_data\n",
            "    return self.construct_document(node)\n",
            "  File \"/usr/local/lib/python3.9/dist-packages/ruamel/yaml/constructor.py\", line 126, in construct_document\n",
            "    data = self.construct_object(node)\n",
            "  File \"/usr/local/lib/python3.9/dist-packages/ruamel/yaml/constructor.py\", line 154, in construct_object\n",
            "    data = self.construct_non_recursive_object(node)\n",
            "  File \"/usr/local/lib/python3.9/dist-packages/ruamel/yaml/constructor.py\", line 196, in construct_non_recursive_object\n",
            "    for _dummy in generator:\n",
            "  File \"/usr/local/lib/python3.9/dist-packages/ruamel/yaml/constructor.py\", line 674, in construct_yaml_map\n",
            "    value = self.construct_mapping(node)\n",
            "  File \"/usr/local/lib/python3.9/dist-packages/ruamel/yaml/constructor.py\", line 445, in construct_mapping\n",
            "    return BaseConstructor.construct_mapping(self, node, deep=deep)\n",
            "  File \"/usr/local/lib/python3.9/dist-packages/ruamel/yaml/constructor.py\", line 261, in construct_mapping\n",
            "    value = self.construct_object(value_node, deep=deep)\n",
            "  File \"/usr/local/lib/python3.9/dist-packages/ruamel/yaml/constructor.py\", line 154, in construct_object\n",
            "    data = self.construct_non_recursive_object(node)\n",
            "  File \"/usr/local/lib/python3.9/dist-packages/ruamel/yaml/constructor.py\", line 191, in construct_non_recursive_object\n",
            "    data = constructor(self, tag_suffix, node)\n",
            "  File \"/usr/local/lib/python3.9/dist-packages/hyperpyyaml/core.py\", line 481, in _construct_object\n",
            "    return callable_(*args, **kwargs)\n",
            "  File \"/usr/local/lib/python3.9/dist-packages/speechbrain/lobes/augment.py\", line 384, in __init__\n",
            "    _prepare_openrir(\n",
            "  File \"/usr/local/lib/python3.9/dist-packages/speechbrain/lobes/augment.py\", line 472, in _prepare_openrir\n",
            "    download_file(OPENRIR_URL, filepath, unpack=True)\n",
            "  File \"/usr/local/lib/python3.9/dist-packages/speechbrain/utils/data_utils.py\", line 342, in download_file\n",
            "    shutil.unpack_archive(dest, dest_unpack)\n",
            "  File \"/usr/lib/python3.9/shutil.py\", line 1271, in unpack_archive\n",
            "    func(filename, extract_dir, **kwargs)\n",
            "  File \"/usr/lib/python3.9/shutil.py\", line 1170, in _unpack_zipfile\n",
            "    raise ReadError(\"%s is not a zip file\" % filename)\n",
            "shutil.ReadError: ./data/rirs_noises.zip is not a zip file\n"
          ]
        }
      ],
      "source": [
        "torch.cuda.empty_cache()\n",
        "\n",
        "!python train.py train.yaml --batch_size=4\n",
        "# OOM on batch_size=5"
      ]
    },
    {
      "cell_type": "markdown",
      "source": [
        "## Q3: Evaluate your finetuned model (1 point)"
      ],
      "metadata": {
        "id": "QLXP3qH_AxCN"
      }
    },
    {
      "cell_type": "markdown",
      "metadata": {
        "id": "bOM1BF3TtRB0"
      },
      "source": [
        "To run inference, you need to use a different yaml to be compatible with the `EncoderDecoderASR` class.\n",
        "\n",
        "NOTE: You need to set your checkpoint path in a few locations to make this work. Be careful your paths are set before other debugging if things aren't working (e.g. trying to download from HuggingFace)\n",
        "\n",
        "To get inference working there are three steps:\n",
        "1. Note the directory that your checkpoints are saved in (under `./results/CRDNN_BPE_960h_LM/2602/save/{your ckpt here}`)\n",
        "2. Paste this directory into the ckptdir entry in `inference.yaml`\n",
        "3. Paste this directory after the `ckpt_path = ` in the below cell.\n",
        "\n",
        "You can then use the same inference procedure as in Q1.\n",
        "NOTE: set the `ckpt_path` below AND change the path in `inference.yaml` (by modifying `ckptdir` to point to the desired checkpoint) before or after it is copied into your checkpoint path.\n"
      ]
    },
    {
      "cell_type": "code",
      "execution_count": null,
      "metadata": {
        "id": "S3ScTzkkqMYY"
      },
      "outputs": [],
      "source": [
        "ckpt_path = \"/content/results/CRDNN_BPE_960h_LM/2602/save/CKPT+2023-04-11+12-49-50+00\"\n",
        "!cp inference.yaml {ckpt_path}"
      ]
    },
    {
      "cell_type": "markdown",
      "metadata": {
        "id": "09717HkzuXWR"
      },
      "source": [
        "Evaluate your finetuned model on the first 50 test sentences in `test_manifest.json`. Generate predictions by setting up a model object, and calling `inference()`. Remember your checkpoint paths must be set correctly in the copy of inference.yaml read to run inference. For this step simply populate pred_dict with inferences from your test subset. Write down the WER in `README.txt`. Also compute the WER from the pretrained model for this test subset of size 50 and write it down in `README.txt`.\n",
        "\n",
        "NOTE: Running inference on ~50 utterances might require ~15 minutes of computation on a Colab CPU. The code below uses CPU inference as we could not get checkpoint-loaded DNNs to work with SpeechBrain's inference on the GPU (you are free to try this)."
      ]
    },
    {
      "cell_type": "code",
      "execution_count": null,
      "metadata": {
        "id": "Ylj89CJOsm91",
        "colab": {
          "base_uri": "https://localhost:8080/",
          "height": 398
        },
        "outputId": "c7cd9e1c-d427-4206-9924-e95d34535f6c"
      },
      "outputs": [
        {
          "output_type": "error",
          "ename": "HFValidationError",
          "evalue": "ignored",
          "traceback": [
            "\u001b[0;31m---------------------------------------------------------------------------\u001b[0m",
            "\u001b[0;31mHFValidationError\u001b[0m                         Traceback (most recent call last)",
            "\u001b[0;32m<ipython-input-29-5ef8cbd04d79>\u001b[0m in \u001b[0;36m<cell line: 2>\u001b[0;34m()\u001b[0m\n\u001b[1;32m      1\u001b[0m \u001b[0mdevice\u001b[0m \u001b[0;34m=\u001b[0m \u001b[0;34m'cpu'\u001b[0m\u001b[0;34m\u001b[0m\u001b[0;34m\u001b[0m\u001b[0m\n\u001b[0;32m----> 2\u001b[0;31m our_model = EncoderDecoderASR.from_hparams(\n\u001b[0m\u001b[1;32m      3\u001b[0m     \u001b[0msource\u001b[0m\u001b[0;34m=\u001b[0m\u001b[0mckpt_path\u001b[0m\u001b[0;34m,\u001b[0m\u001b[0;34m\u001b[0m\u001b[0;34m\u001b[0m\u001b[0m\n\u001b[1;32m      4\u001b[0m     \u001b[0mhparams_file\u001b[0m\u001b[0;34m=\u001b[0m\u001b[0;34m'inference.yaml'\u001b[0m\u001b[0;34m,\u001b[0m\u001b[0;34m\u001b[0m\u001b[0;34m\u001b[0m\u001b[0m\n\u001b[1;32m      5\u001b[0m     \u001b[0msavedir\u001b[0m\u001b[0;34m=\u001b[0m\u001b[0;34m\"our_ckpt\"\u001b[0m\u001b[0;34m,\u001b[0m\u001b[0;34m\u001b[0m\u001b[0;34m\u001b[0m\u001b[0m\n",
            "\u001b[0;32m/usr/local/lib/python3.9/dist-packages/speechbrain/pretrained/interfaces.py\u001b[0m in \u001b[0;36mfrom_hparams\u001b[0;34m(cls, source, hparams_file, pymodule_file, overrides, savedir, use_auth_token, revision, download_only, **kwargs)\u001b[0m\n\u001b[1;32m    403\u001b[0m         \u001b[0mpretrainer\u001b[0m\u001b[0;34m.\u001b[0m\u001b[0mset_collect_in\u001b[0m\u001b[0;34m(\u001b[0m\u001b[0msavedir\u001b[0m\u001b[0;34m)\u001b[0m\u001b[0;34m\u001b[0m\u001b[0;34m\u001b[0m\u001b[0m\n\u001b[1;32m    404\u001b[0m         \u001b[0;31m# For distributed setups, have this here:\u001b[0m\u001b[0;34m\u001b[0m\u001b[0;34m\u001b[0m\u001b[0m\n\u001b[0;32m--> 405\u001b[0;31m         \u001b[0mrun_on_main\u001b[0m\u001b[0;34m(\u001b[0m\u001b[0mpretrainer\u001b[0m\u001b[0;34m.\u001b[0m\u001b[0mcollect_files\u001b[0m\u001b[0;34m,\u001b[0m \u001b[0mkwargs\u001b[0m\u001b[0;34m=\u001b[0m\u001b[0;34m{\u001b[0m\u001b[0;34m\"default_source\"\u001b[0m\u001b[0;34m:\u001b[0m \u001b[0msource\u001b[0m\u001b[0;34m}\u001b[0m\u001b[0;34m)\u001b[0m\u001b[0;34m\u001b[0m\u001b[0;34m\u001b[0m\u001b[0m\n\u001b[0m\u001b[1;32m    406\u001b[0m         \u001b[0;31m# Load on the CPU. Later the params can be moved elsewhere by specifying\u001b[0m\u001b[0;34m\u001b[0m\u001b[0;34m\u001b[0m\u001b[0m\n\u001b[1;32m    407\u001b[0m         \u001b[0;32mif\u001b[0m \u001b[0;32mnot\u001b[0m \u001b[0mdownload_only\u001b[0m\u001b[0;34m:\u001b[0m\u001b[0;34m\u001b[0m\u001b[0;34m\u001b[0m\u001b[0m\n",
            "\u001b[0;32m/usr/local/lib/python3.9/dist-packages/speechbrain/utils/distributed.py\u001b[0m in \u001b[0;36mrun_on_main\u001b[0;34m(func, args, kwargs, post_func, post_args, post_kwargs, run_post_on_main)\u001b[0m\n\u001b[1;32m     59\u001b[0m         \u001b[0;31m# Main comes here\u001b[0m\u001b[0;34m\u001b[0m\u001b[0;34m\u001b[0m\u001b[0m\n\u001b[1;32m     60\u001b[0m         \u001b[0;32mtry\u001b[0m\u001b[0;34m:\u001b[0m\u001b[0;34m\u001b[0m\u001b[0;34m\u001b[0m\u001b[0m\n\u001b[0;32m---> 61\u001b[0;31m             \u001b[0mfunc\u001b[0m\u001b[0;34m(\u001b[0m\u001b[0;34m*\u001b[0m\u001b[0margs\u001b[0m\u001b[0;34m,\u001b[0m \u001b[0;34m**\u001b[0m\u001b[0mkwargs\u001b[0m\u001b[0;34m)\u001b[0m\u001b[0;34m\u001b[0m\u001b[0;34m\u001b[0m\u001b[0m\n\u001b[0m\u001b[1;32m     62\u001b[0m         \u001b[0;32mfinally\u001b[0m\u001b[0;34m:\u001b[0m\u001b[0;34m\u001b[0m\u001b[0;34m\u001b[0m\u001b[0m\n\u001b[1;32m     63\u001b[0m             \u001b[0mddp_barrier\u001b[0m\u001b[0;34m(\u001b[0m\u001b[0;34m)\u001b[0m\u001b[0;34m\u001b[0m\u001b[0;34m\u001b[0m\u001b[0m\n",
            "\u001b[0;32m/usr/local/lib/python3.9/dist-packages/speechbrain/utils/parameter_transfer.py\u001b[0m in \u001b[0;36mcollect_files\u001b[0;34m(self, default_source)\u001b[0m\n\u001b[1;32m    200\u001b[0m                     \u001b[0;34m\"and no default_source given!\"\u001b[0m\u001b[0;34m\u001b[0m\u001b[0;34m\u001b[0m\u001b[0m\n\u001b[1;32m    201\u001b[0m                 )\n\u001b[0;32m--> 202\u001b[0;31m             path = fetch(\n\u001b[0m\u001b[1;32m    203\u001b[0m                 \u001b[0mfilename\u001b[0m\u001b[0;34m=\u001b[0m\u001b[0mfilename\u001b[0m\u001b[0;34m,\u001b[0m\u001b[0;34m\u001b[0m\u001b[0;34m\u001b[0m\u001b[0m\n\u001b[1;32m    204\u001b[0m                 \u001b[0msource\u001b[0m\u001b[0;34m=\u001b[0m\u001b[0msource\u001b[0m\u001b[0;34m,\u001b[0m\u001b[0;34m\u001b[0m\u001b[0;34m\u001b[0m\u001b[0m\n",
            "\u001b[0;32m/usr/local/lib/python3.9/dist-packages/speechbrain/pretrained/fetching.py\u001b[0m in \u001b[0;36mfetch\u001b[0;34m(filename, source, savedir, overwrite, save_filename, use_auth_token, revision)\u001b[0m\n\u001b[1;32m    118\u001b[0m         \u001b[0mlogger\u001b[0m\u001b[0;34m.\u001b[0m\u001b[0minfo\u001b[0m\u001b[0;34m(\u001b[0m\u001b[0mMSG\u001b[0m\u001b[0;34m)\u001b[0m\u001b[0;34m\u001b[0m\u001b[0;34m\u001b[0m\u001b[0m\n\u001b[1;32m    119\u001b[0m         \u001b[0;32mtry\u001b[0m\u001b[0;34m:\u001b[0m\u001b[0;34m\u001b[0m\u001b[0;34m\u001b[0m\u001b[0m\n\u001b[0;32m--> 120\u001b[0;31m             fetched_file = huggingface_hub.hf_hub_download(\n\u001b[0m\u001b[1;32m    121\u001b[0m                 \u001b[0mrepo_id\u001b[0m\u001b[0;34m=\u001b[0m\u001b[0msource\u001b[0m\u001b[0;34m,\u001b[0m\u001b[0;34m\u001b[0m\u001b[0;34m\u001b[0m\u001b[0m\n\u001b[1;32m    122\u001b[0m                 \u001b[0mfilename\u001b[0m\u001b[0;34m=\u001b[0m\u001b[0mfilename\u001b[0m\u001b[0;34m,\u001b[0m\u001b[0;34m\u001b[0m\u001b[0;34m\u001b[0m\u001b[0m\n",
            "\u001b[0;32m/usr/local/lib/python3.9/dist-packages/huggingface_hub/utils/_validators.py\u001b[0m in \u001b[0;36m_inner_fn\u001b[0;34m(*args, **kwargs)\u001b[0m\n\u001b[1;32m    110\u001b[0m         ):\n\u001b[1;32m    111\u001b[0m             \u001b[0;32mif\u001b[0m \u001b[0marg_name\u001b[0m \u001b[0;32min\u001b[0m \u001b[0;34m[\u001b[0m\u001b[0;34m\"repo_id\"\u001b[0m\u001b[0;34m,\u001b[0m \u001b[0;34m\"from_id\"\u001b[0m\u001b[0;34m,\u001b[0m \u001b[0;34m\"to_id\"\u001b[0m\u001b[0;34m]\u001b[0m\u001b[0;34m:\u001b[0m\u001b[0;34m\u001b[0m\u001b[0;34m\u001b[0m\u001b[0m\n\u001b[0;32m--> 112\u001b[0;31m                 \u001b[0mvalidate_repo_id\u001b[0m\u001b[0;34m(\u001b[0m\u001b[0marg_value\u001b[0m\u001b[0;34m)\u001b[0m\u001b[0;34m\u001b[0m\u001b[0;34m\u001b[0m\u001b[0m\n\u001b[0m\u001b[1;32m    113\u001b[0m \u001b[0;34m\u001b[0m\u001b[0m\n\u001b[1;32m    114\u001b[0m             \u001b[0;32melif\u001b[0m \u001b[0marg_name\u001b[0m \u001b[0;34m==\u001b[0m \u001b[0;34m\"token\"\u001b[0m \u001b[0;32mand\u001b[0m \u001b[0marg_value\u001b[0m \u001b[0;32mis\u001b[0m \u001b[0;32mnot\u001b[0m \u001b[0;32mNone\u001b[0m\u001b[0;34m:\u001b[0m\u001b[0;34m\u001b[0m\u001b[0;34m\u001b[0m\u001b[0m\n",
            "\u001b[0;32m/usr/local/lib/python3.9/dist-packages/huggingface_hub/utils/_validators.py\u001b[0m in \u001b[0;36mvalidate_repo_id\u001b[0;34m(repo_id)\u001b[0m\n\u001b[1;32m    158\u001b[0m \u001b[0;34m\u001b[0m\u001b[0m\n\u001b[1;32m    159\u001b[0m     \u001b[0;32mif\u001b[0m \u001b[0mrepo_id\u001b[0m\u001b[0;34m.\u001b[0m\u001b[0mcount\u001b[0m\u001b[0;34m(\u001b[0m\u001b[0;34m\"/\"\u001b[0m\u001b[0;34m)\u001b[0m \u001b[0;34m>\u001b[0m \u001b[0;36m1\u001b[0m\u001b[0;34m:\u001b[0m\u001b[0;34m\u001b[0m\u001b[0;34m\u001b[0m\u001b[0m\n\u001b[0;32m--> 160\u001b[0;31m         raise HFValidationError(\n\u001b[0m\u001b[1;32m    161\u001b[0m             \u001b[0;34m\"Repo id must be in the form 'repo_name' or 'namespace/repo_name':\"\u001b[0m\u001b[0;34m\u001b[0m\u001b[0;34m\u001b[0m\u001b[0m\n\u001b[1;32m    162\u001b[0m             \u001b[0;34mf\" '{repo_id}'. Use `repo_type` argument if needed.\"\u001b[0m\u001b[0;34m\u001b[0m\u001b[0;34m\u001b[0m\u001b[0m\n",
            "\u001b[0;31mHFValidationError\u001b[0m: Repo id must be in the form 'repo_name' or 'namespace/repo_name': '/content/results/CRDNN_BPE_960h_LM/2602/save/CKPT+2022-05-03+02-52-21+00'. Use `repo_type` argument if needed."
          ]
        }
      ],
      "source": [
        "device = 'cpu'\n",
        "our_model = EncoderDecoderASR.from_hparams(\n",
        "    source=ckpt_path,\n",
        "    hparams_file='inference.yaml',\n",
        "    savedir=\"our_ckpt\",\n",
        "    run_opts={'device': device}\n",
        ")"
      ]
    },
    {
      "cell_type": "code",
      "source": [
        "TEST_SIZE = 50\n",
        "with open('data/test_manifest.json', 'r') as f:\n",
        "    test_manifest = json.load(f)\n",
        "test_manifest = {k: v for k, v in list(test_manifest.items())[:TEST_SIZE]}\n",
        "pred_dict = inference(our_model.to(device), test_manifest)\n"
      ],
      "metadata": {
        "id": "9j2daItrFBMA"
      },
      "execution_count": null,
      "outputs": []
    },
    {
      "cell_type": "markdown",
      "source": [
        "# Task 1: Train a sentiment detection model (20 points)\n"
      ],
      "metadata": {
        "id": "p5PcGftQGwGo"
      }
    },
    {
      "cell_type": "markdown",
      "source": [
        "Apart from the audio files and transcriptions, the HVB corpus also comes with annotations for intent, sentiment/emotion and dialog actions. Use the commands below to download `transcript.zip` and `hvb-audio.zip`."
      ],
      "metadata": {
        "id": "wdkuAs2OG276"
      }
    },
    {
      "cell_type": "code",
      "source": [
        "!gdown 1-s2e8dZYSjhVgfo_TL0V_89RZVhGnZ1Y #transcript.zip\n",
        "!unzip -q transcript.zip\n",
        "\n",
        "!gdown 1ChdI1XyhmGq9z8Y8M38yXPMob6oPRqPO  #train.txt\n",
        "!gdown 10w15DnUbJcQRBSZWP03qjM6Oq8l7WSVQ  #dev.txt\n",
        "\n",
        "!gdown 1eimo-BFXZz6Z3FeZK8uC-wT84ji-JVos #hvb-audio.zip\n",
        "!unzip -q hvb-audio.zip"
      ],
      "metadata": {
        "colab": {
          "base_uri": "https://localhost:8080/"
        },
        "id": "cFdcY0sWMYsi",
        "outputId": "0bfc8d69-e987-4a7b-f349-c2b9447914a4"
      },
      "execution_count": null,
      "outputs": [
        {
          "output_type": "stream",
          "name": "stdout",
          "text": [
            "Downloading...\n",
            "From: https://drive.google.com/uc?id=1-s2e8dZYSjhVgfo_TL0V_89RZVhGnZ1Y\n",
            "To: /content/transcript.zip\n",
            "100% 4.08M/4.08M [00:00<00:00, 179MB/s]\n",
            "Downloading...\n",
            "From: https://drive.google.com/uc?id=1ChdI1XyhmGq9z8Y8M38yXPMob6oPRqPO\n",
            "To: /content/train.txt\n",
            "100% 30.5k/30.5k [00:00<00:00, 38.5MB/s]\n",
            "Downloading...\n",
            "From: https://drive.google.com/uc?id=10w15DnUbJcQRBSZWP03qjM6Oq8l7WSVQ\n",
            "To: /content/dev.txt\n",
            "100% 12.3k/12.3k [00:00<00:00, 24.4MB/s]\n",
            "Downloading...\n",
            "From: https://drive.google.com/uc?id=1eimo-BFXZz6Z3FeZK8uC-wT84ji-JVos\n",
            "To: /content/hvb-audio.zip\n",
            "100% 669M/669M [00:03<00:00, 202MB/s]\n"
          ]
        }
      ]
    },
    {
      "cell_type": "code",
      "source": [
        "with open('transcript/370981f1f0254ebc.json', 'r') as f:\n",
        "  print(f.read())"
      ],
      "metadata": {
        "id": "s6gkwNE00zSn"
      },
      "execution_count": null,
      "outputs": []
    },
    {
      "cell_type": "markdown",
      "source": [
        "Each transcript json file within `/content/transcript/` refers to a conversation with a list of utterances. Each segment (utterance) is associated with a json object and one of its keys is labeled as \"emotion\" that maps to three probability values associated with positive, negative and neutral sentiments. You can consider the sentiment with maximum probability to be the ground-truth label for each utterance.\n",
        "\n",
        "For this task, you will write new code to create a sentiment classification model for HVB utterances. Here are the various steps:\n",
        "- Create train and dev splits from `train.txt` and `dev.txt` downloaded in the code cell above. To understand the format in `train.txt` (and `dev.txt`), consider a line in  `train.txt`: *010d38f5ada54e0d:1,2,3,4,5,6,7,8*. This refers to conversation-ID 010d38f5ada54e0d with eight utterances appearing sequentially within the file `/content/transcript/010d38f5ada54e0d.json`. These utterances are numbered by the field `index` in the json file. Similarly interpret the lines in `dev.txt`. Use these text files (`train.txt` and `dev.txt`) to create train and dev sets and extract the relevant metadata (\"emotion\") you need from the respective transcript json files. To extract corresponding audio for these segments, the relevant files will be named `010d38f5ada54e0d.wav` within `/content/audio/agent` and `/content/audio/caller` (obtained after you unzip `hvb-audio.zip`). The fields `channel_index`, `index`, `start_ms` and `duration_ms` within `/content/transcript/010d38f5ada54e0d.json` gives you all the information needed to extract audio for the eight utterances mentioned in the example above. Click [here](https://github.com/cricketclub/gridspace-stanford-harper-valley#field-descriptions) for more details about the json field descriptions.\n",
        "- Load the pretrained CRDNN Librispeech model as in Task 0 and extract the encoder.\n",
        "- Add a linear layer mapping the encoding of the audio signal to a prediction of the underlying sentiment. This will be randomly initialized.\n",
        "- Train both the new linear layer and all the pretrained encoder layers using a cross-entropy loss with the reference emotion labels derived as described at the top of this cell.\n",
        "- Evaluate your trained sentiment detection model on utterances listed in `dev.txt` and compute overall accuracy for sentiment prediction.\n",
        "- Write down the accuracy you obtained in `README.txt`.\n",
        "\n"
      ],
      "metadata": {
        "id": "2jjw2l0WMq1f"
      }
    },
    {
      "cell_type": "markdown",
      "source": [
        "## Rough Score Breakdown\n",
        "\n",
        "---\n",
        "\n",
        "1. Data preprocessing (4 points)\n",
        "2. Loading the CRDNN model and extracting the encoder layers (6 points)\n",
        "3. Adding a linear layer + training the model (7 points)\n",
        "4. Obtaining accuracies similar to or better than our solution code (3 points)  "
      ],
      "metadata": {
        "id": "bFy7OG5zjwFJ"
      }
    },
    {
      "cell_type": "code",
      "source": [
        "!pip install pydub\n",
        "from pydub import AudioSegment\n",
        "import json"
      ],
      "metadata": {
        "colab": {
          "base_uri": "https://localhost:8080/"
        },
        "id": "wmBHMqcsAQcC",
        "outputId": "0942ff45-2773-46e2-99d1-21d89ab129ab"
      },
      "execution_count": null,
      "outputs": [
        {
          "output_type": "stream",
          "name": "stdout",
          "text": [
            "Looking in indexes: https://pypi.org/simple, https://us-python.pkg.dev/colab-wheels/public/simple/\n",
            "Collecting pydub\n",
            "  Downloading pydub-0.25.1-py2.py3-none-any.whl (32 kB)\n",
            "Installing collected packages: pydub\n",
            "Successfully installed pydub-0.25.1\n"
          ]
        }
      ]
    },
    {
      "cell_type": "code",
      "source": [
        "train_samples = []\n",
        "dev_samples = []\n",
        "\n",
        "for file_name in ['train.txt', 'dev.txt']:\n",
        "    with open(file_name, 'r') as f:\n",
        "        for line in f.readlines():\n",
        "            conv_id = line.split(':')[0]\n",
        "            indices = list(map(int, line.split(':')[1].split(',')))\n",
        "            data_file = []\n",
        "            with open(f'transcript/{conv_id}.json', 'r') as f1:\n",
        "                utt = json.load(f1)\n",
        "                for i in indices:\n",
        "                    sample = {}\n",
        "                    sample['words'] = utt[i - 1]['transcript']\n",
        "                    sample['emotion'] = list(utt[i - 1]['emotion'].values())\n",
        "                    sample['channel_index'] = utt[i - 1]['channel_index']\n",
        "                    sample['start_ms'] = utt[i - 1]['start_ms']\n",
        "                    sample['duration_ms'] = utt[i - 1]['duration_ms']\n",
        "                    sample['length'] = sample['duration_ms'] / 1000\n",
        "                    if sample['channel_index'] == 1:\n",
        "                        path = f'audio/caller/'\n",
        "                    else:\n",
        "                        path = f'audio/agent/'\n",
        "                    original_wav = AudioSegment.from_wav(path + str(conv_id) + '.wav')\n",
        "                    if file_name == 'train.txt':\n",
        "                        extracted_wav = original_wav[sample['start_ms']:sample['start_ms'] + sample['duration_ms']]\n",
        "                        extracted_wav.export(path + str(conv_id) + '_' + str(i) + '.wav', format='wav')\n",
        "                        sample[\"wav\"] = path + str(conv_id) + '_' + str(i) + '.wav'\n",
        "                    else:\n",
        "                        extracted_wav = original_wav[sample['start_ms']:sample['start_ms'] + sample['duration_ms']]\n",
        "                        extracted_wav.export(path + str(conv_id) + '_' + str(i) + '_dev.wav', format='wav')\n",
        "                        sample[\"wav\"] = path + str(conv_id) + '_' + str(i) + '_dev.wav'\n",
        "                    data_file.append(sample)\n",
        "            if file_name == 'train.txt':\n",
        "                train_samples.extend(data_file)\n",
        "            else:\n",
        "                dev_samples.extend(data_file)"
      ],
      "metadata": {
        "id": "k6c94HNdAaGw"
      },
      "execution_count": null,
      "outputs": []
    },
    {
      "cell_type": "code",
      "source": [
        "crdnn = EncoderDecoderASR.from_hparams(\n",
        "    source='speechbrain/asr-crdnn-rnnlm-librispeech',\n",
        "    savedir='asr-crdnn-rnnlm-librispeech',\n",
        "    run_opts={'device': 'cuda'}\n",
        ")"
      ],
      "metadata": {
        "colab": {
          "base_uri": "https://localhost:8080/",
          "height": 177,
          "referenced_widgets": [
            "92fe27f6c498465ab9fcf609b95633cb",
            "00f5eaae6aff40ea8321b2e5b327efaf",
            "f1830a70ccd848609b9fe853bca08fe3",
            "73d8092cfb0f4c1ea6dd458d2aa06fae",
            "243398ac20d048c89e8548708ddea407",
            "2b275336927e4b2f9e63762228de471e",
            "d8929b35ef7142e1b42350c8b54a8fc9",
            "cadc96f00b0c4171832945d1b7ccafeb",
            "ae02bc0332a64a46a13f0649f2ca4fe7",
            "f13acd881cfa4b21a3f587057924fbfc",
            "fc8951c6385441f998b23d073415212d",
            "02727d78814546a8a9377473acc77551",
            "1937e46b436945a7a37f1c4a4f1700a2",
            "f7d6b4102ae040ae88f3751b2566a585",
            "80bcec0ea5c94d1697b33b696f819356",
            "6653fb964afd484098e00abeb1b7339e",
            "f49bd38eda634414b5536753b2b55c31",
            "8cdb4d3a39064ef99e2adda557fde3e7",
            "c20c379016354b16ad1d9c9bbb796bab",
            "91331d8b1dba490da9bab66551de62ad",
            "dedce39496d64edca244128c79a207c5",
            "6cc1e9736ad2460d9d741f5a17d51d62",
            "e828fd1fb9864e069b4543728afaf330",
            "4c56730728cb4a12bb6b02272105dbde",
            "e2a8a55d4e7b492ea5c36234789a4f6f",
            "fb6f582ca66b4badb36d94e1cddc4485",
            "c7d12488c07f4336bb958f8163d997d1",
            "afe24e50ee8e4cdf988aef6566e02693",
            "a8072b535d184f2d8066f15cc81f5768",
            "9d020f796a8147b6b4cf96287d473ece",
            "10790af25984483d8d2863421e831900",
            "ea37c440d8cc4a48bf6982d12cd8caf7",
            "51194ea05dfc458894403e4864d08a7a",
            "ea693a0fdc4d482080450289fa837121",
            "5330848717294b85a96879688347288b",
            "d5bae4b463ab4da798b0e662c3042aa5",
            "eb2e968b3d3a40ada7920268463dac10",
            "34f2295dc3cb4db1b48a550e1238d0a0",
            "3da000a1042f49faa4169d623ae6adce",
            "758727cbc71642ae8d83be63c042b341",
            "8c8b947ef8cb42b69faad1416bb2d83e",
            "ee843fd8c3844ff7b3a9c820c1a342d2",
            "0c4ae501cfb943f3a98a37cccd9bec78",
            "d93ec5323dc64094b18fb94741e4e6cd",
            "d65f46d32bf046638052b377eb5c79a4",
            "d4701f0e28e7457babcbc2ef1c20d250",
            "541c3d214c0a466590e4ba2e08804c94",
            "637065abf9ce4847a332ef6a1ee737bb",
            "7450505a551f49a888c8885f2d32d474",
            "2ae0ae9a8a58426e8905a79102082518",
            "a299850a6d454bde95ec346e5e20362c",
            "a3bcddcfcfbe488ea4665fdaa3e07ba6",
            "bc67ec81dd7f43de8b49a8191f171065",
            "6f5bae93066c449ca09cef3014c59702",
            "bb1c484acef747ab87e39b05479d9ad4"
          ]
        },
        "id": "C2cFe3GglqIJ",
        "outputId": "6c774ef9-b16f-4137-d62a-b1f3ada8bbb6"
      },
      "execution_count": null,
      "outputs": [
        {
          "output_type": "display_data",
          "data": {
            "text/plain": [
              "Downloading (…)ain/hyperparams.yaml:   0%|          | 0.00/4.49k [00:00<?, ?B/s]"
            ],
            "application/vnd.jupyter.widget-view+json": {
              "version_major": 2,
              "version_minor": 0,
              "model_id": "92fe27f6c498465ab9fcf609b95633cb"
            }
          },
          "metadata": {}
        },
        {
          "output_type": "display_data",
          "data": {
            "text/plain": [
              "Downloading normalizer.ckpt:   0%|          | 0.00/1.41k [00:00<?, ?B/s]"
            ],
            "application/vnd.jupyter.widget-view+json": {
              "version_major": 2,
              "version_minor": 0,
              "model_id": "02727d78814546a8a9377473acc77551"
            }
          },
          "metadata": {}
        },
        {
          "output_type": "display_data",
          "data": {
            "text/plain": [
              "Downloading asr.ckpt:   0%|          | 0.00/480M [00:00<?, ?B/s]"
            ],
            "application/vnd.jupyter.widget-view+json": {
              "version_major": 2,
              "version_minor": 0,
              "model_id": "e828fd1fb9864e069b4543728afaf330"
            }
          },
          "metadata": {}
        },
        {
          "output_type": "display_data",
          "data": {
            "text/plain": [
              "Downloading lm.ckpt:   0%|          | 0.00/212M [00:00<?, ?B/s]"
            ],
            "application/vnd.jupyter.widget-view+json": {
              "version_major": 2,
              "version_minor": 0,
              "model_id": "ea693a0fdc4d482080450289fa837121"
            }
          },
          "metadata": {}
        },
        {
          "output_type": "display_data",
          "data": {
            "text/plain": [
              "Downloading tokenizer.ckpt:   0%|          | 0.00/253k [00:00<?, ?B/s]"
            ],
            "application/vnd.jupyter.widget-view+json": {
              "version_major": 2,
              "version_minor": 0,
              "model_id": "d65f46d32bf046638052b377eb5c79a4"
            }
          },
          "metadata": {}
        }
      ]
    },
    {
      "cell_type": "code",
      "source": [
        "import torch\n",
        "from torch import nn\n",
        "from tqdm.notebook import tqdm\n",
        "\n",
        "class Network(nn.Module):\n",
        "\n",
        "    def __init__(self, crdnn):\n",
        "        super().__init__()\n",
        "        self.enc = crdnn.mods.encoder\n",
        "        self.lin = nn.Linear(233*512,3)\n",
        "\n",
        "    def forward(self, wav, wav_len):\n",
        "        x = self.enc(wav,wav_len).reshape(1,-1)\n",
        "        x = self.lin(x)\n",
        "        return x\n",
        "\n",
        "model = Network(crdnn).to(device)"
      ],
      "metadata": {
        "id": "0gxe5e2MlrMG"
      },
      "execution_count": null,
      "outputs": []
    },
    {
      "cell_type": "code",
      "source": [
        "def batchify_data(data, batch_size):\n",
        "    manifest_keys = list(data.keys())\n",
        "    wav_paths = list(map(lambda x: x['wav'], data.values()))\n",
        "    num_examples = len(data)\n",
        "    for i in range(0, num_examples, batch_size):\n",
        "        batch_wavs = nn.utils.rnn.pad_sequence([\n",
        "            torchaudio.load(path)[0].squeeze(0)\n",
        "            for path in wav_paths[i:min(i + batch_size, num_examples)]\n",
        "        ], batch_first=True)\n",
        "        batch_wavs = torch.cat([batch_wavs, torch.zeros(batch_wavs.size(0), 149280 - batch_wavs.size(1))], dim=1)\n",
        "        batch_keys = manifest_keys[i:min(i + batch_size, num_examples)]\n",
        "        batch_wav_lens = torch.tensor([\n",
        "            data[key]['length'] for key in batch_keys\n",
        "        ])\n",
        "        batch_wav_lens = batch_wav_lens / batch_wav_lens.max()\n",
        "        emotions = torch.tensor([\n",
        "            data[key]['emotion'] for key in batch_keys\n",
        "        ])\n",
        "        yield batch_keys, batch_wavs, batch_wav_lens, emotions\n",
        "\n",
        "def train_model(model, train_data, batch_size=5):\n",
        "    torch.cuda.empty_cache()\n",
        "    model.train()\n",
        "    optimizer = torch.optim.Adam(model.parameters(), lr=0.001, weight_decay=0.01)\n",
        "    loss_fn = torch.nn.functional.cross_entropy\n",
        "    total_loss = 0\n",
        "    iteration = 0\n",
        "    prediction_dict = {}\n",
        "    for keys, wavs, wav_lens, emotions in tqdm(batchify_data(train_data, batch_size), total=round(len(train_data) / batch_size + 0.5)):\n",
        "        optimizer.zero_grad()\n",
        "        predictions = model(wavs.to(device), wav_lens.to(device))\n",
        "        emotions = emotions.to(device)\n",
        "        max_emotion = emotions // emotions.max()\n",
        "        loss = torch.nn.functional.cross_entropy(predictions, max_emotion)\n",
        "        iteration += 1\n",
        "        total_loss += loss.item()\n",
        "        loss.backward()\n",
        "        optimizer.step()"
      ],
      "metadata": {
        "id": "wBtSsNFCl0KE"
      },
      "execution_count": null,
      "outputs": []
    },
    {
      "cell_type": "code",
      "source": [
        "def get_max_length(manifest):\n",
        "    global max_length\n",
        "    keys = list(manifest.keys())\n",
        "    wav_paths = list(map(lambda x: x['wav'], manifest.values()))\n",
        "    iterable = zip(keys, wav_paths)\n",
        "    num_examples = len(manifest)\n",
        "    for i in range(0, num_examples):\n",
        "        batch_wavs = nn.utils.rnn.pad_sequence([\n",
        "            torchaudio.load(path)[0].squeeze(0)\n",
        "            for path in wav_paths[i:min(i + 1, num_examples)]\n",
        "        ], batch_first=True)\n",
        "        batch_keys = keys[i:min(i + 1, num_examples)]\n",
        "        batch_wav_lens = torch.tensor([\n",
        "            manifest[key]['length'] for key in batch_keys\n",
        "        ])\n",
        "        batch_wav_lens = batch_wav_lens / batch_wav_lens.max()\n",
        "        max_length = max(max_length, batch_wavs.shape[1])\n",
        "    print(max_length)\n",
        "\n",
        "max_length = 0\n",
        "get_max_length(train_data)"
      ],
      "metadata": {
        "colab": {
          "base_uri": "https://localhost:8080/"
        },
        "id": "8pYPVJ3nsHoF",
        "outputId": "d6523b3f-2559-4cfa-a03a-6f2cd93dd783"
      },
      "execution_count": null,
      "outputs": [
        {
          "output_type": "stream",
          "name": "stdout",
          "text": [
            "149280\n"
          ]
        }
      ]
    },
    {
      "cell_type": "code",
      "source": [
        "train_data = {key: train_samples[key] for key in range(len(train_samples))}\n",
        "train_model(model,train_data,1)"
      ],
      "metadata": {
        "colab": {
          "base_uri": "https://localhost:8080/",
          "height": 49,
          "referenced_widgets": [
            "f1b2135e036e4363819bb770995b7839",
            "92677b24268945038653023a779bf7b8",
            "39de5b99eaba4cedabe94123513b008f",
            "f906b02648744eedaa2a2c08ad2ed7d6",
            "4120ca44c3554bc589f63041b67f808d",
            "2700ce3c33f343e494a294e3866fe1ba",
            "dad62f17b89c41dc84f2022c157f7ce8",
            "9db387099d9f437d85b1a4ed9f05d8a0",
            "8673fb3df4424917a55a01b7b70fb718",
            "55a7283f780a445ba5338ab146c697de",
            "0ba323e817094d3994200659a88da5ff"
          ]
        },
        "id": "8gYaFKC3nrCs",
        "outputId": "de1624b4-2097-4d10-c3af-c6e67f2464a0"
      },
      "execution_count": null,
      "outputs": [
        {
          "output_type": "display_data",
          "data": {
            "text/plain": [
              "  0%|          | 0/8836 [00:00<?, ?it/s]"
            ],
            "application/vnd.jupyter.widget-view+json": {
              "version_major": 2,
              "version_minor": 0,
              "model_id": "f1b2135e036e4363819bb770995b7839"
            }
          },
          "metadata": {}
        }
      ]
    },
    {
      "cell_type": "code",
      "source": [
        "def compute_accuracy(model, test_data, batch_size=8):\n",
        "    torch.cuda.empty_cache()\n",
        "    model.eval()\n",
        "    prediction_dict = {}\n",
        "    num_correct_predictions = 0\n",
        "    for keys, wav_paths, wav_lengths, emotions in tqdm(batchify_data(test_data, batch_size), total=round(len(test_data) / batch_size + 0.5)):\n",
        "        predicted_emotions = model(wav_paths.to(device), wav_lengths.to(device))\n",
        "        emotions = emotions.to(device)\n",
        "        for i in range(predicted_emotions.shape[0]):\n",
        "            if torch.argmax(predicted_emotions[i]) == torch.argmax(emotions[i]):\n",
        "                num_correct_predictions += 1\n",
        "    print(f\"Accuracy: {num_correct_predictions / len(test_data):.2f}\")\n",
        "\n",
        "test_data = {key: dev_samples[key] for key in range(len(dev_samples))}\n",
        "\n",
        "compute_accuracy(model, test_data, 1)"
      ],
      "metadata": {
        "colab": {
          "base_uri": "https://localhost:8080/",
          "height": 66,
          "referenced_widgets": [
            "891d1597f2f64b03aa28921165b618f3",
            "c87d5eb348674171982d2b06c46f2272",
            "15c755118bbd4f3ab6c42df75cf845bb",
            "9750f619f2e9449d86bdfb365f1a6427",
            "498c1d47a75141b9bce62db0b821eb72",
            "205fc584303e47ada46fbcef3c6ceafa",
            "5d9056e59d6243edaea1739db3b590ee",
            "e5a2a2679fa44c25917f0cc198311639",
            "18a14cd7dba141f793957a4e914386ef",
            "4e4c25408c43429c9bcd6c2e1323054b",
            "34ba61e29bc344ec80bc64e7b6688e6a"
          ]
        },
        "id": "1pxlBILpyeXv",
        "outputId": "925488e9-800b-4a5b-df85-c485514264f8"
      },
      "execution_count": null,
      "outputs": [
        {
          "output_type": "display_data",
          "data": {
            "text/plain": [
              "  0%|          | 0/3558 [00:00<?, ?it/s]"
            ],
            "application/vnd.jupyter.widget-view+json": {
              "version_major": 2,
              "version_minor": 0,
              "model_id": "891d1597f2f64b03aa28921165b618f3"
            }
          },
          "metadata": {}
        },
        {
          "output_type": "stream",
          "name": "stdout",
          "text": [
            "Accuracy: 0.76\n"
          ]
        }
      ]
    },
    {
      "cell_type": "markdown",
      "source": [
        "# Extra Credit: Use Whisper's pretrained model to evaluate HVB (5 points)"
      ],
      "metadata": {
        "id": "qVTg1u4xM-Ez"
      }
    },
    {
      "cell_type": "markdown",
      "source": [
        "Write code to evaluate [Whisper's **small** model](https://github.com/openai/whisper/blob/main/model-card.md) on the first 200 test utterances in `test_manifest.json` that you used in Q1 of Task 0. Compute the WER with predictions from Whisper and add it to `README.txt`."
      ],
      "metadata": {
        "id": "HQbIF2iyNE5H"
      }
    },
    {
      "cell_type": "code",
      "source": [
        "!pip install openai-whisper\n",
        "import whisper\n",
        "whisp = whisper.load_model('small').to('cuda')"
      ],
      "metadata": {
        "id": "hIC3SBBzxtlS",
        "colab": {
          "base_uri": "https://localhost:8080/"
        },
        "outputId": "ffda1f8c-1dfe-4169-802c-08afa2003ac8"
      },
      "execution_count": null,
      "outputs": [
        {
          "output_type": "stream",
          "name": "stdout",
          "text": [
            "Looking in indexes: https://pypi.org/simple, https://us-python.pkg.dev/colab-wheels/public/simple/\n",
            "Collecting openai-whisper\n",
            "  Downloading openai-whisper-20230314.tar.gz (792 kB)\n",
            "\u001b[2K     \u001b[90m━━━━━━━━━━━━━━━━━━━━━━━━━━━━━━━━━━━━━━\u001b[0m \u001b[32m792.9/792.9 kB\u001b[0m \u001b[31m18.3 MB/s\u001b[0m eta \u001b[36m0:00:00\u001b[0m\n",
            "\u001b[?25h  Installing build dependencies ... \u001b[?25l\u001b[?25hdone\n",
            "  Getting requirements to build wheel ... \u001b[?25l\u001b[?25hdone\n",
            "  Preparing metadata (pyproject.toml) ... \u001b[?25l\u001b[?25hdone\n",
            "Requirement already satisfied: torch in /usr/local/lib/python3.9/dist-packages (from openai-whisper) (2.0.0+cu118)\n",
            "Requirement already satisfied: numba in /usr/local/lib/python3.9/dist-packages (from openai-whisper) (0.56.4)\n",
            "Collecting ffmpeg-python==0.2.0\n",
            "  Downloading ffmpeg_python-0.2.0-py3-none-any.whl (25 kB)\n",
            "Requirement already satisfied: tqdm in /usr/local/lib/python3.9/dist-packages (from openai-whisper) (4.65.0)\n",
            "Requirement already satisfied: more-itertools in /usr/local/lib/python3.9/dist-packages (from openai-whisper) (9.1.0)\n",
            "Requirement already satisfied: numpy in /usr/local/lib/python3.9/dist-packages (from openai-whisper) (1.22.4)\n",
            "Collecting tiktoken==0.3.1\n",
            "  Downloading tiktoken-0.3.1-cp39-cp39-manylinux_2_17_x86_64.manylinux2014_x86_64.whl (1.7 MB)\n",
            "\u001b[2K     \u001b[90m━━━━━━━━━━━━━━━━━━━━━━━━━━━━━━━━━━━━━━━━\u001b[0m \u001b[32m1.7/1.7 MB\u001b[0m \u001b[31m70.4 MB/s\u001b[0m eta \u001b[36m0:00:00\u001b[0m\n",
            "\u001b[?25hRequirement already satisfied: triton==2.0.0 in /usr/local/lib/python3.9/dist-packages (from openai-whisper) (2.0.0)\n",
            "Requirement already satisfied: future in /usr/local/lib/python3.9/dist-packages (from ffmpeg-python==0.2.0->openai-whisper) (0.18.3)\n",
            "Requirement already satisfied: regex>=2022.1.18 in /usr/local/lib/python3.9/dist-packages (from tiktoken==0.3.1->openai-whisper) (2022.10.31)\n",
            "Requirement already satisfied: requests>=2.26.0 in /usr/local/lib/python3.9/dist-packages (from tiktoken==0.3.1->openai-whisper) (2.27.1)\n",
            "Requirement already satisfied: cmake in /usr/local/lib/python3.9/dist-packages (from triton==2.0.0->openai-whisper) (3.25.2)\n",
            "Requirement already satisfied: filelock in /usr/local/lib/python3.9/dist-packages (from triton==2.0.0->openai-whisper) (3.10.7)\n",
            "Requirement already satisfied: lit in /usr/local/lib/python3.9/dist-packages (from triton==2.0.0->openai-whisper) (16.0.0)\n",
            "Requirement already satisfied: setuptools in /usr/local/lib/python3.9/dist-packages (from numba->openai-whisper) (67.6.1)\n",
            "Requirement already satisfied: llvmlite<0.40,>=0.39.0dev0 in /usr/local/lib/python3.9/dist-packages (from numba->openai-whisper) (0.39.1)\n",
            "Requirement already satisfied: jinja2 in /usr/local/lib/python3.9/dist-packages (from torch->openai-whisper) (3.1.2)\n",
            "Requirement already satisfied: typing-extensions in /usr/local/lib/python3.9/dist-packages (from torch->openai-whisper) (4.5.0)\n",
            "Requirement already satisfied: sympy in /usr/local/lib/python3.9/dist-packages (from torch->openai-whisper) (1.11.1)\n",
            "Requirement already satisfied: networkx in /usr/local/lib/python3.9/dist-packages (from torch->openai-whisper) (3.0)\n",
            "Requirement already satisfied: certifi>=2017.4.17 in /usr/local/lib/python3.9/dist-packages (from requests>=2.26.0->tiktoken==0.3.1->openai-whisper) (2022.12.7)\n",
            "Requirement already satisfied: charset-normalizer~=2.0.0 in /usr/local/lib/python3.9/dist-packages (from requests>=2.26.0->tiktoken==0.3.1->openai-whisper) (2.0.12)\n",
            "Requirement already satisfied: urllib3<1.27,>=1.21.1 in /usr/local/lib/python3.9/dist-packages (from requests>=2.26.0->tiktoken==0.3.1->openai-whisper) (1.26.15)\n",
            "Requirement already satisfied: idna<4,>=2.5 in /usr/local/lib/python3.9/dist-packages (from requests>=2.26.0->tiktoken==0.3.1->openai-whisper) (3.4)\n",
            "Requirement already satisfied: MarkupSafe>=2.0 in /usr/local/lib/python3.9/dist-packages (from jinja2->torch->openai-whisper) (2.1.2)\n",
            "Requirement already satisfied: mpmath>=0.19 in /usr/local/lib/python3.9/dist-packages (from sympy->torch->openai-whisper) (1.3.0)\n",
            "Building wheels for collected packages: openai-whisper\n",
            "  Building wheel for openai-whisper (pyproject.toml) ... \u001b[?25l\u001b[?25hdone\n",
            "  Created wheel for openai-whisper: filename=openai_whisper-20230314-py3-none-any.whl size=796926 sha256=fbc1a088b62e790e98ea9cf73191283b2e31c32a79eace60a5f0111582dcc055\n",
            "  Stored in directory: /root/.cache/pip/wheels/c4/85/e6/0bb9507b8e4f3f6d9c6dcf318bc3514739430375aa8e9eaf5b\n",
            "Successfully built openai-whisper\n",
            "Installing collected packages: ffmpeg-python, tiktoken, openai-whisper\n",
            "Successfully installed ffmpeg-python-0.2.0 openai-whisper-20230314 tiktoken-0.3.1\n"
          ]
        },
        {
          "output_type": "stream",
          "name": "stderr",
          "text": [
            "100%|███████████████████████████████████████| 461M/461M [00:08<00:00, 56.1MiB/s]\n"
          ]
        }
      ]
    },
    {
      "cell_type": "code",
      "source": [
        "test_size = 250\n",
        "\n",
        "with open('data/test_manifest.json', 'r') as f:\n",
        "    test_samples = json.load(f)\n",
        "test_samples = {\n",
        "    k: v for k, v in list(test_samples.items())[:test_size]\n",
        "}\n",
        "true_dict = {key: test_samples[key]['words'] for key in test_samples}\n",
        "\n",
        "whisp = whisper.load_model('small').to('cuda')\n",
        "\n",
        "pred = {}\n",
        "for key in test_samples:\n",
        "    audio = test_samples[key]['wav']\n",
        "    whisper_res = whisp.transcribe(audio)\n",
        "    pred[key] = whisper_res['text'].upper()\n",
        "\n",
        "details_by_utterance = sb.utils.edit_distance.wer_details_by_utterance(\n",
        "    {k: v.split() for k, v in true_dict.items()},\n",
        "    {k: v.split() for k, v in pred_dict.items()},\n",
        ")\n",
        "sb.utils.edit_distance.wer_summary(details_by_utterance)"
      ],
      "metadata": {
        "colab": {
          "base_uri": "https://localhost:8080/"
        },
        "id": "z0tOXtEf4_Gt",
        "outputId": "98a56f24-4537-41e7-8efa-6a40822fdf80"
      },
      "execution_count": null,
      "outputs": [
        {
          "output_type": "execute_result",
          "data": {
            "text/plain": [
              "{'WER': 37.04720087815587,\n",
              " 'SER': 98.8,\n",
              " 'num_edits': 675,\n",
              " 'num_scored_tokens': 1822,\n",
              " 'num_erraneous_sents': 247,\n",
              " 'num_scored_sents': 250,\n",
              " 'num_absent_sents': 0,\n",
              " 'num_ref_sents': 250,\n",
              " 'insertions': 45,\n",
              " 'deletions': 135,\n",
              " 'substitutions': 495}"
            ]
          },
          "metadata": {},
          "execution_count": 41
        }
      ]
    }
  ],
  "metadata": {
    "accelerator": "GPU",
    "colab": {
      "provenance": []
    },
    "kernelspec": {
      "display_name": "Python 3",
      "name": "python3"
    },
    "language_info": {
      "name": "python"
    },
    "gpuClass": "standard",
    "widgets": {
      "application/vnd.jupyter.widget-state+json": {
        "92fe27f6c498465ab9fcf609b95633cb": {
          "model_module": "@jupyter-widgets/controls",
          "model_name": "HBoxModel",
          "model_module_version": "1.5.0",
          "state": {
            "_dom_classes": [],
            "_model_module": "@jupyter-widgets/controls",
            "_model_module_version": "1.5.0",
            "_model_name": "HBoxModel",
            "_view_count": null,
            "_view_module": "@jupyter-widgets/controls",
            "_view_module_version": "1.5.0",
            "_view_name": "HBoxView",
            "box_style": "",
            "children": [
              "IPY_MODEL_00f5eaae6aff40ea8321b2e5b327efaf",
              "IPY_MODEL_f1830a70ccd848609b9fe853bca08fe3",
              "IPY_MODEL_73d8092cfb0f4c1ea6dd458d2aa06fae"
            ],
            "layout": "IPY_MODEL_243398ac20d048c89e8548708ddea407"
          }
        },
        "00f5eaae6aff40ea8321b2e5b327efaf": {
          "model_module": "@jupyter-widgets/controls",
          "model_name": "HTMLModel",
          "model_module_version": "1.5.0",
          "state": {
            "_dom_classes": [],
            "_model_module": "@jupyter-widgets/controls",
            "_model_module_version": "1.5.0",
            "_model_name": "HTMLModel",
            "_view_count": null,
            "_view_module": "@jupyter-widgets/controls",
            "_view_module_version": "1.5.0",
            "_view_name": "HTMLView",
            "description": "",
            "description_tooltip": null,
            "layout": "IPY_MODEL_2b275336927e4b2f9e63762228de471e",
            "placeholder": "​",
            "style": "IPY_MODEL_d8929b35ef7142e1b42350c8b54a8fc9",
            "value": "Downloading (…)ain/hyperparams.yaml: 100%"
          }
        },
        "f1830a70ccd848609b9fe853bca08fe3": {
          "model_module": "@jupyter-widgets/controls",
          "model_name": "FloatProgressModel",
          "model_module_version": "1.5.0",
          "state": {
            "_dom_classes": [],
            "_model_module": "@jupyter-widgets/controls",
            "_model_module_version": "1.5.0",
            "_model_name": "FloatProgressModel",
            "_view_count": null,
            "_view_module": "@jupyter-widgets/controls",
            "_view_module_version": "1.5.0",
            "_view_name": "ProgressView",
            "bar_style": "success",
            "description": "",
            "description_tooltip": null,
            "layout": "IPY_MODEL_cadc96f00b0c4171832945d1b7ccafeb",
            "max": 4494,
            "min": 0,
            "orientation": "horizontal",
            "style": "IPY_MODEL_ae02bc0332a64a46a13f0649f2ca4fe7",
            "value": 4494
          }
        },
        "73d8092cfb0f4c1ea6dd458d2aa06fae": {
          "model_module": "@jupyter-widgets/controls",
          "model_name": "HTMLModel",
          "model_module_version": "1.5.0",
          "state": {
            "_dom_classes": [],
            "_model_module": "@jupyter-widgets/controls",
            "_model_module_version": "1.5.0",
            "_model_name": "HTMLModel",
            "_view_count": null,
            "_view_module": "@jupyter-widgets/controls",
            "_view_module_version": "1.5.0",
            "_view_name": "HTMLView",
            "description": "",
            "description_tooltip": null,
            "layout": "IPY_MODEL_f13acd881cfa4b21a3f587057924fbfc",
            "placeholder": "​",
            "style": "IPY_MODEL_fc8951c6385441f998b23d073415212d",
            "value": " 4.49k/4.49k [00:00&lt;00:00, 161kB/s]"
          }
        },
        "243398ac20d048c89e8548708ddea407": {
          "model_module": "@jupyter-widgets/base",
          "model_name": "LayoutModel",
          "model_module_version": "1.2.0",
          "state": {
            "_model_module": "@jupyter-widgets/base",
            "_model_module_version": "1.2.0",
            "_model_name": "LayoutModel",
            "_view_count": null,
            "_view_module": "@jupyter-widgets/base",
            "_view_module_version": "1.2.0",
            "_view_name": "LayoutView",
            "align_content": null,
            "align_items": null,
            "align_self": null,
            "border": null,
            "bottom": null,
            "display": null,
            "flex": null,
            "flex_flow": null,
            "grid_area": null,
            "grid_auto_columns": null,
            "grid_auto_flow": null,
            "grid_auto_rows": null,
            "grid_column": null,
            "grid_gap": null,
            "grid_row": null,
            "grid_template_areas": null,
            "grid_template_columns": null,
            "grid_template_rows": null,
            "height": null,
            "justify_content": null,
            "justify_items": null,
            "left": null,
            "margin": null,
            "max_height": null,
            "max_width": null,
            "min_height": null,
            "min_width": null,
            "object_fit": null,
            "object_position": null,
            "order": null,
            "overflow": null,
            "overflow_x": null,
            "overflow_y": null,
            "padding": null,
            "right": null,
            "top": null,
            "visibility": null,
            "width": null
          }
        },
        "2b275336927e4b2f9e63762228de471e": {
          "model_module": "@jupyter-widgets/base",
          "model_name": "LayoutModel",
          "model_module_version": "1.2.0",
          "state": {
            "_model_module": "@jupyter-widgets/base",
            "_model_module_version": "1.2.0",
            "_model_name": "LayoutModel",
            "_view_count": null,
            "_view_module": "@jupyter-widgets/base",
            "_view_module_version": "1.2.0",
            "_view_name": "LayoutView",
            "align_content": null,
            "align_items": null,
            "align_self": null,
            "border": null,
            "bottom": null,
            "display": null,
            "flex": null,
            "flex_flow": null,
            "grid_area": null,
            "grid_auto_columns": null,
            "grid_auto_flow": null,
            "grid_auto_rows": null,
            "grid_column": null,
            "grid_gap": null,
            "grid_row": null,
            "grid_template_areas": null,
            "grid_template_columns": null,
            "grid_template_rows": null,
            "height": null,
            "justify_content": null,
            "justify_items": null,
            "left": null,
            "margin": null,
            "max_height": null,
            "max_width": null,
            "min_height": null,
            "min_width": null,
            "object_fit": null,
            "object_position": null,
            "order": null,
            "overflow": null,
            "overflow_x": null,
            "overflow_y": null,
            "padding": null,
            "right": null,
            "top": null,
            "visibility": null,
            "width": null
          }
        },
        "d8929b35ef7142e1b42350c8b54a8fc9": {
          "model_module": "@jupyter-widgets/controls",
          "model_name": "DescriptionStyleModel",
          "model_module_version": "1.5.0",
          "state": {
            "_model_module": "@jupyter-widgets/controls",
            "_model_module_version": "1.5.0",
            "_model_name": "DescriptionStyleModel",
            "_view_count": null,
            "_view_module": "@jupyter-widgets/base",
            "_view_module_version": "1.2.0",
            "_view_name": "StyleView",
            "description_width": ""
          }
        },
        "cadc96f00b0c4171832945d1b7ccafeb": {
          "model_module": "@jupyter-widgets/base",
          "model_name": "LayoutModel",
          "model_module_version": "1.2.0",
          "state": {
            "_model_module": "@jupyter-widgets/base",
            "_model_module_version": "1.2.0",
            "_model_name": "LayoutModel",
            "_view_count": null,
            "_view_module": "@jupyter-widgets/base",
            "_view_module_version": "1.2.0",
            "_view_name": "LayoutView",
            "align_content": null,
            "align_items": null,
            "align_self": null,
            "border": null,
            "bottom": null,
            "display": null,
            "flex": null,
            "flex_flow": null,
            "grid_area": null,
            "grid_auto_columns": null,
            "grid_auto_flow": null,
            "grid_auto_rows": null,
            "grid_column": null,
            "grid_gap": null,
            "grid_row": null,
            "grid_template_areas": null,
            "grid_template_columns": null,
            "grid_template_rows": null,
            "height": null,
            "justify_content": null,
            "justify_items": null,
            "left": null,
            "margin": null,
            "max_height": null,
            "max_width": null,
            "min_height": null,
            "min_width": null,
            "object_fit": null,
            "object_position": null,
            "order": null,
            "overflow": null,
            "overflow_x": null,
            "overflow_y": null,
            "padding": null,
            "right": null,
            "top": null,
            "visibility": null,
            "width": null
          }
        },
        "ae02bc0332a64a46a13f0649f2ca4fe7": {
          "model_module": "@jupyter-widgets/controls",
          "model_name": "ProgressStyleModel",
          "model_module_version": "1.5.0",
          "state": {
            "_model_module": "@jupyter-widgets/controls",
            "_model_module_version": "1.5.0",
            "_model_name": "ProgressStyleModel",
            "_view_count": null,
            "_view_module": "@jupyter-widgets/base",
            "_view_module_version": "1.2.0",
            "_view_name": "StyleView",
            "bar_color": null,
            "description_width": ""
          }
        },
        "f13acd881cfa4b21a3f587057924fbfc": {
          "model_module": "@jupyter-widgets/base",
          "model_name": "LayoutModel",
          "model_module_version": "1.2.0",
          "state": {
            "_model_module": "@jupyter-widgets/base",
            "_model_module_version": "1.2.0",
            "_model_name": "LayoutModel",
            "_view_count": null,
            "_view_module": "@jupyter-widgets/base",
            "_view_module_version": "1.2.0",
            "_view_name": "LayoutView",
            "align_content": null,
            "align_items": null,
            "align_self": null,
            "border": null,
            "bottom": null,
            "display": null,
            "flex": null,
            "flex_flow": null,
            "grid_area": null,
            "grid_auto_columns": null,
            "grid_auto_flow": null,
            "grid_auto_rows": null,
            "grid_column": null,
            "grid_gap": null,
            "grid_row": null,
            "grid_template_areas": null,
            "grid_template_columns": null,
            "grid_template_rows": null,
            "height": null,
            "justify_content": null,
            "justify_items": null,
            "left": null,
            "margin": null,
            "max_height": null,
            "max_width": null,
            "min_height": null,
            "min_width": null,
            "object_fit": null,
            "object_position": null,
            "order": null,
            "overflow": null,
            "overflow_x": null,
            "overflow_y": null,
            "padding": null,
            "right": null,
            "top": null,
            "visibility": null,
            "width": null
          }
        },
        "fc8951c6385441f998b23d073415212d": {
          "model_module": "@jupyter-widgets/controls",
          "model_name": "DescriptionStyleModel",
          "model_module_version": "1.5.0",
          "state": {
            "_model_module": "@jupyter-widgets/controls",
            "_model_module_version": "1.5.0",
            "_model_name": "DescriptionStyleModel",
            "_view_count": null,
            "_view_module": "@jupyter-widgets/base",
            "_view_module_version": "1.2.0",
            "_view_name": "StyleView",
            "description_width": ""
          }
        },
        "02727d78814546a8a9377473acc77551": {
          "model_module": "@jupyter-widgets/controls",
          "model_name": "HBoxModel",
          "model_module_version": "1.5.0",
          "state": {
            "_dom_classes": [],
            "_model_module": "@jupyter-widgets/controls",
            "_model_module_version": "1.5.0",
            "_model_name": "HBoxModel",
            "_view_count": null,
            "_view_module": "@jupyter-widgets/controls",
            "_view_module_version": "1.5.0",
            "_view_name": "HBoxView",
            "box_style": "",
            "children": [
              "IPY_MODEL_1937e46b436945a7a37f1c4a4f1700a2",
              "IPY_MODEL_f7d6b4102ae040ae88f3751b2566a585",
              "IPY_MODEL_80bcec0ea5c94d1697b33b696f819356"
            ],
            "layout": "IPY_MODEL_6653fb964afd484098e00abeb1b7339e"
          }
        },
        "1937e46b436945a7a37f1c4a4f1700a2": {
          "model_module": "@jupyter-widgets/controls",
          "model_name": "HTMLModel",
          "model_module_version": "1.5.0",
          "state": {
            "_dom_classes": [],
            "_model_module": "@jupyter-widgets/controls",
            "_model_module_version": "1.5.0",
            "_model_name": "HTMLModel",
            "_view_count": null,
            "_view_module": "@jupyter-widgets/controls",
            "_view_module_version": "1.5.0",
            "_view_name": "HTMLView",
            "description": "",
            "description_tooltip": null,
            "layout": "IPY_MODEL_f49bd38eda634414b5536753b2b55c31",
            "placeholder": "​",
            "style": "IPY_MODEL_8cdb4d3a39064ef99e2adda557fde3e7",
            "value": "Downloading normalizer.ckpt: 100%"
          }
        },
        "f7d6b4102ae040ae88f3751b2566a585": {
          "model_module": "@jupyter-widgets/controls",
          "model_name": "FloatProgressModel",
          "model_module_version": "1.5.0",
          "state": {
            "_dom_classes": [],
            "_model_module": "@jupyter-widgets/controls",
            "_model_module_version": "1.5.0",
            "_model_name": "FloatProgressModel",
            "_view_count": null,
            "_view_module": "@jupyter-widgets/controls",
            "_view_module_version": "1.5.0",
            "_view_name": "ProgressView",
            "bar_style": "success",
            "description": "",
            "description_tooltip": null,
            "layout": "IPY_MODEL_c20c379016354b16ad1d9c9bbb796bab",
            "max": 1409,
            "min": 0,
            "orientation": "horizontal",
            "style": "IPY_MODEL_91331d8b1dba490da9bab66551de62ad",
            "value": 1409
          }
        },
        "80bcec0ea5c94d1697b33b696f819356": {
          "model_module": "@jupyter-widgets/controls",
          "model_name": "HTMLModel",
          "model_module_version": "1.5.0",
          "state": {
            "_dom_classes": [],
            "_model_module": "@jupyter-widgets/controls",
            "_model_module_version": "1.5.0",
            "_model_name": "HTMLModel",
            "_view_count": null,
            "_view_module": "@jupyter-widgets/controls",
            "_view_module_version": "1.5.0",
            "_view_name": "HTMLView",
            "description": "",
            "description_tooltip": null,
            "layout": "IPY_MODEL_dedce39496d64edca244128c79a207c5",
            "placeholder": "​",
            "style": "IPY_MODEL_6cc1e9736ad2460d9d741f5a17d51d62",
            "value": " 1.41k/1.41k [00:00&lt;00:00, 83.2kB/s]"
          }
        },
        "6653fb964afd484098e00abeb1b7339e": {
          "model_module": "@jupyter-widgets/base",
          "model_name": "LayoutModel",
          "model_module_version": "1.2.0",
          "state": {
            "_model_module": "@jupyter-widgets/base",
            "_model_module_version": "1.2.0",
            "_model_name": "LayoutModel",
            "_view_count": null,
            "_view_module": "@jupyter-widgets/base",
            "_view_module_version": "1.2.0",
            "_view_name": "LayoutView",
            "align_content": null,
            "align_items": null,
            "align_self": null,
            "border": null,
            "bottom": null,
            "display": null,
            "flex": null,
            "flex_flow": null,
            "grid_area": null,
            "grid_auto_columns": null,
            "grid_auto_flow": null,
            "grid_auto_rows": null,
            "grid_column": null,
            "grid_gap": null,
            "grid_row": null,
            "grid_template_areas": null,
            "grid_template_columns": null,
            "grid_template_rows": null,
            "height": null,
            "justify_content": null,
            "justify_items": null,
            "left": null,
            "margin": null,
            "max_height": null,
            "max_width": null,
            "min_height": null,
            "min_width": null,
            "object_fit": null,
            "object_position": null,
            "order": null,
            "overflow": null,
            "overflow_x": null,
            "overflow_y": null,
            "padding": null,
            "right": null,
            "top": null,
            "visibility": null,
            "width": null
          }
        },
        "f49bd38eda634414b5536753b2b55c31": {
          "model_module": "@jupyter-widgets/base",
          "model_name": "LayoutModel",
          "model_module_version": "1.2.0",
          "state": {
            "_model_module": "@jupyter-widgets/base",
            "_model_module_version": "1.2.0",
            "_model_name": "LayoutModel",
            "_view_count": null,
            "_view_module": "@jupyter-widgets/base",
            "_view_module_version": "1.2.0",
            "_view_name": "LayoutView",
            "align_content": null,
            "align_items": null,
            "align_self": null,
            "border": null,
            "bottom": null,
            "display": null,
            "flex": null,
            "flex_flow": null,
            "grid_area": null,
            "grid_auto_columns": null,
            "grid_auto_flow": null,
            "grid_auto_rows": null,
            "grid_column": null,
            "grid_gap": null,
            "grid_row": null,
            "grid_template_areas": null,
            "grid_template_columns": null,
            "grid_template_rows": null,
            "height": null,
            "justify_content": null,
            "justify_items": null,
            "left": null,
            "margin": null,
            "max_height": null,
            "max_width": null,
            "min_height": null,
            "min_width": null,
            "object_fit": null,
            "object_position": null,
            "order": null,
            "overflow": null,
            "overflow_x": null,
            "overflow_y": null,
            "padding": null,
            "right": null,
            "top": null,
            "visibility": null,
            "width": null
          }
        },
        "8cdb4d3a39064ef99e2adda557fde3e7": {
          "model_module": "@jupyter-widgets/controls",
          "model_name": "DescriptionStyleModel",
          "model_module_version": "1.5.0",
          "state": {
            "_model_module": "@jupyter-widgets/controls",
            "_model_module_version": "1.5.0",
            "_model_name": "DescriptionStyleModel",
            "_view_count": null,
            "_view_module": "@jupyter-widgets/base",
            "_view_module_version": "1.2.0",
            "_view_name": "StyleView",
            "description_width": ""
          }
        },
        "c20c379016354b16ad1d9c9bbb796bab": {
          "model_module": "@jupyter-widgets/base",
          "model_name": "LayoutModel",
          "model_module_version": "1.2.0",
          "state": {
            "_model_module": "@jupyter-widgets/base",
            "_model_module_version": "1.2.0",
            "_model_name": "LayoutModel",
            "_view_count": null,
            "_view_module": "@jupyter-widgets/base",
            "_view_module_version": "1.2.0",
            "_view_name": "LayoutView",
            "align_content": null,
            "align_items": null,
            "align_self": null,
            "border": null,
            "bottom": null,
            "display": null,
            "flex": null,
            "flex_flow": null,
            "grid_area": null,
            "grid_auto_columns": null,
            "grid_auto_flow": null,
            "grid_auto_rows": null,
            "grid_column": null,
            "grid_gap": null,
            "grid_row": null,
            "grid_template_areas": null,
            "grid_template_columns": null,
            "grid_template_rows": null,
            "height": null,
            "justify_content": null,
            "justify_items": null,
            "left": null,
            "margin": null,
            "max_height": null,
            "max_width": null,
            "min_height": null,
            "min_width": null,
            "object_fit": null,
            "object_position": null,
            "order": null,
            "overflow": null,
            "overflow_x": null,
            "overflow_y": null,
            "padding": null,
            "right": null,
            "top": null,
            "visibility": null,
            "width": null
          }
        },
        "91331d8b1dba490da9bab66551de62ad": {
          "model_module": "@jupyter-widgets/controls",
          "model_name": "ProgressStyleModel",
          "model_module_version": "1.5.0",
          "state": {
            "_model_module": "@jupyter-widgets/controls",
            "_model_module_version": "1.5.0",
            "_model_name": "ProgressStyleModel",
            "_view_count": null,
            "_view_module": "@jupyter-widgets/base",
            "_view_module_version": "1.2.0",
            "_view_name": "StyleView",
            "bar_color": null,
            "description_width": ""
          }
        },
        "dedce39496d64edca244128c79a207c5": {
          "model_module": "@jupyter-widgets/base",
          "model_name": "LayoutModel",
          "model_module_version": "1.2.0",
          "state": {
            "_model_module": "@jupyter-widgets/base",
            "_model_module_version": "1.2.0",
            "_model_name": "LayoutModel",
            "_view_count": null,
            "_view_module": "@jupyter-widgets/base",
            "_view_module_version": "1.2.0",
            "_view_name": "LayoutView",
            "align_content": null,
            "align_items": null,
            "align_self": null,
            "border": null,
            "bottom": null,
            "display": null,
            "flex": null,
            "flex_flow": null,
            "grid_area": null,
            "grid_auto_columns": null,
            "grid_auto_flow": null,
            "grid_auto_rows": null,
            "grid_column": null,
            "grid_gap": null,
            "grid_row": null,
            "grid_template_areas": null,
            "grid_template_columns": null,
            "grid_template_rows": null,
            "height": null,
            "justify_content": null,
            "justify_items": null,
            "left": null,
            "margin": null,
            "max_height": null,
            "max_width": null,
            "min_height": null,
            "min_width": null,
            "object_fit": null,
            "object_position": null,
            "order": null,
            "overflow": null,
            "overflow_x": null,
            "overflow_y": null,
            "padding": null,
            "right": null,
            "top": null,
            "visibility": null,
            "width": null
          }
        },
        "6cc1e9736ad2460d9d741f5a17d51d62": {
          "model_module": "@jupyter-widgets/controls",
          "model_name": "DescriptionStyleModel",
          "model_module_version": "1.5.0",
          "state": {
            "_model_module": "@jupyter-widgets/controls",
            "_model_module_version": "1.5.0",
            "_model_name": "DescriptionStyleModel",
            "_view_count": null,
            "_view_module": "@jupyter-widgets/base",
            "_view_module_version": "1.2.0",
            "_view_name": "StyleView",
            "description_width": ""
          }
        },
        "e828fd1fb9864e069b4543728afaf330": {
          "model_module": "@jupyter-widgets/controls",
          "model_name": "HBoxModel",
          "model_module_version": "1.5.0",
          "state": {
            "_dom_classes": [],
            "_model_module": "@jupyter-widgets/controls",
            "_model_module_version": "1.5.0",
            "_model_name": "HBoxModel",
            "_view_count": null,
            "_view_module": "@jupyter-widgets/controls",
            "_view_module_version": "1.5.0",
            "_view_name": "HBoxView",
            "box_style": "",
            "children": [
              "IPY_MODEL_4c56730728cb4a12bb6b02272105dbde",
              "IPY_MODEL_e2a8a55d4e7b492ea5c36234789a4f6f",
              "IPY_MODEL_fb6f582ca66b4badb36d94e1cddc4485"
            ],
            "layout": "IPY_MODEL_c7d12488c07f4336bb958f8163d997d1"
          }
        },
        "4c56730728cb4a12bb6b02272105dbde": {
          "model_module": "@jupyter-widgets/controls",
          "model_name": "HTMLModel",
          "model_module_version": "1.5.0",
          "state": {
            "_dom_classes": [],
            "_model_module": "@jupyter-widgets/controls",
            "_model_module_version": "1.5.0",
            "_model_name": "HTMLModel",
            "_view_count": null,
            "_view_module": "@jupyter-widgets/controls",
            "_view_module_version": "1.5.0",
            "_view_name": "HTMLView",
            "description": "",
            "description_tooltip": null,
            "layout": "IPY_MODEL_afe24e50ee8e4cdf988aef6566e02693",
            "placeholder": "​",
            "style": "IPY_MODEL_a8072b535d184f2d8066f15cc81f5768",
            "value": "Downloading asr.ckpt: 100%"
          }
        },
        "e2a8a55d4e7b492ea5c36234789a4f6f": {
          "model_module": "@jupyter-widgets/controls",
          "model_name": "FloatProgressModel",
          "model_module_version": "1.5.0",
          "state": {
            "_dom_classes": [],
            "_model_module": "@jupyter-widgets/controls",
            "_model_module_version": "1.5.0",
            "_model_name": "FloatProgressModel",
            "_view_count": null,
            "_view_module": "@jupyter-widgets/controls",
            "_view_module_version": "1.5.0",
            "_view_name": "ProgressView",
            "bar_style": "success",
            "description": "",
            "description_tooltip": null,
            "layout": "IPY_MODEL_9d020f796a8147b6b4cf96287d473ece",
            "max": 479555971,
            "min": 0,
            "orientation": "horizontal",
            "style": "IPY_MODEL_10790af25984483d8d2863421e831900",
            "value": 479555971
          }
        },
        "fb6f582ca66b4badb36d94e1cddc4485": {
          "model_module": "@jupyter-widgets/controls",
          "model_name": "HTMLModel",
          "model_module_version": "1.5.0",
          "state": {
            "_dom_classes": [],
            "_model_module": "@jupyter-widgets/controls",
            "_model_module_version": "1.5.0",
            "_model_name": "HTMLModel",
            "_view_count": null,
            "_view_module": "@jupyter-widgets/controls",
            "_view_module_version": "1.5.0",
            "_view_name": "HTMLView",
            "description": "",
            "description_tooltip": null,
            "layout": "IPY_MODEL_ea37c440d8cc4a48bf6982d12cd8caf7",
            "placeholder": "​",
            "style": "IPY_MODEL_51194ea05dfc458894403e4864d08a7a",
            "value": " 480M/480M [00:02&lt;00:00, 244MB/s]"
          }
        },
        "c7d12488c07f4336bb958f8163d997d1": {
          "model_module": "@jupyter-widgets/base",
          "model_name": "LayoutModel",
          "model_module_version": "1.2.0",
          "state": {
            "_model_module": "@jupyter-widgets/base",
            "_model_module_version": "1.2.0",
            "_model_name": "LayoutModel",
            "_view_count": null,
            "_view_module": "@jupyter-widgets/base",
            "_view_module_version": "1.2.0",
            "_view_name": "LayoutView",
            "align_content": null,
            "align_items": null,
            "align_self": null,
            "border": null,
            "bottom": null,
            "display": null,
            "flex": null,
            "flex_flow": null,
            "grid_area": null,
            "grid_auto_columns": null,
            "grid_auto_flow": null,
            "grid_auto_rows": null,
            "grid_column": null,
            "grid_gap": null,
            "grid_row": null,
            "grid_template_areas": null,
            "grid_template_columns": null,
            "grid_template_rows": null,
            "height": null,
            "justify_content": null,
            "justify_items": null,
            "left": null,
            "margin": null,
            "max_height": null,
            "max_width": null,
            "min_height": null,
            "min_width": null,
            "object_fit": null,
            "object_position": null,
            "order": null,
            "overflow": null,
            "overflow_x": null,
            "overflow_y": null,
            "padding": null,
            "right": null,
            "top": null,
            "visibility": null,
            "width": null
          }
        },
        "afe24e50ee8e4cdf988aef6566e02693": {
          "model_module": "@jupyter-widgets/base",
          "model_name": "LayoutModel",
          "model_module_version": "1.2.0",
          "state": {
            "_model_module": "@jupyter-widgets/base",
            "_model_module_version": "1.2.0",
            "_model_name": "LayoutModel",
            "_view_count": null,
            "_view_module": "@jupyter-widgets/base",
            "_view_module_version": "1.2.0",
            "_view_name": "LayoutView",
            "align_content": null,
            "align_items": null,
            "align_self": null,
            "border": null,
            "bottom": null,
            "display": null,
            "flex": null,
            "flex_flow": null,
            "grid_area": null,
            "grid_auto_columns": null,
            "grid_auto_flow": null,
            "grid_auto_rows": null,
            "grid_column": null,
            "grid_gap": null,
            "grid_row": null,
            "grid_template_areas": null,
            "grid_template_columns": null,
            "grid_template_rows": null,
            "height": null,
            "justify_content": null,
            "justify_items": null,
            "left": null,
            "margin": null,
            "max_height": null,
            "max_width": null,
            "min_height": null,
            "min_width": null,
            "object_fit": null,
            "object_position": null,
            "order": null,
            "overflow": null,
            "overflow_x": null,
            "overflow_y": null,
            "padding": null,
            "right": null,
            "top": null,
            "visibility": null,
            "width": null
          }
        },
        "a8072b535d184f2d8066f15cc81f5768": {
          "model_module": "@jupyter-widgets/controls",
          "model_name": "DescriptionStyleModel",
          "model_module_version": "1.5.0",
          "state": {
            "_model_module": "@jupyter-widgets/controls",
            "_model_module_version": "1.5.0",
            "_model_name": "DescriptionStyleModel",
            "_view_count": null,
            "_view_module": "@jupyter-widgets/base",
            "_view_module_version": "1.2.0",
            "_view_name": "StyleView",
            "description_width": ""
          }
        },
        "9d020f796a8147b6b4cf96287d473ece": {
          "model_module": "@jupyter-widgets/base",
          "model_name": "LayoutModel",
          "model_module_version": "1.2.0",
          "state": {
            "_model_module": "@jupyter-widgets/base",
            "_model_module_version": "1.2.0",
            "_model_name": "LayoutModel",
            "_view_count": null,
            "_view_module": "@jupyter-widgets/base",
            "_view_module_version": "1.2.0",
            "_view_name": "LayoutView",
            "align_content": null,
            "align_items": null,
            "align_self": null,
            "border": null,
            "bottom": null,
            "display": null,
            "flex": null,
            "flex_flow": null,
            "grid_area": null,
            "grid_auto_columns": null,
            "grid_auto_flow": null,
            "grid_auto_rows": null,
            "grid_column": null,
            "grid_gap": null,
            "grid_row": null,
            "grid_template_areas": null,
            "grid_template_columns": null,
            "grid_template_rows": null,
            "height": null,
            "justify_content": null,
            "justify_items": null,
            "left": null,
            "margin": null,
            "max_height": null,
            "max_width": null,
            "min_height": null,
            "min_width": null,
            "object_fit": null,
            "object_position": null,
            "order": null,
            "overflow": null,
            "overflow_x": null,
            "overflow_y": null,
            "padding": null,
            "right": null,
            "top": null,
            "visibility": null,
            "width": null
          }
        },
        "10790af25984483d8d2863421e831900": {
          "model_module": "@jupyter-widgets/controls",
          "model_name": "ProgressStyleModel",
          "model_module_version": "1.5.0",
          "state": {
            "_model_module": "@jupyter-widgets/controls",
            "_model_module_version": "1.5.0",
            "_model_name": "ProgressStyleModel",
            "_view_count": null,
            "_view_module": "@jupyter-widgets/base",
            "_view_module_version": "1.2.0",
            "_view_name": "StyleView",
            "bar_color": null,
            "description_width": ""
          }
        },
        "ea37c440d8cc4a48bf6982d12cd8caf7": {
          "model_module": "@jupyter-widgets/base",
          "model_name": "LayoutModel",
          "model_module_version": "1.2.0",
          "state": {
            "_model_module": "@jupyter-widgets/base",
            "_model_module_version": "1.2.0",
            "_model_name": "LayoutModel",
            "_view_count": null,
            "_view_module": "@jupyter-widgets/base",
            "_view_module_version": "1.2.0",
            "_view_name": "LayoutView",
            "align_content": null,
            "align_items": null,
            "align_self": null,
            "border": null,
            "bottom": null,
            "display": null,
            "flex": null,
            "flex_flow": null,
            "grid_area": null,
            "grid_auto_columns": null,
            "grid_auto_flow": null,
            "grid_auto_rows": null,
            "grid_column": null,
            "grid_gap": null,
            "grid_row": null,
            "grid_template_areas": null,
            "grid_template_columns": null,
            "grid_template_rows": null,
            "height": null,
            "justify_content": null,
            "justify_items": null,
            "left": null,
            "margin": null,
            "max_height": null,
            "max_width": null,
            "min_height": null,
            "min_width": null,
            "object_fit": null,
            "object_position": null,
            "order": null,
            "overflow": null,
            "overflow_x": null,
            "overflow_y": null,
            "padding": null,
            "right": null,
            "top": null,
            "visibility": null,
            "width": null
          }
        },
        "51194ea05dfc458894403e4864d08a7a": {
          "model_module": "@jupyter-widgets/controls",
          "model_name": "DescriptionStyleModel",
          "model_module_version": "1.5.0",
          "state": {
            "_model_module": "@jupyter-widgets/controls",
            "_model_module_version": "1.5.0",
            "_model_name": "DescriptionStyleModel",
            "_view_count": null,
            "_view_module": "@jupyter-widgets/base",
            "_view_module_version": "1.2.0",
            "_view_name": "StyleView",
            "description_width": ""
          }
        },
        "ea693a0fdc4d482080450289fa837121": {
          "model_module": "@jupyter-widgets/controls",
          "model_name": "HBoxModel",
          "model_module_version": "1.5.0",
          "state": {
            "_dom_classes": [],
            "_model_module": "@jupyter-widgets/controls",
            "_model_module_version": "1.5.0",
            "_model_name": "HBoxModel",
            "_view_count": null,
            "_view_module": "@jupyter-widgets/controls",
            "_view_module_version": "1.5.0",
            "_view_name": "HBoxView",
            "box_style": "",
            "children": [
              "IPY_MODEL_5330848717294b85a96879688347288b",
              "IPY_MODEL_d5bae4b463ab4da798b0e662c3042aa5",
              "IPY_MODEL_eb2e968b3d3a40ada7920268463dac10"
            ],
            "layout": "IPY_MODEL_34f2295dc3cb4db1b48a550e1238d0a0"
          }
        },
        "5330848717294b85a96879688347288b": {
          "model_module": "@jupyter-widgets/controls",
          "model_name": "HTMLModel",
          "model_module_version": "1.5.0",
          "state": {
            "_dom_classes": [],
            "_model_module": "@jupyter-widgets/controls",
            "_model_module_version": "1.5.0",
            "_model_name": "HTMLModel",
            "_view_count": null,
            "_view_module": "@jupyter-widgets/controls",
            "_view_module_version": "1.5.0",
            "_view_name": "HTMLView",
            "description": "",
            "description_tooltip": null,
            "layout": "IPY_MODEL_3da000a1042f49faa4169d623ae6adce",
            "placeholder": "​",
            "style": "IPY_MODEL_758727cbc71642ae8d83be63c042b341",
            "value": "Downloading lm.ckpt: 100%"
          }
        },
        "d5bae4b463ab4da798b0e662c3042aa5": {
          "model_module": "@jupyter-widgets/controls",
          "model_name": "FloatProgressModel",
          "model_module_version": "1.5.0",
          "state": {
            "_dom_classes": [],
            "_model_module": "@jupyter-widgets/controls",
            "_model_module_version": "1.5.0",
            "_model_name": "FloatProgressModel",
            "_view_count": null,
            "_view_module": "@jupyter-widgets/controls",
            "_view_module_version": "1.5.0",
            "_view_name": "ProgressView",
            "bar_style": "success",
            "description": "",
            "description_tooltip": null,
            "layout": "IPY_MODEL_8c8b947ef8cb42b69faad1416bb2d83e",
            "max": 212420087,
            "min": 0,
            "orientation": "horizontal",
            "style": "IPY_MODEL_ee843fd8c3844ff7b3a9c820c1a342d2",
            "value": 212420087
          }
        },
        "eb2e968b3d3a40ada7920268463dac10": {
          "model_module": "@jupyter-widgets/controls",
          "model_name": "HTMLModel",
          "model_module_version": "1.5.0",
          "state": {
            "_dom_classes": [],
            "_model_module": "@jupyter-widgets/controls",
            "_model_module_version": "1.5.0",
            "_model_name": "HTMLModel",
            "_view_count": null,
            "_view_module": "@jupyter-widgets/controls",
            "_view_module_version": "1.5.0",
            "_view_name": "HTMLView",
            "description": "",
            "description_tooltip": null,
            "layout": "IPY_MODEL_0c4ae501cfb943f3a98a37cccd9bec78",
            "placeholder": "​",
            "style": "IPY_MODEL_d93ec5323dc64094b18fb94741e4e6cd",
            "value": " 212M/212M [00:03&lt;00:00, 38.3MB/s]"
          }
        },
        "34f2295dc3cb4db1b48a550e1238d0a0": {
          "model_module": "@jupyter-widgets/base",
          "model_name": "LayoutModel",
          "model_module_version": "1.2.0",
          "state": {
            "_model_module": "@jupyter-widgets/base",
            "_model_module_version": "1.2.0",
            "_model_name": "LayoutModel",
            "_view_count": null,
            "_view_module": "@jupyter-widgets/base",
            "_view_module_version": "1.2.0",
            "_view_name": "LayoutView",
            "align_content": null,
            "align_items": null,
            "align_self": null,
            "border": null,
            "bottom": null,
            "display": null,
            "flex": null,
            "flex_flow": null,
            "grid_area": null,
            "grid_auto_columns": null,
            "grid_auto_flow": null,
            "grid_auto_rows": null,
            "grid_column": null,
            "grid_gap": null,
            "grid_row": null,
            "grid_template_areas": null,
            "grid_template_columns": null,
            "grid_template_rows": null,
            "height": null,
            "justify_content": null,
            "justify_items": null,
            "left": null,
            "margin": null,
            "max_height": null,
            "max_width": null,
            "min_height": null,
            "min_width": null,
            "object_fit": null,
            "object_position": null,
            "order": null,
            "overflow": null,
            "overflow_x": null,
            "overflow_y": null,
            "padding": null,
            "right": null,
            "top": null,
            "visibility": null,
            "width": null
          }
        },
        "3da000a1042f49faa4169d623ae6adce": {
          "model_module": "@jupyter-widgets/base",
          "model_name": "LayoutModel",
          "model_module_version": "1.2.0",
          "state": {
            "_model_module": "@jupyter-widgets/base",
            "_model_module_version": "1.2.0",
            "_model_name": "LayoutModel",
            "_view_count": null,
            "_view_module": "@jupyter-widgets/base",
            "_view_module_version": "1.2.0",
            "_view_name": "LayoutView",
            "align_content": null,
            "align_items": null,
            "align_self": null,
            "border": null,
            "bottom": null,
            "display": null,
            "flex": null,
            "flex_flow": null,
            "grid_area": null,
            "grid_auto_columns": null,
            "grid_auto_flow": null,
            "grid_auto_rows": null,
            "grid_column": null,
            "grid_gap": null,
            "grid_row": null,
            "grid_template_areas": null,
            "grid_template_columns": null,
            "grid_template_rows": null,
            "height": null,
            "justify_content": null,
            "justify_items": null,
            "left": null,
            "margin": null,
            "max_height": null,
            "max_width": null,
            "min_height": null,
            "min_width": null,
            "object_fit": null,
            "object_position": null,
            "order": null,
            "overflow": null,
            "overflow_x": null,
            "overflow_y": null,
            "padding": null,
            "right": null,
            "top": null,
            "visibility": null,
            "width": null
          }
        },
        "758727cbc71642ae8d83be63c042b341": {
          "model_module": "@jupyter-widgets/controls",
          "model_name": "DescriptionStyleModel",
          "model_module_version": "1.5.0",
          "state": {
            "_model_module": "@jupyter-widgets/controls",
            "_model_module_version": "1.5.0",
            "_model_name": "DescriptionStyleModel",
            "_view_count": null,
            "_view_module": "@jupyter-widgets/base",
            "_view_module_version": "1.2.0",
            "_view_name": "StyleView",
            "description_width": ""
          }
        },
        "8c8b947ef8cb42b69faad1416bb2d83e": {
          "model_module": "@jupyter-widgets/base",
          "model_name": "LayoutModel",
          "model_module_version": "1.2.0",
          "state": {
            "_model_module": "@jupyter-widgets/base",
            "_model_module_version": "1.2.0",
            "_model_name": "LayoutModel",
            "_view_count": null,
            "_view_module": "@jupyter-widgets/base",
            "_view_module_version": "1.2.0",
            "_view_name": "LayoutView",
            "align_content": null,
            "align_items": null,
            "align_self": null,
            "border": null,
            "bottom": null,
            "display": null,
            "flex": null,
            "flex_flow": null,
            "grid_area": null,
            "grid_auto_columns": null,
            "grid_auto_flow": null,
            "grid_auto_rows": null,
            "grid_column": null,
            "grid_gap": null,
            "grid_row": null,
            "grid_template_areas": null,
            "grid_template_columns": null,
            "grid_template_rows": null,
            "height": null,
            "justify_content": null,
            "justify_items": null,
            "left": null,
            "margin": null,
            "max_height": null,
            "max_width": null,
            "min_height": null,
            "min_width": null,
            "object_fit": null,
            "object_position": null,
            "order": null,
            "overflow": null,
            "overflow_x": null,
            "overflow_y": null,
            "padding": null,
            "right": null,
            "top": null,
            "visibility": null,
            "width": null
          }
        },
        "ee843fd8c3844ff7b3a9c820c1a342d2": {
          "model_module": "@jupyter-widgets/controls",
          "model_name": "ProgressStyleModel",
          "model_module_version": "1.5.0",
          "state": {
            "_model_module": "@jupyter-widgets/controls",
            "_model_module_version": "1.5.0",
            "_model_name": "ProgressStyleModel",
            "_view_count": null,
            "_view_module": "@jupyter-widgets/base",
            "_view_module_version": "1.2.0",
            "_view_name": "StyleView",
            "bar_color": null,
            "description_width": ""
          }
        },
        "0c4ae501cfb943f3a98a37cccd9bec78": {
          "model_module": "@jupyter-widgets/base",
          "model_name": "LayoutModel",
          "model_module_version": "1.2.0",
          "state": {
            "_model_module": "@jupyter-widgets/base",
            "_model_module_version": "1.2.0",
            "_model_name": "LayoutModel",
            "_view_count": null,
            "_view_module": "@jupyter-widgets/base",
            "_view_module_version": "1.2.0",
            "_view_name": "LayoutView",
            "align_content": null,
            "align_items": null,
            "align_self": null,
            "border": null,
            "bottom": null,
            "display": null,
            "flex": null,
            "flex_flow": null,
            "grid_area": null,
            "grid_auto_columns": null,
            "grid_auto_flow": null,
            "grid_auto_rows": null,
            "grid_column": null,
            "grid_gap": null,
            "grid_row": null,
            "grid_template_areas": null,
            "grid_template_columns": null,
            "grid_template_rows": null,
            "height": null,
            "justify_content": null,
            "justify_items": null,
            "left": null,
            "margin": null,
            "max_height": null,
            "max_width": null,
            "min_height": null,
            "min_width": null,
            "object_fit": null,
            "object_position": null,
            "order": null,
            "overflow": null,
            "overflow_x": null,
            "overflow_y": null,
            "padding": null,
            "right": null,
            "top": null,
            "visibility": null,
            "width": null
          }
        },
        "d93ec5323dc64094b18fb94741e4e6cd": {
          "model_module": "@jupyter-widgets/controls",
          "model_name": "DescriptionStyleModel",
          "model_module_version": "1.5.0",
          "state": {
            "_model_module": "@jupyter-widgets/controls",
            "_model_module_version": "1.5.0",
            "_model_name": "DescriptionStyleModel",
            "_view_count": null,
            "_view_module": "@jupyter-widgets/base",
            "_view_module_version": "1.2.0",
            "_view_name": "StyleView",
            "description_width": ""
          }
        },
        "d65f46d32bf046638052b377eb5c79a4": {
          "model_module": "@jupyter-widgets/controls",
          "model_name": "HBoxModel",
          "model_module_version": "1.5.0",
          "state": {
            "_dom_classes": [],
            "_model_module": "@jupyter-widgets/controls",
            "_model_module_version": "1.5.0",
            "_model_name": "HBoxModel",
            "_view_count": null,
            "_view_module": "@jupyter-widgets/controls",
            "_view_module_version": "1.5.0",
            "_view_name": "HBoxView",
            "box_style": "",
            "children": [
              "IPY_MODEL_d4701f0e28e7457babcbc2ef1c20d250",
              "IPY_MODEL_541c3d214c0a466590e4ba2e08804c94",
              "IPY_MODEL_637065abf9ce4847a332ef6a1ee737bb"
            ],
            "layout": "IPY_MODEL_7450505a551f49a888c8885f2d32d474"
          }
        },
        "d4701f0e28e7457babcbc2ef1c20d250": {
          "model_module": "@jupyter-widgets/controls",
          "model_name": "HTMLModel",
          "model_module_version": "1.5.0",
          "state": {
            "_dom_classes": [],
            "_model_module": "@jupyter-widgets/controls",
            "_model_module_version": "1.5.0",
            "_model_name": "HTMLModel",
            "_view_count": null,
            "_view_module": "@jupyter-widgets/controls",
            "_view_module_version": "1.5.0",
            "_view_name": "HTMLView",
            "description": "",
            "description_tooltip": null,
            "layout": "IPY_MODEL_2ae0ae9a8a58426e8905a79102082518",
            "placeholder": "​",
            "style": "IPY_MODEL_a299850a6d454bde95ec346e5e20362c",
            "value": "Downloading tokenizer.ckpt: 100%"
          }
        },
        "541c3d214c0a466590e4ba2e08804c94": {
          "model_module": "@jupyter-widgets/controls",
          "model_name": "FloatProgressModel",
          "model_module_version": "1.5.0",
          "state": {
            "_dom_classes": [],
            "_model_module": "@jupyter-widgets/controls",
            "_model_module_version": "1.5.0",
            "_model_name": "FloatProgressModel",
            "_view_count": null,
            "_view_module": "@jupyter-widgets/controls",
            "_view_module_version": "1.5.0",
            "_view_name": "ProgressView",
            "bar_style": "success",
            "description": "",
            "description_tooltip": null,
            "layout": "IPY_MODEL_a3bcddcfcfbe488ea4665fdaa3e07ba6",
            "max": 253217,
            "min": 0,
            "orientation": "horizontal",
            "style": "IPY_MODEL_bc67ec81dd7f43de8b49a8191f171065",
            "value": 253217
          }
        },
        "637065abf9ce4847a332ef6a1ee737bb": {
          "model_module": "@jupyter-widgets/controls",
          "model_name": "HTMLModel",
          "model_module_version": "1.5.0",
          "state": {
            "_dom_classes": [],
            "_model_module": "@jupyter-widgets/controls",
            "_model_module_version": "1.5.0",
            "_model_name": "HTMLModel",
            "_view_count": null,
            "_view_module": "@jupyter-widgets/controls",
            "_view_module_version": "1.5.0",
            "_view_name": "HTMLView",
            "description": "",
            "description_tooltip": null,
            "layout": "IPY_MODEL_6f5bae93066c449ca09cef3014c59702",
            "placeholder": "​",
            "style": "IPY_MODEL_bb1c484acef747ab87e39b05479d9ad4",
            "value": " 253k/253k [00:00&lt;00:00, 6.48MB/s]"
          }
        },
        "7450505a551f49a888c8885f2d32d474": {
          "model_module": "@jupyter-widgets/base",
          "model_name": "LayoutModel",
          "model_module_version": "1.2.0",
          "state": {
            "_model_module": "@jupyter-widgets/base",
            "_model_module_version": "1.2.0",
            "_model_name": "LayoutModel",
            "_view_count": null,
            "_view_module": "@jupyter-widgets/base",
            "_view_module_version": "1.2.0",
            "_view_name": "LayoutView",
            "align_content": null,
            "align_items": null,
            "align_self": null,
            "border": null,
            "bottom": null,
            "display": null,
            "flex": null,
            "flex_flow": null,
            "grid_area": null,
            "grid_auto_columns": null,
            "grid_auto_flow": null,
            "grid_auto_rows": null,
            "grid_column": null,
            "grid_gap": null,
            "grid_row": null,
            "grid_template_areas": null,
            "grid_template_columns": null,
            "grid_template_rows": null,
            "height": null,
            "justify_content": null,
            "justify_items": null,
            "left": null,
            "margin": null,
            "max_height": null,
            "max_width": null,
            "min_height": null,
            "min_width": null,
            "object_fit": null,
            "object_position": null,
            "order": null,
            "overflow": null,
            "overflow_x": null,
            "overflow_y": null,
            "padding": null,
            "right": null,
            "top": null,
            "visibility": null,
            "width": null
          }
        },
        "2ae0ae9a8a58426e8905a79102082518": {
          "model_module": "@jupyter-widgets/base",
          "model_name": "LayoutModel",
          "model_module_version": "1.2.0",
          "state": {
            "_model_module": "@jupyter-widgets/base",
            "_model_module_version": "1.2.0",
            "_model_name": "LayoutModel",
            "_view_count": null,
            "_view_module": "@jupyter-widgets/base",
            "_view_module_version": "1.2.0",
            "_view_name": "LayoutView",
            "align_content": null,
            "align_items": null,
            "align_self": null,
            "border": null,
            "bottom": null,
            "display": null,
            "flex": null,
            "flex_flow": null,
            "grid_area": null,
            "grid_auto_columns": null,
            "grid_auto_flow": null,
            "grid_auto_rows": null,
            "grid_column": null,
            "grid_gap": null,
            "grid_row": null,
            "grid_template_areas": null,
            "grid_template_columns": null,
            "grid_template_rows": null,
            "height": null,
            "justify_content": null,
            "justify_items": null,
            "left": null,
            "margin": null,
            "max_height": null,
            "max_width": null,
            "min_height": null,
            "min_width": null,
            "object_fit": null,
            "object_position": null,
            "order": null,
            "overflow": null,
            "overflow_x": null,
            "overflow_y": null,
            "padding": null,
            "right": null,
            "top": null,
            "visibility": null,
            "width": null
          }
        },
        "a299850a6d454bde95ec346e5e20362c": {
          "model_module": "@jupyter-widgets/controls",
          "model_name": "DescriptionStyleModel",
          "model_module_version": "1.5.0",
          "state": {
            "_model_module": "@jupyter-widgets/controls",
            "_model_module_version": "1.5.0",
            "_model_name": "DescriptionStyleModel",
            "_view_count": null,
            "_view_module": "@jupyter-widgets/base",
            "_view_module_version": "1.2.0",
            "_view_name": "StyleView",
            "description_width": ""
          }
        },
        "a3bcddcfcfbe488ea4665fdaa3e07ba6": {
          "model_module": "@jupyter-widgets/base",
          "model_name": "LayoutModel",
          "model_module_version": "1.2.0",
          "state": {
            "_model_module": "@jupyter-widgets/base",
            "_model_module_version": "1.2.0",
            "_model_name": "LayoutModel",
            "_view_count": null,
            "_view_module": "@jupyter-widgets/base",
            "_view_module_version": "1.2.0",
            "_view_name": "LayoutView",
            "align_content": null,
            "align_items": null,
            "align_self": null,
            "border": null,
            "bottom": null,
            "display": null,
            "flex": null,
            "flex_flow": null,
            "grid_area": null,
            "grid_auto_columns": null,
            "grid_auto_flow": null,
            "grid_auto_rows": null,
            "grid_column": null,
            "grid_gap": null,
            "grid_row": null,
            "grid_template_areas": null,
            "grid_template_columns": null,
            "grid_template_rows": null,
            "height": null,
            "justify_content": null,
            "justify_items": null,
            "left": null,
            "margin": null,
            "max_height": null,
            "max_width": null,
            "min_height": null,
            "min_width": null,
            "object_fit": null,
            "object_position": null,
            "order": null,
            "overflow": null,
            "overflow_x": null,
            "overflow_y": null,
            "padding": null,
            "right": null,
            "top": null,
            "visibility": null,
            "width": null
          }
        },
        "bc67ec81dd7f43de8b49a8191f171065": {
          "model_module": "@jupyter-widgets/controls",
          "model_name": "ProgressStyleModel",
          "model_module_version": "1.5.0",
          "state": {
            "_model_module": "@jupyter-widgets/controls",
            "_model_module_version": "1.5.0",
            "_model_name": "ProgressStyleModel",
            "_view_count": null,
            "_view_module": "@jupyter-widgets/base",
            "_view_module_version": "1.2.0",
            "_view_name": "StyleView",
            "bar_color": null,
            "description_width": ""
          }
        },
        "6f5bae93066c449ca09cef3014c59702": {
          "model_module": "@jupyter-widgets/base",
          "model_name": "LayoutModel",
          "model_module_version": "1.2.0",
          "state": {
            "_model_module": "@jupyter-widgets/base",
            "_model_module_version": "1.2.0",
            "_model_name": "LayoutModel",
            "_view_count": null,
            "_view_module": "@jupyter-widgets/base",
            "_view_module_version": "1.2.0",
            "_view_name": "LayoutView",
            "align_content": null,
            "align_items": null,
            "align_self": null,
            "border": null,
            "bottom": null,
            "display": null,
            "flex": null,
            "flex_flow": null,
            "grid_area": null,
            "grid_auto_columns": null,
            "grid_auto_flow": null,
            "grid_auto_rows": null,
            "grid_column": null,
            "grid_gap": null,
            "grid_row": null,
            "grid_template_areas": null,
            "grid_template_columns": null,
            "grid_template_rows": null,
            "height": null,
            "justify_content": null,
            "justify_items": null,
            "left": null,
            "margin": null,
            "max_height": null,
            "max_width": null,
            "min_height": null,
            "min_width": null,
            "object_fit": null,
            "object_position": null,
            "order": null,
            "overflow": null,
            "overflow_x": null,
            "overflow_y": null,
            "padding": null,
            "right": null,
            "top": null,
            "visibility": null,
            "width": null
          }
        },
        "bb1c484acef747ab87e39b05479d9ad4": {
          "model_module": "@jupyter-widgets/controls",
          "model_name": "DescriptionStyleModel",
          "model_module_version": "1.5.0",
          "state": {
            "_model_module": "@jupyter-widgets/controls",
            "_model_module_version": "1.5.0",
            "_model_name": "DescriptionStyleModel",
            "_view_count": null,
            "_view_module": "@jupyter-widgets/base",
            "_view_module_version": "1.2.0",
            "_view_name": "StyleView",
            "description_width": ""
          }
        },
        "f1b2135e036e4363819bb770995b7839": {
          "model_module": "@jupyter-widgets/controls",
          "model_name": "HBoxModel",
          "model_module_version": "1.5.0",
          "state": {
            "_dom_classes": [],
            "_model_module": "@jupyter-widgets/controls",
            "_model_module_version": "1.5.0",
            "_model_name": "HBoxModel",
            "_view_count": null,
            "_view_module": "@jupyter-widgets/controls",
            "_view_module_version": "1.5.0",
            "_view_name": "HBoxView",
            "box_style": "",
            "children": [
              "IPY_MODEL_92677b24268945038653023a779bf7b8",
              "IPY_MODEL_39de5b99eaba4cedabe94123513b008f",
              "IPY_MODEL_f906b02648744eedaa2a2c08ad2ed7d6"
            ],
            "layout": "IPY_MODEL_4120ca44c3554bc589f63041b67f808d"
          }
        },
        "92677b24268945038653023a779bf7b8": {
          "model_module": "@jupyter-widgets/controls",
          "model_name": "HTMLModel",
          "model_module_version": "1.5.0",
          "state": {
            "_dom_classes": [],
            "_model_module": "@jupyter-widgets/controls",
            "_model_module_version": "1.5.0",
            "_model_name": "HTMLModel",
            "_view_count": null,
            "_view_module": "@jupyter-widgets/controls",
            "_view_module_version": "1.5.0",
            "_view_name": "HTMLView",
            "description": "",
            "description_tooltip": null,
            "layout": "IPY_MODEL_2700ce3c33f343e494a294e3866fe1ba",
            "placeholder": "​",
            "style": "IPY_MODEL_dad62f17b89c41dc84f2022c157f7ce8",
            "value": "100%"
          }
        },
        "39de5b99eaba4cedabe94123513b008f": {
          "model_module": "@jupyter-widgets/controls",
          "model_name": "FloatProgressModel",
          "model_module_version": "1.5.0",
          "state": {
            "_dom_classes": [],
            "_model_module": "@jupyter-widgets/controls",
            "_model_module_version": "1.5.0",
            "_model_name": "FloatProgressModel",
            "_view_count": null,
            "_view_module": "@jupyter-widgets/controls",
            "_view_module_version": "1.5.0",
            "_view_name": "ProgressView",
            "bar_style": "danger",
            "description": "",
            "description_tooltip": null,
            "layout": "IPY_MODEL_9db387099d9f437d85b1a4ed9f05d8a0",
            "max": 8836,
            "min": 0,
            "orientation": "horizontal",
            "style": "IPY_MODEL_8673fb3df4424917a55a01b7b70fb718",
            "value": 8835
          }
        },
        "f906b02648744eedaa2a2c08ad2ed7d6": {
          "model_module": "@jupyter-widgets/controls",
          "model_name": "HTMLModel",
          "model_module_version": "1.5.0",
          "state": {
            "_dom_classes": [],
            "_model_module": "@jupyter-widgets/controls",
            "_model_module_version": "1.5.0",
            "_model_name": "HTMLModel",
            "_view_count": null,
            "_view_module": "@jupyter-widgets/controls",
            "_view_module_version": "1.5.0",
            "_view_name": "HTMLView",
            "description": "",
            "description_tooltip": null,
            "layout": "IPY_MODEL_55a7283f780a445ba5338ab146c697de",
            "placeholder": "​",
            "style": "IPY_MODEL_0ba323e817094d3994200659a88da5ff",
            "value": " 8835/8836 [24:03&lt;00:00,  6.11it/s]"
          }
        },
        "4120ca44c3554bc589f63041b67f808d": {
          "model_module": "@jupyter-widgets/base",
          "model_name": "LayoutModel",
          "model_module_version": "1.2.0",
          "state": {
            "_model_module": "@jupyter-widgets/base",
            "_model_module_version": "1.2.0",
            "_model_name": "LayoutModel",
            "_view_count": null,
            "_view_module": "@jupyter-widgets/base",
            "_view_module_version": "1.2.0",
            "_view_name": "LayoutView",
            "align_content": null,
            "align_items": null,
            "align_self": null,
            "border": null,
            "bottom": null,
            "display": null,
            "flex": null,
            "flex_flow": null,
            "grid_area": null,
            "grid_auto_columns": null,
            "grid_auto_flow": null,
            "grid_auto_rows": null,
            "grid_column": null,
            "grid_gap": null,
            "grid_row": null,
            "grid_template_areas": null,
            "grid_template_columns": null,
            "grid_template_rows": null,
            "height": null,
            "justify_content": null,
            "justify_items": null,
            "left": null,
            "margin": null,
            "max_height": null,
            "max_width": null,
            "min_height": null,
            "min_width": null,
            "object_fit": null,
            "object_position": null,
            "order": null,
            "overflow": null,
            "overflow_x": null,
            "overflow_y": null,
            "padding": null,
            "right": null,
            "top": null,
            "visibility": null,
            "width": null
          }
        },
        "2700ce3c33f343e494a294e3866fe1ba": {
          "model_module": "@jupyter-widgets/base",
          "model_name": "LayoutModel",
          "model_module_version": "1.2.0",
          "state": {
            "_model_module": "@jupyter-widgets/base",
            "_model_module_version": "1.2.0",
            "_model_name": "LayoutModel",
            "_view_count": null,
            "_view_module": "@jupyter-widgets/base",
            "_view_module_version": "1.2.0",
            "_view_name": "LayoutView",
            "align_content": null,
            "align_items": null,
            "align_self": null,
            "border": null,
            "bottom": null,
            "display": null,
            "flex": null,
            "flex_flow": null,
            "grid_area": null,
            "grid_auto_columns": null,
            "grid_auto_flow": null,
            "grid_auto_rows": null,
            "grid_column": null,
            "grid_gap": null,
            "grid_row": null,
            "grid_template_areas": null,
            "grid_template_columns": null,
            "grid_template_rows": null,
            "height": null,
            "justify_content": null,
            "justify_items": null,
            "left": null,
            "margin": null,
            "max_height": null,
            "max_width": null,
            "min_height": null,
            "min_width": null,
            "object_fit": null,
            "object_position": null,
            "order": null,
            "overflow": null,
            "overflow_x": null,
            "overflow_y": null,
            "padding": null,
            "right": null,
            "top": null,
            "visibility": null,
            "width": null
          }
        },
        "dad62f17b89c41dc84f2022c157f7ce8": {
          "model_module": "@jupyter-widgets/controls",
          "model_name": "DescriptionStyleModel",
          "model_module_version": "1.5.0",
          "state": {
            "_model_module": "@jupyter-widgets/controls",
            "_model_module_version": "1.5.0",
            "_model_name": "DescriptionStyleModel",
            "_view_count": null,
            "_view_module": "@jupyter-widgets/base",
            "_view_module_version": "1.2.0",
            "_view_name": "StyleView",
            "description_width": ""
          }
        },
        "9db387099d9f437d85b1a4ed9f05d8a0": {
          "model_module": "@jupyter-widgets/base",
          "model_name": "LayoutModel",
          "model_module_version": "1.2.0",
          "state": {
            "_model_module": "@jupyter-widgets/base",
            "_model_module_version": "1.2.0",
            "_model_name": "LayoutModel",
            "_view_count": null,
            "_view_module": "@jupyter-widgets/base",
            "_view_module_version": "1.2.0",
            "_view_name": "LayoutView",
            "align_content": null,
            "align_items": null,
            "align_self": null,
            "border": null,
            "bottom": null,
            "display": null,
            "flex": null,
            "flex_flow": null,
            "grid_area": null,
            "grid_auto_columns": null,
            "grid_auto_flow": null,
            "grid_auto_rows": null,
            "grid_column": null,
            "grid_gap": null,
            "grid_row": null,
            "grid_template_areas": null,
            "grid_template_columns": null,
            "grid_template_rows": null,
            "height": null,
            "justify_content": null,
            "justify_items": null,
            "left": null,
            "margin": null,
            "max_height": null,
            "max_width": null,
            "min_height": null,
            "min_width": null,
            "object_fit": null,
            "object_position": null,
            "order": null,
            "overflow": null,
            "overflow_x": null,
            "overflow_y": null,
            "padding": null,
            "right": null,
            "top": null,
            "visibility": null,
            "width": null
          }
        },
        "8673fb3df4424917a55a01b7b70fb718": {
          "model_module": "@jupyter-widgets/controls",
          "model_name": "ProgressStyleModel",
          "model_module_version": "1.5.0",
          "state": {
            "_model_module": "@jupyter-widgets/controls",
            "_model_module_version": "1.5.0",
            "_model_name": "ProgressStyleModel",
            "_view_count": null,
            "_view_module": "@jupyter-widgets/base",
            "_view_module_version": "1.2.0",
            "_view_name": "StyleView",
            "bar_color": null,
            "description_width": ""
          }
        },
        "55a7283f780a445ba5338ab146c697de": {
          "model_module": "@jupyter-widgets/base",
          "model_name": "LayoutModel",
          "model_module_version": "1.2.0",
          "state": {
            "_model_module": "@jupyter-widgets/base",
            "_model_module_version": "1.2.0",
            "_model_name": "LayoutModel",
            "_view_count": null,
            "_view_module": "@jupyter-widgets/base",
            "_view_module_version": "1.2.0",
            "_view_name": "LayoutView",
            "align_content": null,
            "align_items": null,
            "align_self": null,
            "border": null,
            "bottom": null,
            "display": null,
            "flex": null,
            "flex_flow": null,
            "grid_area": null,
            "grid_auto_columns": null,
            "grid_auto_flow": null,
            "grid_auto_rows": null,
            "grid_column": null,
            "grid_gap": null,
            "grid_row": null,
            "grid_template_areas": null,
            "grid_template_columns": null,
            "grid_template_rows": null,
            "height": null,
            "justify_content": null,
            "justify_items": null,
            "left": null,
            "margin": null,
            "max_height": null,
            "max_width": null,
            "min_height": null,
            "min_width": null,
            "object_fit": null,
            "object_position": null,
            "order": null,
            "overflow": null,
            "overflow_x": null,
            "overflow_y": null,
            "padding": null,
            "right": null,
            "top": null,
            "visibility": null,
            "width": null
          }
        },
        "0ba323e817094d3994200659a88da5ff": {
          "model_module": "@jupyter-widgets/controls",
          "model_name": "DescriptionStyleModel",
          "model_module_version": "1.5.0",
          "state": {
            "_model_module": "@jupyter-widgets/controls",
            "_model_module_version": "1.5.0",
            "_model_name": "DescriptionStyleModel",
            "_view_count": null,
            "_view_module": "@jupyter-widgets/base",
            "_view_module_version": "1.2.0",
            "_view_name": "StyleView",
            "description_width": ""
          }
        },
        "891d1597f2f64b03aa28921165b618f3": {
          "model_module": "@jupyter-widgets/controls",
          "model_name": "HBoxModel",
          "model_module_version": "1.5.0",
          "state": {
            "_dom_classes": [],
            "_model_module": "@jupyter-widgets/controls",
            "_model_module_version": "1.5.0",
            "_model_name": "HBoxModel",
            "_view_count": null,
            "_view_module": "@jupyter-widgets/controls",
            "_view_module_version": "1.5.0",
            "_view_name": "HBoxView",
            "box_style": "",
            "children": [
              "IPY_MODEL_c87d5eb348674171982d2b06c46f2272",
              "IPY_MODEL_15c755118bbd4f3ab6c42df75cf845bb",
              "IPY_MODEL_9750f619f2e9449d86bdfb365f1a6427"
            ],
            "layout": "IPY_MODEL_498c1d47a75141b9bce62db0b821eb72"
          }
        },
        "c87d5eb348674171982d2b06c46f2272": {
          "model_module": "@jupyter-widgets/controls",
          "model_name": "HTMLModel",
          "model_module_version": "1.5.0",
          "state": {
            "_dom_classes": [],
            "_model_module": "@jupyter-widgets/controls",
            "_model_module_version": "1.5.0",
            "_model_name": "HTMLModel",
            "_view_count": null,
            "_view_module": "@jupyter-widgets/controls",
            "_view_module_version": "1.5.0",
            "_view_name": "HTMLView",
            "description": "",
            "description_tooltip": null,
            "layout": "IPY_MODEL_205fc584303e47ada46fbcef3c6ceafa",
            "placeholder": "​",
            "style": "IPY_MODEL_5d9056e59d6243edaea1739db3b590ee",
            "value": "100%"
          }
        },
        "15c755118bbd4f3ab6c42df75cf845bb": {
          "model_module": "@jupyter-widgets/controls",
          "model_name": "FloatProgressModel",
          "model_module_version": "1.5.0",
          "state": {
            "_dom_classes": [],
            "_model_module": "@jupyter-widgets/controls",
            "_model_module_version": "1.5.0",
            "_model_name": "FloatProgressModel",
            "_view_count": null,
            "_view_module": "@jupyter-widgets/controls",
            "_view_module_version": "1.5.0",
            "_view_name": "ProgressView",
            "bar_style": "success",
            "description": "",
            "description_tooltip": null,
            "layout": "IPY_MODEL_e5a2a2679fa44c25917f0cc198311639",
            "max": 3558,
            "min": 0,
            "orientation": "horizontal",
            "style": "IPY_MODEL_18a14cd7dba141f793957a4e914386ef",
            "value": 3558
          }
        },
        "9750f619f2e9449d86bdfb365f1a6427": {
          "model_module": "@jupyter-widgets/controls",
          "model_name": "HTMLModel",
          "model_module_version": "1.5.0",
          "state": {
            "_dom_classes": [],
            "_model_module": "@jupyter-widgets/controls",
            "_model_module_version": "1.5.0",
            "_model_name": "HTMLModel",
            "_view_count": null,
            "_view_module": "@jupyter-widgets/controls",
            "_view_module_version": "1.5.0",
            "_view_name": "HTMLView",
            "description": "",
            "description_tooltip": null,
            "layout": "IPY_MODEL_4e4c25408c43429c9bcd6c2e1323054b",
            "placeholder": "​",
            "style": "IPY_MODEL_34ba61e29bc344ec80bc64e7b6688e6a",
            "value": " 3558/3558 [09:36&lt;00:00,  6.12it/s]"
          }
        },
        "498c1d47a75141b9bce62db0b821eb72": {
          "model_module": "@jupyter-widgets/base",
          "model_name": "LayoutModel",
          "model_module_version": "1.2.0",
          "state": {
            "_model_module": "@jupyter-widgets/base",
            "_model_module_version": "1.2.0",
            "_model_name": "LayoutModel",
            "_view_count": null,
            "_view_module": "@jupyter-widgets/base",
            "_view_module_version": "1.2.0",
            "_view_name": "LayoutView",
            "align_content": null,
            "align_items": null,
            "align_self": null,
            "border": null,
            "bottom": null,
            "display": null,
            "flex": null,
            "flex_flow": null,
            "grid_area": null,
            "grid_auto_columns": null,
            "grid_auto_flow": null,
            "grid_auto_rows": null,
            "grid_column": null,
            "grid_gap": null,
            "grid_row": null,
            "grid_template_areas": null,
            "grid_template_columns": null,
            "grid_template_rows": null,
            "height": null,
            "justify_content": null,
            "justify_items": null,
            "left": null,
            "margin": null,
            "max_height": null,
            "max_width": null,
            "min_height": null,
            "min_width": null,
            "object_fit": null,
            "object_position": null,
            "order": null,
            "overflow": null,
            "overflow_x": null,
            "overflow_y": null,
            "padding": null,
            "right": null,
            "top": null,
            "visibility": null,
            "width": null
          }
        },
        "205fc584303e47ada46fbcef3c6ceafa": {
          "model_module": "@jupyter-widgets/base",
          "model_name": "LayoutModel",
          "model_module_version": "1.2.0",
          "state": {
            "_model_module": "@jupyter-widgets/base",
            "_model_module_version": "1.2.0",
            "_model_name": "LayoutModel",
            "_view_count": null,
            "_view_module": "@jupyter-widgets/base",
            "_view_module_version": "1.2.0",
            "_view_name": "LayoutView",
            "align_content": null,
            "align_items": null,
            "align_self": null,
            "border": null,
            "bottom": null,
            "display": null,
            "flex": null,
            "flex_flow": null,
            "grid_area": null,
            "grid_auto_columns": null,
            "grid_auto_flow": null,
            "grid_auto_rows": null,
            "grid_column": null,
            "grid_gap": null,
            "grid_row": null,
            "grid_template_areas": null,
            "grid_template_columns": null,
            "grid_template_rows": null,
            "height": null,
            "justify_content": null,
            "justify_items": null,
            "left": null,
            "margin": null,
            "max_height": null,
            "max_width": null,
            "min_height": null,
            "min_width": null,
            "object_fit": null,
            "object_position": null,
            "order": null,
            "overflow": null,
            "overflow_x": null,
            "overflow_y": null,
            "padding": null,
            "right": null,
            "top": null,
            "visibility": null,
            "width": null
          }
        },
        "5d9056e59d6243edaea1739db3b590ee": {
          "model_module": "@jupyter-widgets/controls",
          "model_name": "DescriptionStyleModel",
          "model_module_version": "1.5.0",
          "state": {
            "_model_module": "@jupyter-widgets/controls",
            "_model_module_version": "1.5.0",
            "_model_name": "DescriptionStyleModel",
            "_view_count": null,
            "_view_module": "@jupyter-widgets/base",
            "_view_module_version": "1.2.0",
            "_view_name": "StyleView",
            "description_width": ""
          }
        },
        "e5a2a2679fa44c25917f0cc198311639": {
          "model_module": "@jupyter-widgets/base",
          "model_name": "LayoutModel",
          "model_module_version": "1.2.0",
          "state": {
            "_model_module": "@jupyter-widgets/base",
            "_model_module_version": "1.2.0",
            "_model_name": "LayoutModel",
            "_view_count": null,
            "_view_module": "@jupyter-widgets/base",
            "_view_module_version": "1.2.0",
            "_view_name": "LayoutView",
            "align_content": null,
            "align_items": null,
            "align_self": null,
            "border": null,
            "bottom": null,
            "display": null,
            "flex": null,
            "flex_flow": null,
            "grid_area": null,
            "grid_auto_columns": null,
            "grid_auto_flow": null,
            "grid_auto_rows": null,
            "grid_column": null,
            "grid_gap": null,
            "grid_row": null,
            "grid_template_areas": null,
            "grid_template_columns": null,
            "grid_template_rows": null,
            "height": null,
            "justify_content": null,
            "justify_items": null,
            "left": null,
            "margin": null,
            "max_height": null,
            "max_width": null,
            "min_height": null,
            "min_width": null,
            "object_fit": null,
            "object_position": null,
            "order": null,
            "overflow": null,
            "overflow_x": null,
            "overflow_y": null,
            "padding": null,
            "right": null,
            "top": null,
            "visibility": null,
            "width": null
          }
        },
        "18a14cd7dba141f793957a4e914386ef": {
          "model_module": "@jupyter-widgets/controls",
          "model_name": "ProgressStyleModel",
          "model_module_version": "1.5.0",
          "state": {
            "_model_module": "@jupyter-widgets/controls",
            "_model_module_version": "1.5.0",
            "_model_name": "ProgressStyleModel",
            "_view_count": null,
            "_view_module": "@jupyter-widgets/base",
            "_view_module_version": "1.2.0",
            "_view_name": "StyleView",
            "bar_color": null,
            "description_width": ""
          }
        },
        "4e4c25408c43429c9bcd6c2e1323054b": {
          "model_module": "@jupyter-widgets/base",
          "model_name": "LayoutModel",
          "model_module_version": "1.2.0",
          "state": {
            "_model_module": "@jupyter-widgets/base",
            "_model_module_version": "1.2.0",
            "_model_name": "LayoutModel",
            "_view_count": null,
            "_view_module": "@jupyter-widgets/base",
            "_view_module_version": "1.2.0",
            "_view_name": "LayoutView",
            "align_content": null,
            "align_items": null,
            "align_self": null,
            "border": null,
            "bottom": null,
            "display": null,
            "flex": null,
            "flex_flow": null,
            "grid_area": null,
            "grid_auto_columns": null,
            "grid_auto_flow": null,
            "grid_auto_rows": null,
            "grid_column": null,
            "grid_gap": null,
            "grid_row": null,
            "grid_template_areas": null,
            "grid_template_columns": null,
            "grid_template_rows": null,
            "height": null,
            "justify_content": null,
            "justify_items": null,
            "left": null,
            "margin": null,
            "max_height": null,
            "max_width": null,
            "min_height": null,
            "min_width": null,
            "object_fit": null,
            "object_position": null,
            "order": null,
            "overflow": null,
            "overflow_x": null,
            "overflow_y": null,
            "padding": null,
            "right": null,
            "top": null,
            "visibility": null,
            "width": null
          }
        },
        "34ba61e29bc344ec80bc64e7b6688e6a": {
          "model_module": "@jupyter-widgets/controls",
          "model_name": "DescriptionStyleModel",
          "model_module_version": "1.5.0",
          "state": {
            "_model_module": "@jupyter-widgets/controls",
            "_model_module_version": "1.5.0",
            "_model_name": "DescriptionStyleModel",
            "_view_count": null,
            "_view_module": "@jupyter-widgets/base",
            "_view_module_version": "1.2.0",
            "_view_name": "StyleView",
            "description_width": ""
          }
        }
      }
    }
  },
  "nbformat": 4,
  "nbformat_minor": 0
}