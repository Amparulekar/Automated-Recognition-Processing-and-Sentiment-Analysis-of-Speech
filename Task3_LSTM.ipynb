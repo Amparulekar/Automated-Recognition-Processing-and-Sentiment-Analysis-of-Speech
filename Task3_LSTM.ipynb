{
  "nbformat": 4,
  "nbformat_minor": 0,
  "metadata": {
    "colab": {
      "provenance": []
    },
    "kernelspec": {
      "name": "python3",
      "display_name": "Python 3"
    },
    "widgets": {
      "application/vnd.jupyter.widget-state+json": {
        "396ddd9b0a924497b8881ea2118d79a8": {
          "model_module": "@jupyter-widgets/controls",
          "model_name": "HBoxModel",
          "model_module_version": "1.5.0",
          "state": {
            "_dom_classes": [],
            "_model_module": "@jupyter-widgets/controls",
            "_model_module_version": "1.5.0",
            "_model_name": "HBoxModel",
            "_view_count": null,
            "_view_module": "@jupyter-widgets/controls",
            "_view_module_version": "1.5.0",
            "_view_name": "HBoxView",
            "box_style": "",
            "children": [
              "IPY_MODEL_5b32076292e046129cc93653e53675d9",
              "IPY_MODEL_baaed6ca2c7343be9ace5f0e2ea35c91",
              "IPY_MODEL_205d1178d9e74c07adfef068660182e1"
            ],
            "layout": "IPY_MODEL_c0c764ba1c2b48fab03fd3eeec811c42"
          }
        },
        "5b32076292e046129cc93653e53675d9": {
          "model_module": "@jupyter-widgets/controls",
          "model_name": "HTMLModel",
          "model_module_version": "1.5.0",
          "state": {
            "_dom_classes": [],
            "_model_module": "@jupyter-widgets/controls",
            "_model_module_version": "1.5.0",
            "_model_name": "HTMLModel",
            "_view_count": null,
            "_view_module": "@jupyter-widgets/controls",
            "_view_module_version": "1.5.0",
            "_view_name": "HTMLView",
            "description": "",
            "description_tooltip": null,
            "layout": "IPY_MODEL_7d989eb809a74907980ed921e65939b8",
            "placeholder": "​",
            "style": "IPY_MODEL_2de6f65fe6eb477183263df0c9ac6a51",
            "value": "100%"
          }
        },
        "baaed6ca2c7343be9ace5f0e2ea35c91": {
          "model_module": "@jupyter-widgets/controls",
          "model_name": "FloatProgressModel",
          "model_module_version": "1.5.0",
          "state": {
            "_dom_classes": [],
            "_model_module": "@jupyter-widgets/controls",
            "_model_module_version": "1.5.0",
            "_model_name": "FloatProgressModel",
            "_view_count": null,
            "_view_module": "@jupyter-widgets/controls",
            "_view_module_version": "1.5.0",
            "_view_name": "ProgressView",
            "bar_style": "success",
            "description": "",
            "description_tooltip": null,
            "layout": "IPY_MODEL_658f9f0a09ca478a92f6dee74041edac",
            "max": 2428923189,
            "min": 0,
            "orientation": "horizontal",
            "style": "IPY_MODEL_627fb55a45a64e018b6b5bd590eb1758",
            "value": 2428923189
          }
        },
        "205d1178d9e74c07adfef068660182e1": {
          "model_module": "@jupyter-widgets/controls",
          "model_name": "HTMLModel",
          "model_module_version": "1.5.0",
          "state": {
            "_dom_classes": [],
            "_model_module": "@jupyter-widgets/controls",
            "_model_module_version": "1.5.0",
            "_model_name": "HTMLModel",
            "_view_count": null,
            "_view_module": "@jupyter-widgets/controls",
            "_view_module_version": "1.5.0",
            "_view_name": "HTMLView",
            "description": "",
            "description_tooltip": null,
            "layout": "IPY_MODEL_79b468990e2f4857aad3ce61f2d80fae",
            "placeholder": "​",
            "style": "IPY_MODEL_a20dabe5f9f34edbba6720259e757334",
            "value": " 2.26G/2.26G [00:15&lt;00:00, 181MB/s]"
          }
        },
        "c0c764ba1c2b48fab03fd3eeec811c42": {
          "model_module": "@jupyter-widgets/base",
          "model_name": "LayoutModel",
          "model_module_version": "1.2.0",
          "state": {
            "_model_module": "@jupyter-widgets/base",
            "_model_module_version": "1.2.0",
            "_model_name": "LayoutModel",
            "_view_count": null,
            "_view_module": "@jupyter-widgets/base",
            "_view_module_version": "1.2.0",
            "_view_name": "LayoutView",
            "align_content": null,
            "align_items": null,
            "align_self": null,
            "border": null,
            "bottom": null,
            "display": null,
            "flex": null,
            "flex_flow": null,
            "grid_area": null,
            "grid_auto_columns": null,
            "grid_auto_flow": null,
            "grid_auto_rows": null,
            "grid_column": null,
            "grid_gap": null,
            "grid_row": null,
            "grid_template_areas": null,
            "grid_template_columns": null,
            "grid_template_rows": null,
            "height": null,
            "justify_content": null,
            "justify_items": null,
            "left": null,
            "margin": null,
            "max_height": null,
            "max_width": null,
            "min_height": null,
            "min_width": null,
            "object_fit": null,
            "object_position": null,
            "order": null,
            "overflow": null,
            "overflow_x": null,
            "overflow_y": null,
            "padding": null,
            "right": null,
            "top": null,
            "visibility": null,
            "width": null
          }
        },
        "7d989eb809a74907980ed921e65939b8": {
          "model_module": "@jupyter-widgets/base",
          "model_name": "LayoutModel",
          "model_module_version": "1.2.0",
          "state": {
            "_model_module": "@jupyter-widgets/base",
            "_model_module_version": "1.2.0",
            "_model_name": "LayoutModel",
            "_view_count": null,
            "_view_module": "@jupyter-widgets/base",
            "_view_module_version": "1.2.0",
            "_view_name": "LayoutView",
            "align_content": null,
            "align_items": null,
            "align_self": null,
            "border": null,
            "bottom": null,
            "display": null,
            "flex": null,
            "flex_flow": null,
            "grid_area": null,
            "grid_auto_columns": null,
            "grid_auto_flow": null,
            "grid_auto_rows": null,
            "grid_column": null,
            "grid_gap": null,
            "grid_row": null,
            "grid_template_areas": null,
            "grid_template_columns": null,
            "grid_template_rows": null,
            "height": null,
            "justify_content": null,
            "justify_items": null,
            "left": null,
            "margin": null,
            "max_height": null,
            "max_width": null,
            "min_height": null,
            "min_width": null,
            "object_fit": null,
            "object_position": null,
            "order": null,
            "overflow": null,
            "overflow_x": null,
            "overflow_y": null,
            "padding": null,
            "right": null,
            "top": null,
            "visibility": null,
            "width": null
          }
        },
        "2de6f65fe6eb477183263df0c9ac6a51": {
          "model_module": "@jupyter-widgets/controls",
          "model_name": "DescriptionStyleModel",
          "model_module_version": "1.5.0",
          "state": {
            "_model_module": "@jupyter-widgets/controls",
            "_model_module_version": "1.5.0",
            "_model_name": "DescriptionStyleModel",
            "_view_count": null,
            "_view_module": "@jupyter-widgets/base",
            "_view_module_version": "1.2.0",
            "_view_name": "StyleView",
            "description_width": ""
          }
        },
        "658f9f0a09ca478a92f6dee74041edac": {
          "model_module": "@jupyter-widgets/base",
          "model_name": "LayoutModel",
          "model_module_version": "1.2.0",
          "state": {
            "_model_module": "@jupyter-widgets/base",
            "_model_module_version": "1.2.0",
            "_model_name": "LayoutModel",
            "_view_count": null,
            "_view_module": "@jupyter-widgets/base",
            "_view_module_version": "1.2.0",
            "_view_name": "LayoutView",
            "align_content": null,
            "align_items": null,
            "align_self": null,
            "border": null,
            "bottom": null,
            "display": null,
            "flex": null,
            "flex_flow": null,
            "grid_area": null,
            "grid_auto_columns": null,
            "grid_auto_flow": null,
            "grid_auto_rows": null,
            "grid_column": null,
            "grid_gap": null,
            "grid_row": null,
            "grid_template_areas": null,
            "grid_template_columns": null,
            "grid_template_rows": null,
            "height": null,
            "justify_content": null,
            "justify_items": null,
            "left": null,
            "margin": null,
            "max_height": null,
            "max_width": null,
            "min_height": null,
            "min_width": null,
            "object_fit": null,
            "object_position": null,
            "order": null,
            "overflow": null,
            "overflow_x": null,
            "overflow_y": null,
            "padding": null,
            "right": null,
            "top": null,
            "visibility": null,
            "width": null
          }
        },
        "627fb55a45a64e018b6b5bd590eb1758": {
          "model_module": "@jupyter-widgets/controls",
          "model_name": "ProgressStyleModel",
          "model_module_version": "1.5.0",
          "state": {
            "_model_module": "@jupyter-widgets/controls",
            "_model_module_version": "1.5.0",
            "_model_name": "ProgressStyleModel",
            "_view_count": null,
            "_view_module": "@jupyter-widgets/base",
            "_view_module_version": "1.2.0",
            "_view_name": "StyleView",
            "bar_color": null,
            "description_width": ""
          }
        },
        "79b468990e2f4857aad3ce61f2d80fae": {
          "model_module": "@jupyter-widgets/base",
          "model_name": "LayoutModel",
          "model_module_version": "1.2.0",
          "state": {
            "_model_module": "@jupyter-widgets/base",
            "_model_module_version": "1.2.0",
            "_model_name": "LayoutModel",
            "_view_count": null,
            "_view_module": "@jupyter-widgets/base",
            "_view_module_version": "1.2.0",
            "_view_name": "LayoutView",
            "align_content": null,
            "align_items": null,
            "align_self": null,
            "border": null,
            "bottom": null,
            "display": null,
            "flex": null,
            "flex_flow": null,
            "grid_area": null,
            "grid_auto_columns": null,
            "grid_auto_flow": null,
            "grid_auto_rows": null,
            "grid_column": null,
            "grid_gap": null,
            "grid_row": null,
            "grid_template_areas": null,
            "grid_template_columns": null,
            "grid_template_rows": null,
            "height": null,
            "justify_content": null,
            "justify_items": null,
            "left": null,
            "margin": null,
            "max_height": null,
            "max_width": null,
            "min_height": null,
            "min_width": null,
            "object_fit": null,
            "object_position": null,
            "order": null,
            "overflow": null,
            "overflow_x": null,
            "overflow_y": null,
            "padding": null,
            "right": null,
            "top": null,
            "visibility": null,
            "width": null
          }
        },
        "a20dabe5f9f34edbba6720259e757334": {
          "model_module": "@jupyter-widgets/controls",
          "model_name": "DescriptionStyleModel",
          "model_module_version": "1.5.0",
          "state": {
            "_model_module": "@jupyter-widgets/controls",
            "_model_module_version": "1.5.0",
            "_model_name": "DescriptionStyleModel",
            "_view_count": null,
            "_view_module": "@jupyter-widgets/base",
            "_view_module_version": "1.2.0",
            "_view_name": "StyleView",
            "description_width": ""
          }
        }
      }
    },
    "gpuClass": "standard",
    "accelerator": "GPU"
  },
  "cells": [
    {
      "cell_type": "markdown",
      "source": [
        "##Amruta Mahendra Parulekar 20D070009\n",
        "##Keshav Singhal 20D070047\n",
        "##Sameep Chattopadhyay 20d070067"
      ],
      "metadata": {
        "id": "GcO45-5_bpyu"
      }
    },
    {
      "cell_type": "code",
      "execution_count": null,
      "metadata": {
        "id": "re_Ka4C29fdw"
      },
      "outputs": [],
      "source": [
        "%matplotlib inline"
      ]
    },
    {
      "cell_type": "code",
      "source": [
        "# !pip install pydub torch==1.7.0+cu101 torchvision==0.8.1+cu101 torchaudio==0.7.0 -f https://download.pytorch.org/whl/torch_stable.html\n",
        "\n",
        "import torch\n",
        "import torch.nn as nn\n",
        "import torch.nn.functional as F\n",
        "import torch.optim as optim\n",
        "import torchaudio\n",
        "import sys\n",
        "\n",
        "import matplotlib.pyplot as plt\n",
        "import IPython.display as ipd\n",
        "\n",
        "from tqdm import tqdm"
      ],
      "metadata": {
        "id": "ZwY9HCIE9pAo"
      },
      "execution_count": null,
      "outputs": []
    },
    {
      "cell_type": "code",
      "source": [
        "device = torch.device(\"cuda\" if torch.cuda.is_available() else \"cpu\")\n",
        "print(device)"
      ],
      "metadata": {
        "colab": {
          "base_uri": "https://localhost:8080/"
        },
        "id": "cASJndYe9-KZ",
        "outputId": "8892c911-5ce8-4018-837e-0a37c9bf082a"
      },
      "execution_count": null,
      "outputs": [
        {
          "output_type": "stream",
          "name": "stdout",
          "text": [
            "cuda\n"
          ]
        }
      ]
    },
    {
      "cell_type": "code",
      "source": [
        "from torchaudio.datasets import SPEECHCOMMANDS\n",
        "import os\n",
        "\n",
        "\n",
        "class SubsetSC(SPEECHCOMMANDS):\n",
        "    def __init__(self, subset: str = None):\n",
        "        super().__init__(\"./\", download=True)\n",
        "\n",
        "        def load_list(filename):\n",
        "            filepath = os.path.join(self._path, filename)\n",
        "            with open(filepath) as fileobj:\n",
        "                return [os.path.normpath(os.path.join(self._path, line.strip())) for line in fileobj]\n",
        "\n",
        "        if subset == \"validation\":\n",
        "            self._walker = load_list(\"validation_list.txt\")\n",
        "        elif subset == \"testing\":\n",
        "            self._walker = load_list(\"testing_list.txt\")\n",
        "        elif subset == \"training\":\n",
        "            excludes = load_list(\"validation_list.txt\") + load_list(\"testing_list.txt\")\n",
        "            excludes = set(excludes)\n",
        "            self._walker = [w for w in self._walker if w[2:] not in excludes] #Edited line to get correct training set, Keshav\n",
        "\n",
        "\n",
        "# Create training and testing split of the data. We do not use validation in this tutorial.\n",
        "train_set_init = SubsetSC(\"training\")\n",
        "test_set_init = SubsetSC(\"testing\")\n",
        "\n"
      ],
      "metadata": {
        "id": "RJV7qaGy_n_g",
        "colab": {
          "base_uri": "https://localhost:8080/",
          "height": 49,
          "referenced_widgets": [
            "396ddd9b0a924497b8881ea2118d79a8",
            "5b32076292e046129cc93653e53675d9",
            "baaed6ca2c7343be9ace5f0e2ea35c91",
            "205d1178d9e74c07adfef068660182e1",
            "c0c764ba1c2b48fab03fd3eeec811c42",
            "7d989eb809a74907980ed921e65939b8",
            "2de6f65fe6eb477183263df0c9ac6a51",
            "658f9f0a09ca478a92f6dee74041edac",
            "627fb55a45a64e018b6b5bd590eb1758",
            "79b468990e2f4857aad3ce61f2d80fae",
            "a20dabe5f9f34edbba6720259e757334"
          ]
        },
        "outputId": "00c40dee-8458-4902-af30-0b2299110c71"
      },
      "execution_count": null,
      "outputs": [
        {
          "output_type": "display_data",
          "data": {
            "text/plain": [
              "  0%|          | 0.00/2.26G [00:00<?, ?B/s]"
            ],
            "application/vnd.jupyter.widget-view+json": {
              "version_major": 2,
              "version_minor": 0,
              "model_id": "396ddd9b0a924497b8881ea2118d79a8"
            }
          },
          "metadata": {}
        }
      ]
    },
    {
      "cell_type": "code",
      "source": [],
      "metadata": {
        "colab": {
          "base_uri": "https://localhost:8080/"
        },
        "id": "Wl80K6bA1CIL",
        "outputId": "a47271b7-8528-4f56-af0b-b1cd88c0d21d"
      },
      "execution_count": null,
      "outputs": [
        {
          "output_type": "stream",
          "name": "stdout",
          "text": [
            "<__main__.SubsetSC object at 0x7f124edb8f40>\n"
          ]
        }
      ]
    },
    {
      "cell_type": "code",
      "source": [
        "len(train_set_init)"
      ],
      "metadata": {
        "colab": {
          "base_uri": "https://localhost:8080/"
        },
        "id": "TnCLmiAYFxI4",
        "outputId": "0448a016-23ce-4cbe-eedd-7c4ff328ceb4"
      },
      "execution_count": null,
      "outputs": [
        {
          "output_type": "execute_result",
          "data": {
            "text/plain": [
              "105829"
            ]
          },
          "metadata": {},
          "execution_count": 5
        }
      ]
    },
    {
      "cell_type": "code",
      "source": [
        "import urllib.request as req\n",
        "data_test = req.urlopen(r\"https://www.cse.iitb.ac.in/~pjyothi/cs753/test_list.txt\")\n",
        "data_train = req.urlopen(r\"https://www.cse.iitb.ac.in/~pjyothi/cs753/train_list.txt\")\n",
        "n_test=[]\n",
        "n_train=[]\n",
        "for num in data_test:\n",
        "  n_test.append(int(num))\n",
        "for num in data_train:\n",
        "  n_train.append(int(num))"
      ],
      "metadata": {
        "id": "243uPOXPVk_W"
      },
      "execution_count": null,
      "outputs": []
    },
    {
      "cell_type": "code",
      "source": [
        "train_set=list([train_set_init[n] for n in n_train])\n",
        "test_set=list([test_set_init[n] for n in n_test])"
      ],
      "metadata": {
        "id": "0-iz5uBIVs4S"
      },
      "execution_count": null,
      "outputs": []
    },
    {
      "cell_type": "code",
      "source": [
        "import pickle\n",
        "with open('/content/blind_test.pkl', 'rb') as f:\n",
        "  blind = pickle.load(f)\n",
        "blind_set = [test_set_init[i] for i in blind]\n",
        "test_set = blind_set"
      ],
      "metadata": {
        "id": "X3XgRtMcqWJG"
      },
      "execution_count": null,
      "outputs": []
    },
    {
      "cell_type": "code",
      "source": [
        "# print(test_set[i][2])\n",
        "print(len(train_set))\n",
        "\n",
        "\n",
        "\n",
        "\n"
      ],
      "metadata": {
        "colab": {
          "base_uri": "https://localhost:8080/"
        },
        "id": "PFc9M5TVPUZ0",
        "outputId": "53a52ef9-43e8-4e2a-ac25-015fa274b6cb"
      },
      "execution_count": null,
      "outputs": [
        {
          "output_type": "stream",
          "name": "stdout",
          "text": [
            "12000\n"
          ]
        }
      ]
    },
    {
      "cell_type": "code",
      "source": [
        "waveform, sample_rate, label, speaker_id, utterance_number = train_set[-1]\n",
        "print(sample_rate)\n",
        "print(label)\n",
        "print(utterance_number)\n",
        "print(speaker_id)"
      ],
      "metadata": {
        "colab": {
          "base_uri": "https://localhost:8080/"
        },
        "id": "XU01dEoxVu5J",
        "outputId": "81aa5857-3806-4277-ec53-02998f899441"
      },
      "execution_count": null,
      "outputs": [
        {
          "output_type": "stream",
          "name": "stdout",
          "text": [
            "16000\n",
            "tree\n",
            "0\n",
            "1afd49bf\n"
          ]
        }
      ]
    },
    {
      "cell_type": "code",
      "source": [
        "labels = sorted(list(set(datapoint[2] for datapoint in train_set)))\n",
        "len(labels)"
      ],
      "metadata": {
        "colab": {
          "base_uri": "https://localhost:8080/"
        },
        "id": "uli0j4cVV5Eh",
        "outputId": "7756ba7f-04db-459e-942f-23cabd8ce9bd"
      },
      "execution_count": null,
      "outputs": [
        {
          "output_type": "execute_result",
          "data": {
            "text/plain": [
              "29"
            ]
          },
          "metadata": {},
          "execution_count": 58
        }
      ]
    },
    {
      "cell_type": "code",
      "source": [
        "test_set_temp=[]\n",
        "for i in range(len(test_set)):\n",
        "  if test_set[i][2] in labels:\n",
        "    test_set_temp.append(test_set[i])\n",
        "test_set=list(test_set_temp)"
      ],
      "metadata": {
        "id": "jqWrLNL-WC-F"
      },
      "execution_count": null,
      "outputs": []
    },
    {
      "cell_type": "code",
      "source": [
        "id = sorted(list(set(datapoint[4] for datapoint in train_set)))\n",
        "len(id)"
      ],
      "metadata": {
        "colab": {
          "base_uri": "https://localhost:8080/"
        },
        "id": "gaagGpjyWKHD",
        "outputId": "aea684b2-78f0-4f57-e4fc-b7b884892fde"
      },
      "execution_count": null,
      "outputs": [
        {
          "output_type": "execute_result",
          "data": {
            "text/plain": [
              "19"
            ]
          },
          "metadata": {},
          "execution_count": 60
        }
      ]
    },
    {
      "cell_type": "code",
      "source": [
        "new_sample_rate = 8000\n",
        "transform = torchaudio.transforms.Resample(orig_freq=sample_rate, new_freq=new_sample_rate)\n",
        "transformed = transform(waveform)\n",
        "\n",
        "ipd.Audio(transformed.numpy(), rate=new_sample_rate)"
      ],
      "metadata": {
        "colab": {
          "base_uri": "https://localhost:8080/",
          "height": 75
        },
        "id": "WNxFbFAzWQ-k",
        "outputId": "bd9b1b4c-ae77-4c16-dbc3-98cd1c3d5478"
      },
      "execution_count": null,
      "outputs": [
        {
          "output_type": "execute_result",
          "data": {
            "text/plain": [
              "<IPython.lib.display.Audio object>"
            ],
            "text/html": [
              "\n",
              "                <audio  controls=\"controls\" >\n",
              "                    <source src=\"data:audio/wav;base64,UklGRtA6AABXQVZFZm10IBAAAAABAAEAQB8AAIA+AAACABAAZGF0Yaw6AAD6//L/hgAvAaQAHQE9AcgAhAAnAAgAUQDp/xQA6f8c/17/T/88//n/JQCy/y8APwAW/7wAmgA0/7MASADb/lQAd/9G/wwBvv+O/wEBIwAT/zUAOgBU/xAADQBr/7IAhgD6/m4AFAAC/4wAWv+c/wkBUf83AD0AKf+FADoAvf/EALH/n/8CASwAUADhACcAFwDr/5T/EwBAAGL/tP/8/zIANgFKAJr/dADw/+3/4P+g/0gA2gAGAPT/DgB0/43/bv+4/+b/z/9SAPb/5f+h/6j/NADo//7/GQBuAOQAMgBR/8X/AACu//z/Jf/u/1QAif8VAOf/TQBsAPv/KQDR/0T/vv9d/xH/7/+R/0MA9ACCAKkATwDX/zsAHQDt/0IAewDs/5oAOwBpALkAxADfAHQAVgAbAL3/2v/J//L/o/+l/wwAg/9a/57/df/e/77/aP+V/3T/NAAHAKb/bADc/7X/yf+l/wgA1/8m/3f/+f/e//n/eQBUAFUAfQCkAFwAmQBvAAAALgD//4//3P9b/2j/kP/W/xcAMAAuAIwAeQAuAMMAUgBCAEYAFgBNAAIA8f///2AAnwBlAEUAtQBAAJf/xv+K/+n//f+h/13/Gf9Z/yD/h//P/7T/xf8bAAwAWgA/AKr/AwD6/5z/mv8//53/j/+e/3AA/v9vAKcA8f/T/wAAIgAZAE0ANwAyAHAAagAIAcoAcQB7AEgA3P/V/9v/nf9y/8T/5f/H/5f/AABiAJQA/f/H/+X/jP8kAJ0AEQDN/+D/5v8GABsATADi/6v/PwBTABwATwBaAHYAHwArAAgA2f+0/2z/VP+G/7f/Dv9dAG8A1//z/57/DwCW/5H/HQBEAAQALAB8AHIA2f9cAGcAOABmAOX/2/+s/0r/3f8FADIAlQCLAIUA1gB5ADQAPACv/7r/yP+8/4wAHgDR//j/6//X/4n/uv/z/5H/Bv8R/zr/q/8UABgAIABBALr/0f/h/+D/zP/d/wsAYgD+/2kAqgCsAJAA9f/3/7z/hv/P/+H/pf+d/9X/u/9OAMIAnAA2AFEAEwCC/8///P9NAP//o//p/4D/lv8ZAJMAVwBEADIAmv/O/3IANACy/2sA3v+W/wgAZP+3/wQAf/+5//D/gP/t/3oAUQA/AGYAaAAxADkABgBXADwA+f83AFsASgBLAIUAIwACABIAEwBGABcAof9WAFQAwP/W/6j/wP8WAIb/nv+j/33/vf8RAL7/e/+h/wgA3//r//n/KACcAHYAQACRAKAAZwBzACQAjP+7/9n/nP+c/ycAJwAiABgADgAdAPL/IwCo/6b/1f/S//T/6v/M/7X/u//P/z0APgAcADoA2f++/ygAGwBPAPX/tv+c/5v/nP+P/wsAJABQAEgA7//Y/+7/pf/M/+j/2P8RADwASAA4AAUAo/98/7j/x//A/wQANwCDADkATwC+AF4AWAAzAEAAKgBqAGwA+P9pAGkALAD3/xcAt/+2//r/xv++/+z/KQA4AND/u/+C/3P/vf/w/43/iP8JAFUALABrADIAwf8EABsAXQBLAOf/AgDN/zz/Qv+M/9H/EgAtADIAUABRAPL/+P8YAH8AoAA+ABoAQgAkAOL/9P8SAOf/5f/G/6b/8P/v/+P/KgCBAKYASAAAAAEAEwASAOv/sf+a/8z/IwBmALAAbAAnAEMAawAaAKn/e/8i/z7/eP/H//n/7/+9/6P/1f99/27/xf///wsAAwAcANf/0v8bAGAAqwBNAIMAIwBJAEsAKwD//8P/rP+X/9D/BwA0AAEAZwBhAF0AbgAOAOb/+v8fAA4Ay/+y/7f/2P8bAAkA2f8NACwASwB5AHMARgCLACQAnP+1/5j/J/8q/5L/w//u/yEADQAVANH/2//Z/5r/lP/1/6f/rf/E//T/1P/k/xcAHgA6AEMASgA7ABEAMgAVAEcAfgBrABMA//84ACwAKwANADgAbAAaALT/iv+h/8v/SABtAJkAkwB+AC8AAQDk/+j/5v+C/1j/pv8GAAUA7f8CAAkAHADw/+v/FwDD/+b/8f/0//r/1P+5/+3/AwAaAG4ATAD//wMA6f8wABwAOABZACEA7v/J/63/af9l/9L/+/8DAAcADQCv/7f/8/8QAG0AswCLAEQAPAANAO3/+f8CADQAFADy//v/u/+c/5j/5f/t//P/LQDc//r/2f/b/zsAaQB6AEMAJgAnAO7/Tv+H/+b/JQCBAKkAMAD7/+L/p//Q/8n/qP/4/xkABADe/5//g/+c/+j/iP+D////PwBiADQAGgDX/2X/v//u/xYAWgBaADEA2f/I//n/cgBrAGgAHAATABEAEwA8AF4AIwD9//r/AAAZAEYAPwAnAGAAUwAvAAAACwDX/9T/3P/C/8L/zf/g//D/2v+N/6n/0v8VAPr/qP+m/4P/pv/U/w8AHAAbACcAEwAZAMr/9f8WAPr/JwCBAI0AMAAGAEAAVwAZAOH/+P8NAEEANQDt/+D/8f8FAAsA5/+x/6v/xP8eAEEA/f8XAJwAkwBtAGsAEwCs/8L/w/+l////0v+J/9n/0/+o//L/WwAtAIQAWgC8/3H/5P8nAAsAlv+N/wAA6//K/9z/zv/Q/3UAWwCl/9P/AQDJ//f/yP9Y/xcAWACMAJgAIQD6//L/8P/8/8v/5f80AB8APgA6AC8AagCIAD0ARgAmAMD/2P9BAAMA9P/+/8X/1v/p/6H/r//C/xYAggBWAGUAXADK/5j/EQAIALn/j//M/8T/i/+5//7/tf/3/zAA/v/X/9D/vf/o/+r/u//4/z8AVgAAAMT/tf///2wAUwB/AFAAw/+0/5T/oP/6/18AjQAzAPH/+v/y/+f/zQAnAVgAsv96/8D/9v/S/xgAJgBWALsAoQCcACYA5P/T/3H/Pf+M/2T/jP8RAEcAaABNABIA9P8OAAMABQDb/5//pv+C/5j/7/8aADsACQAbAJIApgA2ADYA2/+T/67/zf+O/yX/SP84/7D/OgAxADEARABsAE0ABgBMAEQAXAA/AEMAFQCm/xEAzv/Y/3sAogA5AOb/+f8LAEMAcQAqAFoATQAQADUAEgDr/xwA3f+d/6//Uv9f/4//lf+2/9P/LgAYAB4AfQCEAGkAcQAOAKX/iP+F/0z/hP/t/+L/1//X/9H/TwCEAIwALgD0/xUA3v91/7z/yf+4/wgA+P/i/+b/zv/a/x8ARQA1AHgAlgDFAJsARQDa/8j/IgAAANr/+v8dAF0AGQDy/9H/9P9DAPr/vP+T/1X/sP8yADYAJwDs/+H/OgD4/4X/vv/i/+H/AADX/7X/JQBDAA0AHAD2/6n/AQAxADcAWQAkAPn/BwDv/wQAXABlAC8AJwAyAOL/AAA1AD4A5//f/67/h/99/6n/2f/h/zQAAgDo/9z/xf/D//X/UAA3AH8A1wCZADcAegB6AC0A5f+9/8r/d/9V/4D/f//l/4oAxwDQAIUA1v+m/y7/9P4e/1r/if/K/+v/0f/H//X/EQAFAB8AUgAvADcAOQBsAF4AQgAnACoAkgB9AD4AYgAEAMT/r//d//f/p/+c/6f/9/9TAGkAQgAEAE0AIADJ/w8AGgCx/7//2//m/yMAjgDLAI0AYwD8/wUAGgDw/yAA6/+l/37/W/+o/9z/qP8IADMAHQAGACwAJAANAPf/Y/9r/5z/xf+1/6b/q/+x/4j/CABPAAQAAwAvAIwAWwAvAFoAcQBrABUA1P8KAP//AADR/5j/rP/u/0QATAAyAE4ASQBJAEsAPADI/7D/uf+w/+z/of+f/87/GAAOAP3/KABSAB8AKwAOACUA7f/s/+D/3f8LAAIA8v/5/xEAJAASAD4AQwD7/wUA3v/F/9r/0v/N/+7/l/99/2H/dP8QADQAcwCMAF4AUQD7/+P/3P/J/9z//f/4/yIADgAIAPX/6f8yADEANgBaAFMAZAAFANf/rf/k/z0ArgBmAOb/OgATAAkADADj/+H/AADW/6j/4v8/AP3/4P/b/7v/IwA2ADgA3f99/9P/4P/Z//f/KQBCAPn/BQAPAA4Am/+l/6//gf+c/77/+f8HAEkAIAA9AGEAagA3AMX/Xv9W/43/l/8CAKEA/ACNAKUApQA4AHYADwDB/wcAGwDf/+f/IADl/57/3v8hAEQACAAqAAQA9f/K/5n/u/+6/7L/kv/c/9L/iv+m/9X/z/8pADQA8f+2/9X/EgA5AJ0AbQBJADYAKAAMAC0ANQDk/3z/wP/J/6v/0f/c/+b/QQA4APP/3//h////CADl/xgARgAFALn/s/9EAH0AhwBbAJAAbwBKAHwAQgAkAIoAYwAFAAEA4/9g/5r/wP/c/+7//f+//4r/hP/E/7n/vf8CAAoAOwAdANv/tP+8/6z/0P/M//P/KgDt/8j/IgBEAPj/OAAlAP//EwArAAIAJgBUAHMAWgAEAJv/uf8GAM7/9P8bAB8AGwApAC8A+/8CAFEAUABhAKEAMgDj/wIAEwD4//H/8//w//j/VgBlAHgA9f+E/6b/CgDu//f/0P+b/1L/lP9h/zb/lP+S/7L/3P/9/+r//f8XACAAIwAJAOz/7P8jAAoA1f8sAB8A8v/8/x4AOABQALAAlQBgAFgA///K/zAAZQDa/23/af8//4//y/9qAJAAkwCHAD4AKQBgAPX/sf+d/13/jP/E//f/MwD3/+j/FQCeAKMAYgBJAAoAGAABAPH/zv/e/wYA9P+6/43/gP+3/+D/0v8RAB0AKADt/8X/pf/m//D/w/8kACUA+//+/2YAZgBqAG4APQABAMr/0/8gADcAEwDr/87/2//K/9//7//e/9v/7f8HANb/rf8PAML/1/86AGUApgCGALUAugBcAAMA3v+6/7P/DQB6AB4AHwAJAKH/uv8WAPH/of8OANz/4f/Z/7P/xv+1/5z/yv+2/73/3//s/7D/of+j/7f/FQBTAHIAuwCYAFwAEAAHAAMAKQAhAAUA7f/L/7P/vP/Q/wMAKQBaAFIAEwAVABIAegDPAIEAZgAyAP3/0/+J/5r/vf/A/87/8P8IAN3/q/+m/53/yf+p/7D/5P8hAAUA1v8kAOL/7/9IAFYAFQBZAG0AOwBVAFYAYABLAGYAzf9r/3r/Wv9i/27/dv9M/6T/4v8TADcAkwDAAG8AVQARANf/4P8UAO7/3v8iAAwAbACVALoA1QB+AHUAHAD6/wIAsv+z/4//a/94/+7/lf+X/33/f/+K/3r/pv/H//f/IAABACYAWACIAGkAvQDPAF8APQDM/93/VAAfANv/LQBIAPL/6v/L/4b/d/+L/8X/xP/s/y8ACwD9//z/3v+d/7f/yP/O//H/+P8lAEsAdQCgALgAowA3ABsAzP+y/7j/CgAfAAkAJQAnAGIAmQCTAIUAYgAWAL7/sv+p/5H/dv+U/5P/0f87AE0AWQBZAAIAj/93/3r/mP8FAMX/mP/K/9j/9P8kAP7/rv+v/wAANgAIACIAJQAGABEAXQCTAEgAIwADANf/s//Y/9D/m/+e/93/CwAzAEsAUwBCADMAKQD7/+//2f/w/wQAOQAXALz/vf8fACMAOwBmAK8AiwAEAFcA/v+4/+v/2/+t/9b//P+f/6D/1f/h/+f/BAAAACkA5P+P/7z/3v/I/xEAQwANAPP/9f/s/+r/IAA/AAsA8v/n/9z/t/+9/z8ASQA1AEUAcwCoAH4AbgAiALH/kP/P/8L/rf/q//v//P/R/w4ALgACABMA+//2/xcADwBHAK8AiABhAFYAFwA0ADYAKADg/9b/iP87/03/H/9P/53/0P/s/8P/u//N/wgATwBGAPb/+//n/9X/7/8AAA8AHAA8AHsAlQDEAL4AbgBkAIYAUgDR//X/nv9u/5b/Zf9A/2v/oP/Y/yEAXwBBAFkARwA5AEsATAA8AA8Auv/3/x8An/+d/9D/4f/5/0AAdgB3AFQAIQAAAOD/KQDO/4r/X/85/zP/nP/f/ywAPwAtAAAAt/8AAFcAFQDv//L/9f/r////+f/l//D/AADg/woAMABSAGkAcgBvAAAAAADq/8X/z//I////FAAYAB0AIABZAAoA8f9IAGsAXQAFABgA5v/4//b/8P/0//T/DQDN/57/sP8KAAUA6v/c/wEA7/++/y0AXgAKADkAewBKAL7/uP/8/+D/v//I//H/sf9x/8P/4f/u/xcAVgBpAD4APwAWAOL/tv/H/+7/lf9S/3T/kP+S/wwAZwCEAJQAWAB5AF8AaABYAGIAgQBwACEA2v/4//f/NQAzAC4ARwDq/8f/8P/t/9z/DwAdAMf/wP+P/3//j/+w/9v/1/8AABcAEABEAFcARgA8ABEA8v+X/8j/+/8PABIA8P+f/4n/gf97/87/6v8CACEA9v/V/wkAWACIABYA6P/n/9z/CgD+/w0ACQADAOr/0/8AADQARgB6AMAAswBCAAgAIgAUAOD/3f/z/xEAMgD6/9D/xf/k//r/CAAaAEYABQCK/43/1P8DANX/2//X/+3/w//R//f/6v8wAJYA0wCbAC8ANACt/4D/oP+j/6z/f/9r/43/r//R//H/HAAZABMA9//O//j/UQAuAFAAeABwAC4AZQCvAKsAyADEAHMABwCR/4X/p//N/6T/zP+k/6b/9P8OAEMAXQBOAAIA4f/g/33/aP+q/7//5/+s/8f/8f86AFMADgAPAPX/7f+u//n/RADy/67/qf+6/+X/nf/e/wYAIABMAFMAhQAuABcAOgAuACIAPgBMAFsAPAA4APr/3//c/9j/0P/z/xgATAA0AFQATwASAO//6f/q/9T/rP/F/6b/p//z/9T/+v8yAD0AaABWAAMA4/+5/53/bf+7/+H/0P/5/ywAAQDH////JQDb/57/5P/V//7/dwCeADMAPQBpAFAAIADS/8j/0//2/+H/7P+u/7H/3P/x/x0AQACBAFMAFgA4ABAA1//j/6f/i//H/9H/r/+d/+b/NgAnAH0ApgCAAK4AhwAPAPv/9P8cABAA0//G////VwAfAPD/HwAuADgA8P9//3f/Yf97/7X/4/+1/6z/3v8oABYARwA4AAUAAgDy/83/EgB/AEYA9v/Z/7T/k/+z/woAAQAOAKL/aP/l/+X/9v97AIkAnABnAFMAPwAtAEIAKwAYAEEARAAMAOz/wf+R/77/OQAvADcADADQ/7H/zf/3//X/QgBwABQA4P+Y/3r/8f8pAOr/3v+e/2D/+/8CANH/KgAuANX/HQAKAOb/9v/L/87/qf/U/8n/wf/J/xAAYQBoAHsAUgCoAIAAXwBiACIA+P9q/4D/l/8aAE8A//8fAPj/BQB8AHQA+v8yAE4ABAD5/4X/Yf++/5v/iP9q/2//0f8AAC0ASQBKAGoAbQB1AGEA+P/s//H/CQBTAIsAgwB6AEcAIAD1/6n/dP9c/57/zv+2/5f/2P8cAAMALgAMAO3/9//o/7D/s//M/6L/q/+x/+n/RQDZ//L/MABbAIkAYQBbAFYAGAAxAC4A9/8AAP3/+/8VACMAMgBKAGcAJwAOAOj/2v/7/9n/lf/O/7r/1//t/wAA5P/5/yUARQBJABQAOwAcAMj/uv92/2n/oP+l/6L/6//s/+D/AQC2/+n/8v/Q////AQAYAB8ATgCAAH0ANwA0ACEA6f/Q/+z/4/9SAEoAEABoALIAgwBMAHEALQAoACEACAA/AGAAMQDT/4z/o/+b/4H/l/+X/7L/2//q/xMAEgDR/93/p/+R/5z/pP+w/7X/CQAXAAwAPABZAFkAMgAeAP7//v/5/wAAWAA9AAAA5v/R/7P/3v8bAPz/zv/p/+T/JgBkABMALQA+AF8ASwAkADcAFgDZ/6X/5v8kAB4A/f/K/9//wP/3/ysARgBgAD4AMwDe/7H/rP+j/57/l//a/+7/IgAnAOz/1P/6/0EAfgDoAKgAGgDO/7//xf/g//b/IwAkAOn/8f/y/wkA2/+c/7T/xP8HABIAuP+4//3/QwAwAEsA6P+Z/3z/XP9L/2j/uv8rAD4APwBnAF8AOQAVAFQAPwBSAHcASAAvADQAOAAuAPP/sf/y/zAAYQB8AHYAGwAJAFUAUwDv/73/xv+//63/z/+6/6b/6v/e/9n/rv8NAD8Asf/V//H/8P8RABIA2f+U/9v/9//d/xMAKgABADUA/f/8//D/o/+v/xUAIgD7/8r/yf+F/5f/xP/U////HgB7AIAAfQCBAFoAiQDWAHoAKQACABcAwf9//0H/kf/+/ywABAAqADAA/////+D/2//l/yEAGwA7ABwA+P8SAPX/6v/R/9r/8P/E/53/vP/w/wMAFwAVAO3/EQAHAEAAKQAhAO3/8/9UAGIAQwAZAMj/b/+E/5n/2v8hAEQAeABMADIA5P/c//L/1P+q/4b/3/82ABkACgAzADgAVQCIAJkAgQAiAOP/qv/A/+L/AwDl/8r/HgAMAAAADAAhAAgA+v8RAOz//v/4/wgAAQDM/9P/z//A/6z/t/+h/7z/0f/D/87/0P/y//j/CgAWAEgAOQAOACUAQQBrAKoAsgBcAEkAIQDj/6f/fv+Q/7//uv+l/+L/wf8dAIgAdABdABUATwAfAJr/o//e/+b/EwBLAC8AOwAdAO3/DwDx/8L/v/+5/8D/+v/e/9L/8/+k/3r/3//w/wgAHgBLACUAJgAcAEQAKAC2/6X/9P/1/8f/v//c//D/AAAuAFcAYgBMAEQASwAoAB8AHQAtACsAHQAJAMD/6v/t/0YAMADj/8v/2v/o/x0AagAjAAEA9/8NABoAFwAWAP3/IQDt/9//3f97/2T/uv8NABIAJAB6AEkADwDu/9z/5//h/9D//P8kAP3/2//L/9T/6/8PABcAFAA/APf/CgAzANn/x//C/7f/kP+r/4//zP/x/+r/PgBbAFEATQBMAGkAYwBGAGsAgwApAC8AAABw/4//k/+d/8v/7f8iAGIAYQBNAFAAawBRAAAA7v+v/6X/uv/B/2b/jf8EABUA5f/8/8//rv/p/+X/FQAwAOj/FwAZAAYA7f/5/z8AJwC//7n/MAAzALX/dv9kAIIBNAAU/pH/ugL6/+X52P77Bh4BiPlhADMHZwDP+ccAaAaf//36MwFyBG7+zftNAasC6PwA/foCFgJu/Xv/cQP7/1P8/wCHBMz+PvtcAdUDuv2h+40C1QTi/KD5pQNwBZ/7m/2IBaAC5fxP/3YCJAG9/Wn9BQKiAw76DvsrBxf/sfXTA94GEfoj/xMG8v70/gQCWv+dAFcCw/0u/MEBJgL6+y0ACAbH/av99QZb/3/6vAT3AC37DAKr/2X/GAJp+5IA5gV8+fH9JAqW+xv4RApdAsD2FwKfBDL88v4NA8b9kP/VAej/jP7xAhcAxv66ARf+r/ujAZYAavoWAbMBgP5//A0FLASw9GsGUQlB8wEELgTO/U0CqPxIAH8Davzr/joETPqoBEIBO/kzBgAEpvoEB1z3DgrJAhDwFwcfBoX4ev/p/j7/mweE9wEBFQee95IFjwTl/DD4ewWfB3P4g/bGBIYKCPxg8AEJ8Qdq/kX0VgHzD8z1bAVy+tL/4Am49wX80gn++u/3CQynAOjpvgaiDof6W/HWA7kU2fsZ8q0Hjwyu/if4ggHzBMf6Evy6A176vPVmC+IBxvZkA/wHxP7z/5MF2PzgANYCYwKG+QH6gAHABl73d/2PAdYAyP+o/vQEd/8q/kYFfgNh/pL9uP5XBH/84f18//D8pABdA1L+ovwyBKj/mgD2Bmz69vxRAvcBrAC494v8RwVxBH3+sPhYBZMIjvpf/ekGqPp9+k4H4f8j+00AaADtBvgAL/qT/4EJz/819Y4CNgVgAZj7ZfplAtMGbwER9kr9/AcbBCUAlvfa+zEGVwl0+jzvAAddCSv/R/0u+moC7gb2AG/9Cvs5/qUG/QJj99H9ZgPG/4cAM/1vALf/SwG3BuL6kv3NA4cAdgOe/Z73ygTsCG765fpIAegBJwKqAAcCn/hy/tsMJv4z+FX+rgWbAl/6jP4bAk/+fwE6Ayj/wvveAsYBQ//mAV7+Tv6D/h4CUASb/Gb+RAAyAf8CF/5t/Gf8tgKABJz83f5v/AcCIQUFAFn61P8DBjwCofu0/oQD2wAA/lsBcP2R/T8CfgAD/K/9YAEjA3UA3/wwAAIF7ABj/QsAIgGpANkDyQAI+CMA3QhCATH44/gqBL8HJP84+jH9jANrB8kAWf2e/X7+RwSNA3f7QPnMAEQE8wC+/j3+v/2rAJADfABz+zf9AQTmBUQBy/e3+rsF8wdL/lz4UvtTBHsJlQHz9SP6nQQ2B0UBnvhZ+YED5AXEADn7zPpYA8MG+gEH/VD8jAQXBLj+r/2k/ev/nALOA5X+NPpn/vUB2QPbAIn8R/zMAd4GIAJg/Pf8KQCwAqIBKvw//MwBIQMvAZD8Xf4wA0MCQv3P/ekBRwFW/4sA5v3+/sMAW/45/3MA2f91+0H8OAJUAd3/j/9i/wMCIQKNAAwA7AAlAUIBJAEpAJH/0P6GAA8B1f0T/+4CegOw/tL8fwCuAwoDM/4+/NwBQwRhAnH/hf7uAeQF8AE9/Zj9GgSrA7P8eP28AjcDhgECAdsDMgRaA54BvP0H+6H3WPOE6zzlKeTy5WPnd+Vp6dr2YAHYB/QONhYqHYUjZCXGIaYZOxPLC3EBJ/ag7ibqdOie6gjwvPXo/8AIlw8oFXcYDxvoGukVMRBmCooDMv2G+CT0//Cc8BX3BPkB+oz+DAqHEB7vus/90aXo/fCr05y9w8xR+DMaOxCp/tMJfTOYS4w9/ySNG44gPRIb8ZbZr9Sd4cziQdo92O/mFgSnFk8ZVRnuH7wtCDFJJ4wU4gWkBMQArvMT4bvWr92X7rb/rwSmBMoOIh5uKv0sqCmSKTsT7OGJv/O/vdK4yyimxZFIrs3sqRT9DhACBxMaQBdZwUkuK10a6RoKD572luIN4F7m7+OK3Jvg2PL1Cx8aRhtVGWEiATGnMR4hHQqj/XEARf5p7UrU9Mss3dD4Hwo+Cg8JJRXkKnw41TbeLaQiCQSa1v+1h7PRwe+9p5/zjjaulvCdHZ8ZegiJGT5KDmkOVzssWRNKElIMA/Lj05DNGNub5I/hJePD9FsQcyF7I9siHCi6MLotGhzDB5D7d/nd9IzoX9m91zboZ/63DXgTwhU9HtUphzEcMlMuXCGM/S/Ns6x9rFm+O7ldmi2ML7EZ91QmHyWzE/gdP0UsX/hOtyfsDUIE7fgF4+PQvtIx3UvkluWy7+YIDiOxL8As0SjAKqQrtyMfEYr+H/L87f/sMual3XncJOo8ArsX2B80HkYgrSl0M044TzR0IJr01b9GpXqxmsfAvS6VbYI7rUn87ymBHjAHwhYZRmpig05XJG4MnQe1/eDjAs6XztrbFeOb4S7sqQfsIpkrSiYfJckrGjCOI+EMq/6r+3z8T/X05vfej+Qv9z4NgR0hJVgjRCFiJpguszMqLxokVwyP4JWzk6DVrdi5KqXihSmLGsXZCAohkBAkB3Ujl00vWudADB8rEMMLIP6e5QXTBdXI4DHnOOi/8TcK4yHIJ5cj3SLRKUcrIR8sDQ4DrgNXBFb7D+wu5NvrMv0/DpQWwBXvE6IYzyKKJxslBSK9IWIbiv1ezS+u77I0wYGz7o4rgxOuWPHIFKMHsvTFCME7uFx8Tvolxw0VEj4Z+wb84yLRINv472P2QfFX9T0IchqIHEYZGx29JQAjOBR6CX8LihAXCbP18ed27Jb+1gxuDUgH+gdvEzUgWCOeHFIWeBcWG7MZjw1I8NfI57LZsmazAKJZiyiUTsHp7bz3je0g+WcmIU6ITK8ykyzVQdtJAieo847ftfL3BXX1xdNVzC3p/QzTF64LxQRLELEiASy2KVIhChhwD7cJxgWU/VXxxeqN7pf3V/z6++j//gkcFHsaPB+0IusfZBl3FbkNbe/yv8mmYK53tciezoLikrfL5vZt9LfogwXKQXdit1BENag8xlndVSUjf+8T5R35y/tI3ZK+68T27cYT7RefAp/4rBNUQElNWSuoA/kESSc7LsMAV81KyijtdQHD8MTbreWjBVUY/xQyEYIcEisZKTITiP44AjUUbAWiwS+IJ5e/xUTE0ZEBgHa4Kv60Ct3wHvZILZhfy2CNSZNHZ1mPV1oyEwmf+hj8bfP825DLXNB84hn0GP4aA90KwB3uMPAzESO3EjsaQSqzH+/zaNKP3AH5tfph4HHRkuOMA+AOSANt/fQJjR1rI6kUvgSoAEoAT/q28AHnDdO1tYS0j8TMuwmlQa833z/4X+R94z4fJ1vWUzkqEDA9Zbp4nUymGNwM/RuiGGD7t+Ay2j/j0e9B9lr2J/kWBhsYDx7WFOMKMwy8DoD+gutW7j39+Pdl3kHUh+nvAC0APPRs7y33VQROD68QQwbR+oX8mQWTBCv4qPE599b9dv44/wHyX9C52Af8MeTIqXe0pwB9FILbFNAgHK5QcS9/EMg6tGrsVswwDjj6QqQk8QS5BhYMouwRzk7WcOuF5w3V69WS6lz76v3++036rgDhEcUetwvM7IHt/wZsAyrlM9qD5vbpneFo6cH32/aF8uQF0x+EHW4MAxR2KKUiRgfD+zcOYg9n+pX0IQV6Ekjs0sER8MIAQ8RyunYBLRfs2YfaXy30Q7oHLQKYRWZTCSN8FWI53jIl/sD4lwkr8d/Qfd7w9NfZk8Hb4lsEUvM94oH2sAzBAdb1fgDIBAL8EvkgAp0CqPlF92P/twRMAXP7zfqg/nQD9wKfAIIIFhBaDrUJbhJEHEcPPv6nDjshtg2d+TILkCDeCT/vift+EU0JWc2dzvsYCem9pfHbAwnn0lS8oAC5Dcbmovw/LLcdigT6Io022CAaCoUO8h5SBEbvx/n4Banz392e8bAQiAZk6Q72ehUJFPv00/FpBmoBhfC77fn3svet7ADyev53+IDwtQMnHPcP3f5+DmQoMyNEC/kMrR3HImIT4gS3ATELPAjy+CXxivQ79frnD+h45+vlXd4R3TblQfNg/PTm3s3qFb8GkszP/McSyedp7bYj/RPV85AOkinWIHkQeiIwKjIg7A3FAggqIh1M7cn5nRSdAVnmF/E0/fXwKe4KAEz61OPo6VoDlwQK6PLmNwzEB4j1DPdrD5MN0feu/8sLtAHo9OACrQXs/Jb9WAHj/9n7o/zKAqkGawF6A88GxPxIA5cMjQUS8N/2ev6g94H1U/mW+pv0Xfx3C+YTlgYmCjQa5CXV9iL/Fyg448vrVQbp5CPZhPLS6Xbiufca96YA+whCC+QX0x5tFwEXPRxFHo/+wgh5DPz0UfBv9OnvCeTi7W7yGfIm5oD0IwC1+M71dvprCTQF7P2oBfgIHwtmBZAAvQypDIr/3AxXDDkCNweTFhELdgBGDQ0UCQpr/dwG/RDF+o7tS/xHAuPwNOSc78fz9O/O6dbwfPYq+PX8ZwK6/YsKfRIUCEQIYhMXFWcMuQGp+24aru+i2XIENOz31nrlYuyt5jXgd/D8AC7/Y/e/EU0bnAzgGRgc+iGtFy0TLiXHDogLbhOHEPL6Z/u1BWn9KfX+9MH6lfY39Er0q/2A+Ovuf/RgA9L9gfIK+Hz6Wf6G+nT5v/6h8oUBMwZl+Sv52gQxBOz5jP6vBeQEIP4q+hMLzA7cB7QDlwjJE4IKYgjOCkwHg/7jAMcBVvlr9D/2OPWk9PD1MvSZ+5P76v8xBQQCogk3A5v3IQ2l8STwLwV26ujq3viG+FHzWvoWDZoMRgP2D/gj2RMQEvkYUhOQE7AJhwZoAmz6lfy0+JXqjug48TryIunb5p/xa/T06ybzefx++RP7gvxuC6EKIQW/DowTxRW1Gb4bwRKlFe0VnxPUCJAIwQM+9rf8zvli7evq6vFs7uPrR/Pe8FTxUvU0+tz1s/nsASj76vn2BlUFsAD2AWAFgAqABZUGJws7CBsGhwkgDNEJDAPxBxUKRwHVBJIFO//2+vT0kwF97hrmFvXt7E/kJeoC8tLui+4k+1kBnP/OBngSEA0kEdYY1xWOFpIQ0hFNGf8HQgXcC1cHLvtY/QT/U/br8OX05fZZ74DyKfXE90f1SPa4/SUA4Py2ABQEJAMJBdYEbwUcBeMEMQWJA/EBDQFRAiUAzP4S/fH9xP80/9/5T/5U/3IAhfySAP8B1//5A8oBFAJbAjwFmQLXADb/FgKpAQz9FAEOAkP/E/0AAbMC3vtS+z3/Pf2l+gAAH/9f/rD6BAGUA7j7PgQc/0/7rQKQ8yT24fYH8B7zDPUG+DX76f4wBVoHnwlIEvoVhQ4hES0S3Q1pDeAE7gJpA1b/G/5j+zH7hv29/u75I/46/8X/pf7b/Jf+4/ux/QH86fk8/HT8Ivh3+Yz86fxa/Dn+lADEACsATP7S+1UFCPgD9/gC+PVM+f8A9v6++lsC1ge2BTYHnAzDEHMHJw2LEfIGfQO5B3gDbf9V/ob/l/mW95H9s/sR+GH9gvwn+Hj9Q/5W/S/9QP6NAW3+HP4qBNEAEQCsAUcESgTE/7EIVPmg/D4EBPED95P1vvFO89HzLfM79Rz9dP2yAYcCjgroC1gJVw5nDrMLjw5jCgAOXAnIBjQHGwN2AB8FbQDi+zX/4f24/Zn6Y//J/Vj6pvtj/Vj33/j0+r36g/ng98kAVf39+xv/o//4/oUBfwJjALoBzgIBAr0CZQOxAboCBgJXB0AAxv8XAGkARf57/IUBUfpr+rr8/Pwh+tf8LP7G/6n+UP2rA5QB6wFxAdMD2wNCBJkBVAPCAnkBXQWNACACcQOJAyQBhv/Z/x794PxT/tv8QPWu//v5pPLk/Ur6zvQy+p3/jvz3/f8EnQfHBIwHtw2ACooK1gxZCGgFAwe3AggAsPyC/qb7LviL+Q/6FPh2+ZD8u/yo/g7+1P76AL//qQBhAFcBRwLWAZECzAO/AlL/PAZD/1v97QQg///6VAL8/xj81AB9AuADv/0SA2AH3QDSAy0FDPyy/aoBb/o7+Xr7bfsg+DH5H/td+eb4a/zDAVv/iQBHA8AFZgVPBbUH3ARcBdkGrAKM/+EDqP+r/TX/W/5w/Ab5MwC7+dr4jQN59Vv2xgKr+XH3u//+ALr6ZAHeBuAFcASIC+MQjAYsCqMOKgZPAxgFdgAa+0X6k/qj9tHzofkL+Tz1Qvy1/ib8eP9vBegF0gHlBL8IFAM3AX8FsACo/N7+u/6p/Ez8EP+4/Wj9x//L/1z9bP+xA6wB+QHvAZkAbQJ8AEAAegB2/woADf4I/Sv+X/6G/oH+cv+Z/sn+sgAb/g7+hQHXAPj/tAAUAloAY/9GAfL+Cf34/tT/BP7T/qb+BP//AJIBPQG0AiQEjAO8BOAFawSN/tQCnQTW8iz+7f468IL5wv1B97z4TwOFAJ//KwTmCOwGEwVCDfEGxgLVCFUDg/09AfD/0/yY/EX9Rv4e+kL9LQGE/Pj9XADLAMX/5v+rAAsALv94AXsBk/3u/X/6rv8G+Yf08AFm+5P21AMqBRb+mgaNC7ADZQW6CXsHHAQPBigHmf6w/64DNPyM/OYAh/5z/Jj9jv0E/d76Zv0E/R/7AP9X/hj+UP9DAML/6v9JAsIBFf+yAOICsv5N/iUBLgHt/vAAFQGcAoD79P0yBd/wBvtBA7jyXfddAvz5/fnBBrgE4gGJBtIL4AmbBqYMrQtxAwAHLAbK/2n/hwAe/vz7ov0L/UD7gfxlAtH/jv5PA8kBEf5x/2oBDPvL+vH++vqb+af6qvlF+sD7xv1t/e3/WwCgAXgC4wHAAnoC+gMvA0gB8gFcBNwATgCjA0EB9v+6AHwAl/6U/bX+oP3K+2D+2QCGAMIAugMpA28AQwSHA/P+OwJbABcAtP85/n8Ae/5A/esAwv/V/VcCmf86/5EBg/68/w4AFP0+ANIA+vpQ/5T6P/uY/Xr2rPvb/Qb1X/p8AIf5J/87BmEDuwTgCcgKuwcDCUkLXwclBXgIUATCAYID7wBR/p7/hf+q/u39/f55/538Gv7b/oX9c/x9+4r8b/rk+JP8A/xr+Rr9Gv34+9z/ngBe/uYB2gGQADcDZgHDABkDBwNUAvAC7gLVAswAFAKNAcP/ZQDzAOL+9vxv/kH+4v2kAHkA0f8mAigCbABNAEYCjgAj/mcC0P8Q/EABdv+N+xoAFv9n+5f/OP8J/skAyP7y/5ABNf4JAqkBDv1oAPcALfzt/L4BC/vJ+EcA1Px3+B0BtwIT+x4C/gWmAHoEsAd3BmIEgAZQByYD3wKJBvADXQEiBPAB9f8XAogBJwBiAMX/sP/3/lj/Kf8//cT8e/3I/Pz75Pt++jr84vty9wX+Avpv9ZEBu/1r90YEaAOS+W4EjAex/r0DFAdzAYMBnATFA1wAEAKOA1n/hQAJAs3+l/2RAF/+lPza/8n/Uf5RADEBff62/9AB2QDC/48DoQHj/mEBk/8AAFgApAA8AJH+igHRAK78XwHRAj36WgHOAiz1lf0hAuP04PspA8H4nfsdBIH+tP04AmUCxwDsAPoFWwTnAEsEzAPZ//QBHAPl/qf/8wBwAIT/iAEhBIICPAH6AkgBpv67ArX/Cf3YAUH/SvwZAgYAgPv2ACwALPtl/i4AG/1K/uMAjf+I/pb/SwGH/rb9KAEV/3P8bQBAAJ38QgAWAkH+J/8JAUj/4P5RAPr/pADUAOUA5gGDAEsAjgD1/tv/6P96/vUAQgA8/xUD9AAeASUFqABAAdMCp/51AFwCHf/1/8EAsf3P/8EAev8HAPkAcv4B/qMAXP9f/CX/DQGJ/Hv8DgAR/i39hQCm/9D+7AHKAcL/KQI2Aib/LQLmArj/AgHFAi//cP8EA/b/kP4uAtIB5f55/2EAyv4B/2oAqQC3/lH/jgEZ/7n99QB7//P9jwEPAdX+gf9WAGb/9v4RACgAsv4RAAMBgP6j/1AAgP4w/0L/Lv9u/0v+W/+3AM/9iP+lAlH/8/+/AoX/Q//eAgsBmP+pAnwC7P/zAGkBsv4U/xYBTv9D/3MBLABM/zIBPACK/kwAK//m/cr/PQDs//kA/gD2/7wAKQHYAD4BqgDA/nb97P0B/Xv9GP/o/kj+Yf7+/rP+G/99AP//1/9PAm8BHQCyAmUBqv68AnECCf+cAngESgCVAgwE+/7C/10BSf6W/psBxADEADcCqQEbAWAAeADB/yL+u/7a/pD82/wP/Wf8pP3N/jf+UP55/9D/7f69/xAB4v9n//gBGwJP/3ICOwGc/EEA0gAT/dn/kQEY/mP/wABe/qf/hQG+ABQAmACpAOb/UwC2AVoAAACcAnIA0/++AR0AaP+hAV4BWv+jARwCjQCbAooCCwG6AAAA8v5q/l3/DP8U/9b+yv4C/2D+bv8B/yL+af8k/4D9qv6A/67+r/82AHr/Sv+w/9j/3/62/goB2AAO/6ECoAH3/ugBFQEz/28C8AHd/+4BaQHT/28AkwA6//P+UgABAef+Xf+VAWv/df8GArn/X/5oAQv//v0kARD/pf+uAXAA5wBiAbn+7wDYANT8G/8nAG79W//CAbD+YP/NAPP9Rf0YAB4ARv/vAOUBJAAgALIC5QA8/qf/vgCb/QP/VAKR/RT+4ALp/gUB0gTV/60B7wET/gUBVQBk/u8BIADG/2kCFf6Q/gUBDP5YANwAtf2k/zoAgf+dAMMAXv7q/kf/O////jX/TgBl/xwA1wH+/wAAYQIPACX/ogFDAPf+cADr/4v/OADb/9b/9f+B/7f+nP9M/zb/zP9C//b/SwGv/8n+QwJgAED/dQHt/37/bwFnAAoB0QEBALsB8ACZ/1QBJgEN/3r//v6U/iz/+P6x//P/gf5M//79w/2M/1L+R/8mAfb/FwFNAlIAPgH2AGr+YADB/4/+4gB9ADYAkQIJAQUAlwFMAMUAZwJW/2QArwH+/Tr/agHm/i//WwHN/lr+vQCl/uf9ngAnADX/7/8IAGX/sf5a/on+tv4V/8X/ZwGuAE8AkQBPALn/jgCDAAj/6gCmAOX+zwCtAXsAtgBMAUABhgDH/9v/0/4w/vH/7P+9//EAcwBjALQAeQAPAJv/VADWAGX/VwCpAET/vP/X/z//sf9QAEj/FADY/87/LQGL/wr/DwEI/3b+bgAE/87+gwAD/vD+4wCo/vn/AQGs/2QAXwCj/4UBdgD0/3EB1/5J/18BHP+1/6QBFgADAQICDwHdALP/fADZAUQA5P9BAUj/G//6AMj//v+jAKj/sP8v/4P/sP+l/tj/0v9m/tH/KQCE/qj/l/9h/jQAVf8T/xAAI/+g/+3/Mv9DAIcA6/8NAWEBjQDeAAoAof9PABb/d//X/y7/AQCqAMIAhABPANT/cgCuAJAAXQCyAbgB8v9gATwA5f7Y/9n/g/9//9P+TP9oABj/iv/nANv/rAFGAeb+nwBrAKb+uP8J/4X9qP6f/wgAWQBR/6j/KwALALsASAD5/w8BsQBHANf/GABrAPz+vf8vAML/mQAuAXMAkwC9ANT/f/+d/8H/8f7G/jz////Z/yQA4wDf/34AIQCQAP4A2gBjATQASgA3AQkAWP/j//7/kgAGAaT/fgCyACX/g//r/y7/2P4d/67+Tf/h/vv/HQB6/zIAe/8V/1r/v//U/x4AXgCiAMUAFwCxAJgAIQBtAOoAEgEyAPz/zwDf/xX/5f+UAGr/A/+4/qT+AP9k/yAAZAC+AHoAsADE/0r/2f/3/1oA5QCHAWABRwDx//j/d/+l/67/1v8+AGL/NgAKAXMAaAApAFX/dv+//tv+JAAY/yX/ewCCAFsArv8GALMAYwBcAOMATwBwAPEAS/9m/wUAaf/c/7n/W/+0/37/Bf+K/x8AGwALAGMAjAD7/6v/7gArAUwBxwAiAHP/oP5o/vb+Pv90/9n/qP8TADwA1gB7AWsBHwHvAIsA9P/1/+D/wf+i/0T/Ev9o/x0AJwDfAAEBegDaALYBywC1/yIAb/+V/g3/w/9W/yP/+//a/6f/rwBFACIAs//V//3/2//h/4f/rv+n/yH/5P7N/2UAQwA6AZQAQv/a/ysAj/8AAOb/NgAwAMv/8f+W/2j/cf/u/0AAHQCkAPcAeABnAPwA9wCiAAAArP/4/0IAigBmAOYACAE0AGwAs/93/07/1/6L/5T/PP8oAHsAtP/h/wUAmf9m/7r/w/9m/yL//f7E/hf/BABgAGQAbQASAH4ALgD7/u7/XwAtAL8AswBVAIoAnv9q/wsAnf/D/yoAUQB/AEoAoABNAVcBIAFYAOr/OgCM/yr/nv+5/3UAOADr/9QAWwAAAOn/JABDAE4ARwCh/yT/nv6V/hEAagDw//3/OQC0/8v+xf43//z/ff/I/6QAbgDz/5T/AQDv/8X/YQBuAEUAFAAoABwAEAC1/xIA8f9y/3T/mf9RAJMAygATAbMAgwBuALn/ev9B/2f/WgAJAVAAIADnAMUA1ADmAGYBLgFvAC0AcQBc/xP/sv+s/kr+3f4L/8H/QgAUAFD/Vf+O/yP/Rv9z/1T/2P+q/3j/dwCUAEMAXQCPABsBUQFRALQAhwDx/1AADgD9/2wAu/94/4r/qP+u/7H/2v/C/6X/kv+9/5//kf/E/zsAawBfAEMABgBhAK4AEQH3AKQAewDV/zYAWwBiAAIA2/8eAG3/jv/I/wQATgAXAED/Rf+p/m/+Xf+f/ywApf9p/yD/yP90AKkA9gAHAcUAbQD+/zUASgCI/+T/MQC3/+j/wP9Z//r/r/+m//L/7/8cAE4AnQAbATEAcf8aAHYAJgA5ALL/+v7Y/if/wf9JAIgA0gBHACIAugCUAND/BwDB/yr/ZP9z/+H+P/8vAGUA+wCoAWUB/AADAdX/W//a/1gAqgChAHMARwAHAEUAEwDJ/wcA7f9r/1P/vP+1/0X/Hv9yAKIAF/8s//j+Zv7r/iz/DACkACsB0wCe/+P/fADAANAANwHtAIYAlwD4/n3/Jf9w/nD/i/+S/6//7P8vAFoA0ADeAN8A3f8jAJYALABQACj/Mv8sADcAYwA1AI8ADgGEAGIAEAGPAa8Auv9e/4D/sf4c/tf+ev8P//X++f5x/w==\" type=\"audio/wav\" />\n",
              "                    Your browser does not support the audio element.\n",
              "                </audio>\n",
              "              "
            ]
          },
          "metadata": {},
          "execution_count": 61
        }
      ]
    },
    {
      "cell_type": "code",
      "source": [
        "def label_to_index(word):\n",
        "    # Return the position of the word in labels\n",
        "    return torch.tensor(labels.index(word))\n",
        "\n",
        "\n",
        "def index_to_label(index):\n",
        "    # Return the word corresponding to the index in labels\n",
        "    # This is the inverse of label_to_index\n",
        "    return labels[index]\n",
        "\n",
        "\n",
        "word_start = \"bed\"\n",
        "index = label_to_index(word_start)\n",
        "word_recovered = index_to_label(index)\n",
        "\n",
        "print(word_start, \"-->\", index, \"-->\", word_recovered)"
      ],
      "metadata": {
        "colab": {
          "base_uri": "https://localhost:8080/"
        },
        "id": "TlFB8HhJWV7L",
        "outputId": "782836cd-d68d-4850-99fb-b4d0a502da07"
      },
      "execution_count": null,
      "outputs": [
        {
          "output_type": "stream",
          "name": "stdout",
          "text": [
            "bed --> tensor(1) --> bed\n"
          ]
        }
      ]
    },
    {
      "cell_type": "code",
      "source": [
        "print(\"Shape of waveform: {}\".format(waveform.size()))\n",
        "print(\"Sample rate of waveform: {}\".format(sample_rate))\n",
        "\n",
        "plt.plot(waveform.t().numpy());"
      ],
      "metadata": {
        "colab": {
          "base_uri": "https://localhost:8080/",
          "height": 301
        },
        "id": "7pae5z78Y9Mj",
        "outputId": "7bf97b5a-6113-4794-c073-ca3689406476"
      },
      "execution_count": null,
      "outputs": [
        {
          "output_type": "stream",
          "name": "stdout",
          "text": [
            "Shape of waveform: torch.Size([1, 15019])\n",
            "Sample rate of waveform: 16000\n"
          ]
        },
        {
          "output_type": "display_data",
          "data": {
            "text/plain": [
              "<Figure size 432x288 with 1 Axes>"
            ],
            "image/png": "[encoded data removed]"
          },
          "metadata": {
            "needs_background": "light"
          }
        }
      ]
    },
    {
      "cell_type": "code",
      "metadata": {
        "id": "mAgWaItCkBdK",
        "colab": {
          "base_uri": "https://localhost:8080/",
          "height": 178
        },
        "outputId": "e5a32ca1-2288-47df-e26a-edb65900d099"
      },
      "source": [
        "mfcc = torchaudio.transforms.MFCC(n_mfcc=12, log_mels=True)(waveform)\n",
        "plt.figure()\n",
        "plt.imshow(mfcc[0].detach().numpy())\n",
        "print(mfcc.shape)"
      ],
      "execution_count": null,
      "outputs": [
        {
          "output_type": "stream",
          "name": "stdout",
          "text": [
            "torch.Size([1, 12, 76])\n"
          ]
        },
        {
          "output_type": "stream",
          "name": "stderr",
          "text": [
            "/usr/local/lib/python3.9/dist-packages/torchaudio/functional/functional.py:571: UserWarning: At least one mel filterbank has all zero values. The value for `n_mels` (128) may be set too high. Or, the value for `n_freqs` (201) may be set too low.\n",
            "  warnings.warn(\n"
          ]
        },
        {
          "output_type": "display_data",
          "data": {
            "text/plain": [
              "<Figure size 432x288 with 1 Axes>"
            ],
            "image/png": "[encoded data removed]"
          },
          "metadata": {
            "needs_background": "light"
          }
        }
      ]
    },
    {
      "cell_type": "code",
      "source": [
        "classes = sorted(os.listdir('./SpeechCommands/speech_commands_v0.02'))\n",
        "classes.remove(\"LICENSE\")\n",
        "classes.remove(\"README.md\")\n",
        "classes.remove(\"_background_noise_\")\n",
        "classes.remove(\"testing_list.txt\")\n",
        "classes.remove(\"validation_list.txt\")\n",
        "classes.remove('.DS_Store')"
      ],
      "metadata": {
        "id": "1a0g1VkW4vKk"
      },
      "execution_count": null,
      "outputs": []
    },
    {
      "cell_type": "code",
      "metadata": {
        "id": "16BFbZcPmEUo"
      },
      "source": [
        "class SpeechDataset(torch.utils.data.Dataset):\n",
        "\n",
        "  def __init__(self, classes, file_list):\n",
        "\n",
        "    self.classes = labels\n",
        "\n",
        "    # create a map from class name to integer\n",
        "    self.class_to_int = dict(zip(classes, range(len(classes))))\n",
        "\n",
        "    # store the file names\n",
        "    self.samples = file_list\n",
        "\n",
        "    # store our MFCC transform\n",
        "    self.mfcc_transform = torchaudio.transforms.MFCC(n_mfcc=12, log_mels=True)\n",
        "\n",
        "  def __len__(self):\n",
        "    return len(self.samples)\n",
        "\n",
        "  def __getitem__(self,i):\n",
        "    with torch.no_grad():\n",
        "      # load a normalized waveform\n",
        "      #waveform,_ = torchaudio.load(self.samples[i], normalize=True)\n",
        "      waveform  = self.samples[i][0]\n",
        "      labels  = self.samples[i][2]\n",
        "\n",
        "      # if the waveform is too short (less than 1 second) we pad it with zeroes\n",
        "      if waveform.shape[1] < 16000:\n",
        "        waveform = F.pad(input=waveform, pad=(0, 16000 - waveform.shape[1]), mode='constant', value=0)\n",
        "\n",
        "      # then, we apply the transform\n",
        "      mfcc = self.mfcc_transform(waveform).squeeze(0).transpose(0,1)\n",
        "\n",
        "\n",
        "\n",
        "    # return the mfcc coefficient with the sample label\n",
        "    return mfcc, self.class_to_int[labels]"
      ],
      "execution_count": null,
      "outputs": []
    },
    {
      "cell_type": "code",
      "source": [
        "if device == \"cuda\":\n",
        "    num_workers = 1\n",
        "    pin_memory = True\n",
        "else:\n",
        "    num_workers = 0\n",
        "    pin_memory = False\n",
        "\n",
        "batch_size = 256\n",
        "train_dataset = SpeechDataset(classes,train_set)\n",
        "train_dl = torch.utils.data.DataLoader(\n",
        "    train_dataset,\n",
        "    batch_size=batch_size,\n",
        "    shuffle=True,\n",
        "    num_workers=num_workers\n",
        ")\n",
        "test_dataset = SpeechDataset(classes,test_set)\n",
        "test_dl = torch.utils.data.DataLoader(\n",
        "    test_dataset,\n",
        "    batch_size=batch_size,\n",
        "    shuffle=True,\n",
        "    num_workers=num_workers\n",
        ")"
      ],
      "metadata": {
        "id": "gugFe0tY4MeJ"
      },
      "execution_count": null,
      "outputs": []
    },
    {
      "cell_type": "code",
      "metadata": {
        "id": "b4fzpQlXvlPG"
      },
      "source": [
        "# class SpeechRNN(torch.nn.Module):\n",
        "\n",
        "#   def __init__(self):\n",
        "#     super(SpeechRNN, self).__init__()\n",
        "\n",
        "#     self.lstm = torch.nn.RNN(##YOUR CODE HERE\n",
        "\n",
        "#     self.out_layer = ##YOUR CODE HERE\n",
        "\n",
        "#     self.softmax = torch.nn.LogSoftmax(dim=1)\n",
        "\n",
        "#   def forward(self, x):\n",
        "\n",
        "#     out, _ = self.lstm(x)\n",
        "\n",
        "#     x = self.out_layer(out[:,-1,:])\n",
        "\n",
        "#     return self.softmax(x)\n",
        "\n",
        "#LSTM\n",
        "\n",
        "class SpeechLSTM(torch.nn.Module):\n",
        "\n",
        "  def __init__(self):\n",
        "    super(SpeechLSTM, self).__init__()\n",
        "\n",
        "    self.lstm_size = 400\n",
        "    self.num_layers = 3\n",
        "    self.input_size = 12\n",
        "\n",
        "    self.lstm = torch.nn.LSTM(\n",
        "        input_size=self.input_size, num_layers=self.num_layers, hidden_size=self.lstm_size, batch_first=True, dropout=0.2\n",
        "    )\n",
        "\n",
        "    self.out_layer = torch.nn.Linear(self.lstm_size, 35)\n",
        "\n",
        "  def forward(self, x, prev_state=None):\n",
        "\n",
        "    if prev_state is None:\n",
        "      prev_state = self.init_state(x.size(0))\n",
        "\n",
        "    prev_state = tuple(h.to(x.device) for h in prev_state)\n",
        "    out, state = self.lstm(x, prev_state)\n",
        "\n",
        "    x = self.out_layer(out[:, -1, :])\n",
        "\n",
        "    return F.log_softmax(x, dim=1), state\n",
        "\n",
        "  def init_state(self, batch_size):\n",
        "    return (torch.zeros(self.num_layers, batch_size, self.lstm_size), torch.zeros(self.num_layers, batch_size, self.lstm_size))\n"
      ],
      "execution_count": null,
      "outputs": []
    },
    {
      "cell_type": "code",
      "source": [
        "model = SpeechLSTM()\n",
        "model.to(device)\n",
        "\n",
        "optimizer = torch.optim.Adam(model.parameters(), lr=0.001, weight_decay=0.0001)\n",
        "scheduler = torch.optim.lr_scheduler.StepLR(optimizer, step_size=5, gamma=0.5)  # reduce the learning after 20 epochs by a factor of 10"
      ],
      "metadata": {
        "id": "_UhSHZeo49NE"
      },
      "execution_count": null,
      "outputs": []
    },
    {
      "cell_type": "code",
      "metadata": {
        "id": "IGojns40_47n"
      },
      "source": [
        "# ##RE-RUN THIS CODE TO GET A \"NEW\" NETWORK\n",
        "\n",
        "# LEARNING_RATE = 0.001\n",
        "\n",
        "# ## Create an instance of our network\n",
        "# net = LSTM(labels)\n",
        "\n",
        "# ## Move it to the GPU\n",
        "# net = net.to(device)\n",
        "\n",
        "# # Negative log likelihood loss\n",
        "# criterion = torch.nn.NLLLoss()\n",
        "\n",
        "# # Adam optimizer\n",
        "# optimizer = torch.optim.Adam(net.parameters(), lr=LEARNING_RATE)"
      ],
      "execution_count": null,
      "outputs": []
    },
    {
      "cell_type": "code",
      "source": [
        "# basic random seed\n",
        "import os\n",
        "import random\n",
        "import numpy as np\n",
        "DEFAULT_RANDOM_SEED = 2021\n",
        "def seedBasic(seed=DEFAULT_RANDOM_SEED):\n",
        "    random.seed(seed)\n",
        "    os.environ['PYTHONHASHSEED'] = str(seed)\n",
        "    np.random.seed(seed)\n",
        "# tensorflow random seed\n",
        "import tensorflow as tf\n",
        "def seedTF(seed=DEFAULT_RANDOM_SEED):\n",
        "    tf.random.set_seed(seed)\n",
        "# torch random seed\n",
        "import torch\n",
        "def seedTorch(seed=DEFAULT_RANDOM_SEED):\n",
        "    torch.manual_seed(seed)\n",
        "    torch.cuda.manual_seed(seed)\n",
        "    torch.backends.cudnn.deterministic = True\n",
        "    torch.backends.cudnn.benchmark = False\n",
        "# basic + tensorflow + torch\n",
        "def seedEverything(seed=DEFAULT_RANDOM_SEED):\n",
        "    seedBasic(seed)\n",
        "    seedTF(seed)\n",
        "    seedTorch(seed)\n",
        "    seedEverything(1004)"
      ],
      "metadata": {
        "id": "2RDK51iktmu0"
      },
      "execution_count": null,
      "outputs": []
    },
    {
      "cell_type": "code",
      "source": [
        "from tqdm import tqdm_notebook\n"
      ],
      "metadata": {
        "id": "OK1fEuQRJc0X"
      },
      "execution_count": null,
      "outputs": []
    },
    {
      "cell_type": "code",
      "source": [
        "def train(model, epoch, log_interval):\n",
        "    model.train()\n",
        "    for batch_idx, (data, target) in enumerate(train_dl):\n",
        "\n",
        "        data = data.to(device)\n",
        "        target = target.to(device)\n",
        "        # print(data.shape)\n",
        "\n",
        "        output = model(data)\n",
        "        # print(output.argmax(dim=-1))\n",
        "        # print(target)\n",
        "\n",
        "        # negative log-likelihood for a tensor of size (batch x 1 x n_output)\n",
        "        loss = F.nll_loss(output[0], target)\n",
        "\n",
        "        optimizer.zero_grad()\n",
        "        loss.backward()\n",
        "        optimizer.step()\n",
        "\n",
        "        # print training stats\n",
        "        if batch_idx % log_interval == 0:\n",
        "            print(f\"Train Epoch: {epoch} [{batch_idx * len(data)}/{len(train_dl.dataset)} ({100. * batch_idx / len(train_dl):.2f}%)]\\tLoss: {loss.item():.6f}\")\n",
        "\n",
        "        # update progress bar\n",
        "        pbar.update(pbar_update)\n",
        "        # record loss\n",
        "        losses.append(loss.item())"
      ],
      "metadata": {
        "id": "DQZCDWSz5Mo-"
      },
      "execution_count": null,
      "outputs": []
    },
    {
      "cell_type": "code",
      "source": [
        "def number_of_correct(pred, target):\n",
        "    # count number of correct predictions\n",
        "    return pred.squeeze().eq(target).sum().item()\n",
        "\n",
        "def get_likely_index(tensor):\n",
        "    # find most likely label index for each element in the batch\n",
        "    return tensor.argmax(dim=-1)\n",
        "\n",
        "def test(model, epoch):\n",
        "    model.eval()\n",
        "    correct = 0\n",
        "    for data, target in test_dl:\n",
        "        print(data.size(), target.size())\n",
        "        data = data.to(device)\n",
        "        target = target.to(device)\n",
        "\n",
        "        output = model(data)\n",
        "\n",
        "        pred = get_likely_index(output[0])\n",
        "        correct += number_of_correct(pred, target)\n",
        "\n",
        "        # update progress bar\n",
        "        pbar.update(pbar_update)\n",
        "\n",
        "    print(f\"\\nTest Epoch: {epoch}\\tAccuracy: {correct}/{len(test_dl.dataset)} ({100. * correct / len(test_dl.dataset):.2f}%)\\n{100. * correct / len(test_dl.dataset):.2f}\")"
      ],
      "metadata": {
        "id": "4MFEBEs5R_hq"
      },
      "execution_count": null,
      "outputs": []
    },
    {
      "cell_type": "code",
      "source": [],
      "metadata": {
        "id": "2GGEEnSZuQ1K"
      },
      "execution_count": null,
      "outputs": []
    },
    {
      "cell_type": "code",
      "source": [
        "log_interval = 20\n",
        "n_epoch = 20\n",
        "\n",
        "pbar_update = 1 / (len(train_dl) + len(test_dl))\n",
        "losses = []\n",
        "\n",
        "with tqdm(total=n_epoch) as pbar:\n",
        "    for epoch in range(1, n_epoch + 1):\n",
        "        train(model, epoch, log_interval)\n",
        "        # test(model, epoch)\n",
        "        scheduler.step()"
      ],
      "metadata": {
        "colab": {
          "base_uri": "https://localhost:8080/"
        },
        "id": "ynFNSd7X5bLi",
        "outputId": "6e5b2c97-9eb1-4ea5-f705-5aaa2a3333f3"
      },
      "execution_count": null,
      "outputs": [
        {
          "output_type": "stream",
          "name": "stderr",
          "text": [
            "  0%|          | 0.03508771929824561/20 [00:00<04:15, 12.79s/it] "
          ]
        },
        {
          "output_type": "stream",
          "name": "stdout",
          "text": [
            "Train Epoch: 1 [0/12000 (0.00%)]\tLoss: 3.559900\n"
          ]
        },
        {
          "output_type": "stream",
          "name": "stderr",
          "text": [
            "  2%|▏         | 0.38596491228070173/20 [00:06<05:05, 15.60s/it]"
          ]
        },
        {
          "output_type": "stream",
          "name": "stdout",
          "text": [
            "Train Epoch: 1 [5120/12000 (42.55%)]\tLoss: 3.041776\n"
          ]
        },
        {
          "output_type": "stream",
          "name": "stderr",
          "text": [
            "  4%|▎         | 0.7368421052631586/20 [00:12<05:00, 15.61s/it]"
          ]
        },
        {
          "output_type": "stream",
          "name": "stdout",
          "text": [
            "Train Epoch: 1 [10240/12000 (85.11%)]\tLoss: 2.654071\n"
          ]
        },
        {
          "output_type": "stream",
          "name": "stderr",
          "text": [
            "  4%|▍         | 0.8421052631578958/20 [00:14<06:04, 19.01s/it]"
          ]
        },
        {
          "output_type": "stream",
          "name": "stdout",
          "text": [
            "Train Epoch: 2 [0/12000 (0.00%)]\tLoss: 2.585178\n"
          ]
        },
        {
          "output_type": "stream",
          "name": "stderr",
          "text": [
            "  6%|▌         | 1.210526315789476/20 [00:20<04:48, 15.38s/it]"
          ]
        },
        {
          "output_type": "stream",
          "name": "stdout",
          "text": [
            "Train Epoch: 2 [5120/12000 (42.55%)]\tLoss: 2.332406\n"
          ]
        },
        {
          "output_type": "stream",
          "name": "stderr",
          "text": [
            "  8%|▊         | 1.5614035087719331/20 [00:26<04:43, 15.37s/it]"
          ]
        },
        {
          "output_type": "stream",
          "name": "stdout",
          "text": [
            "Train Epoch: 2 [10240/12000 (85.11%)]\tLoss: 2.211079\n"
          ]
        },
        {
          "output_type": "stream",
          "name": "stderr",
          "text": [
            "  8%|▊         | 1.6842105263157932/20 [00:28<05:24, 17.72s/it]"
          ]
        },
        {
          "output_type": "stream",
          "name": "stdout",
          "text": [
            "Train Epoch: 3 [0/12000 (0.00%)]\tLoss: 2.126632\n"
          ]
        },
        {
          "output_type": "stream",
          "name": "stderr",
          "text": [
            " 10%|█         | 2.03508771929825/20 [00:34<04:28, 14.94s/it]  "
          ]
        },
        {
          "output_type": "stream",
          "name": "stdout",
          "text": [
            "Train Epoch: 3 [5120/12000 (42.55%)]\tLoss: 2.001025\n"
          ]
        },
        {
          "output_type": "stream",
          "name": "stderr",
          "text": [
            " 12%|█▏        | 2.3859649122807074/20 [00:39<04:41, 15.98s/it]"
          ]
        },
        {
          "output_type": "stream",
          "name": "stdout",
          "text": [
            "Train Epoch: 3 [10240/12000 (85.11%)]\tLoss: 1.472986\n"
          ]
        },
        {
          "output_type": "stream",
          "name": "stderr",
          "text": [
            " 12%|█▏        | 2.4912280701754446/20 [00:41<05:48, 19.90s/it]"
          ]
        },
        {
          "output_type": "stream",
          "name": "stdout",
          "text": [
            "Train Epoch: 4 [0/12000 (0.00%)]\tLoss: 1.279872\n"
          ]
        },
        {
          "output_type": "stream",
          "name": "stderr",
          "text": [
            " 14%|█▍        | 2.8596491228070247/20 [00:47<04:13, 14.77s/it]"
          ]
        },
        {
          "output_type": "stream",
          "name": "stdout",
          "text": [
            "Train Epoch: 4 [5120/12000 (42.55%)]\tLoss: 1.221580\n"
          ]
        },
        {
          "output_type": "stream",
          "name": "stderr",
          "text": [
            " 16%|█▌        | 3.210526315789482/20 [00:52<04:42, 16.81s/it]"
          ]
        },
        {
          "output_type": "stream",
          "name": "stdout",
          "text": [
            "Train Epoch: 4 [10240/12000 (85.11%)]\tLoss: 0.964012\n"
          ]
        },
        {
          "output_type": "stream",
          "name": "stderr",
          "text": [
            " 17%|█▋        | 3.333333333333342/20 [00:55<04:20, 15.64s/it]"
          ]
        },
        {
          "output_type": "stream",
          "name": "stdout",
          "text": [
            "Train Epoch: 5 [0/12000 (0.00%)]\tLoss: 1.043954\n"
          ]
        },
        {
          "output_type": "stream",
          "name": "stderr",
          "text": [
            " 18%|█▊        | 3.684210526315799/20 [01:00<04:00, 14.72s/it] "
          ]
        },
        {
          "output_type": "stream",
          "name": "stdout",
          "text": [
            "Train Epoch: 5 [5120/12000 (42.55%)]\tLoss: 0.971095\n"
          ]
        },
        {
          "output_type": "stream",
          "name": "stderr",
          "text": [
            " 20%|██        | 4.017543859649133/20 [01:06<05:23, 20.25s/it]"
          ]
        },
        {
          "output_type": "stream",
          "name": "stdout",
          "text": [
            "Train Epoch: 5 [10240/12000 (85.11%)]\tLoss: 0.790459\n"
          ]
        },
        {
          "output_type": "stream",
          "name": "stderr",
          "text": [
            " 21%|██        | 4.157894736842112/20 [01:08<04:04, 15.41s/it]"
          ]
        },
        {
          "output_type": "stream",
          "name": "stdout",
          "text": [
            "Train Epoch: 6 [0/12000 (0.00%)]\tLoss: 0.916900\n"
          ]
        },
        {
          "output_type": "stream",
          "name": "stderr",
          "text": [
            " 23%|██▎       | 4.508771929824561/20 [01:13<03:49, 14.78s/it]"
          ]
        },
        {
          "output_type": "stream",
          "name": "stdout",
          "text": [
            "Train Epoch: 6 [5120/12000 (42.55%)]\tLoss: 0.573263\n"
          ]
        },
        {
          "output_type": "stream",
          "name": "stderr",
          "text": [
            " 24%|██▍       | 4.842105263157887/20 [01:19<05:10, 20.47s/it]"
          ]
        },
        {
          "output_type": "stream",
          "name": "stdout",
          "text": [
            "Train Epoch: 6 [10240/12000 (85.11%)]\tLoss: 0.609618\n"
          ]
        },
        {
          "output_type": "stream",
          "name": "stderr",
          "text": [
            " 25%|██▍       | 4.982456140350866/20 [01:21<03:50, 15.36s/it]"
          ]
        },
        {
          "output_type": "stream",
          "name": "stdout",
          "text": [
            "Train Epoch: 7 [0/12000 (0.00%)]\tLoss: 0.714707\n"
          ]
        },
        {
          "output_type": "stream",
          "name": "stderr",
          "text": [
            " 27%|██▋       | 5.333333333333314/20 [01:27<03:39, 14.94s/it]"
          ]
        },
        {
          "output_type": "stream",
          "name": "stdout",
          "text": [
            "Train Epoch: 7 [5120/12000 (42.55%)]\tLoss: 0.478189\n"
          ]
        },
        {
          "output_type": "stream",
          "name": "stderr",
          "text": [
            " 28%|██▊       | 5.684210526315763/20 [01:33<03:55, 16.43s/it]"
          ]
        },
        {
          "output_type": "stream",
          "name": "stdout",
          "text": [
            "Train Epoch: 7 [10240/12000 (85.11%)]\tLoss: 0.444935\n"
          ]
        },
        {
          "output_type": "stream",
          "name": "stderr",
          "text": [
            " 29%|██▉       | 5.80701754385962/20 [01:35<03:25, 14.49s/it] "
          ]
        },
        {
          "output_type": "stream",
          "name": "stdout",
          "text": [
            "Train Epoch: 8 [0/12000 (0.00%)]\tLoss: 0.443602\n"
          ]
        },
        {
          "output_type": "stream",
          "name": "stderr",
          "text": [
            " 31%|███       | 6.157894736842068/20 [01:40<03:25, 14.84s/it]"
          ]
        },
        {
          "output_type": "stream",
          "name": "stdout",
          "text": [
            "Train Epoch: 8 [5120/12000 (42.55%)]\tLoss: 0.463097\n"
          ]
        },
        {
          "output_type": "stream",
          "name": "stderr",
          "text": [
            " 33%|███▎      | 6.508771929824516/20 [01:46<03:34, 15.93s/it]"
          ]
        },
        {
          "output_type": "stream",
          "name": "stdout",
          "text": [
            "Train Epoch: 8 [10240/12000 (85.11%)]\tLoss: 0.560665\n"
          ]
        },
        {
          "output_type": "stream",
          "name": "stderr",
          "text": [
            " 33%|███▎      | 6.631578947368373/20 [01:48<03:15, 14.65s/it]"
          ]
        },
        {
          "output_type": "stream",
          "name": "stdout",
          "text": [
            "Train Epoch: 9 [0/12000 (0.00%)]\tLoss: 0.339390\n"
          ]
        },
        {
          "output_type": "stream",
          "name": "stderr",
          "text": [
            " 35%|███▍      | 6.982456140350822/20 [01:53<03:20, 15.38s/it]"
          ]
        },
        {
          "output_type": "stream",
          "name": "stdout",
          "text": [
            "Train Epoch: 9 [5120/12000 (42.55%)]\tLoss: 0.504176\n"
          ]
        },
        {
          "output_type": "stream",
          "name": "stderr",
          "text": [
            " 37%|███▋      | 7.33333333333327/20 [01:59<03:21, 15.92s/it] "
          ]
        },
        {
          "output_type": "stream",
          "name": "stdout",
          "text": [
            "Train Epoch: 9 [10240/12000 (85.11%)]\tLoss: 0.348879\n"
          ]
        },
        {
          "output_type": "stream",
          "name": "stderr",
          "text": [
            " 37%|███▋      | 7.456140350877127/20 [02:01<03:05, 14.80s/it] "
          ]
        },
        {
          "output_type": "stream",
          "name": "stdout",
          "text": [
            "Train Epoch: 10 [0/12000 (0.00%)]\tLoss: 0.303301\n"
          ]
        },
        {
          "output_type": "stream",
          "name": "stderr",
          "text": [
            " 39%|███▉      | 7.807017543859575/20 [02:07<02:58, 14.67s/it]"
          ]
        },
        {
          "output_type": "stream",
          "name": "stdout",
          "text": [
            "Train Epoch: 10 [5120/12000 (42.55%)]\tLoss: 0.337361\n"
          ]
        },
        {
          "output_type": "stream",
          "name": "stderr",
          "text": [
            " 41%|████      | 8.157894736842032/20 [02:13<02:56, 14.94s/it]"
          ]
        },
        {
          "output_type": "stream",
          "name": "stdout",
          "text": [
            "Train Epoch: 10 [10240/12000 (85.11%)]\tLoss: 0.321246\n"
          ]
        },
        {
          "output_type": "stream",
          "name": "stderr",
          "text": [
            " 41%|████▏     | 8.280701754385895/20 [02:14<02:46, 14.24s/it]"
          ]
        },
        {
          "output_type": "stream",
          "name": "stdout",
          "text": [
            "Train Epoch: 11 [0/12000 (0.00%)]\tLoss: 0.370865\n"
          ]
        },
        {
          "output_type": "stream",
          "name": "stderr",
          "text": [
            " 43%|████▎     | 8.63157894736836/20 [02:20<02:49, 14.94s/it] "
          ]
        },
        {
          "output_type": "stream",
          "name": "stdout",
          "text": [
            "Train Epoch: 11 [5120/12000 (42.55%)]\tLoss: 0.326281\n"
          ]
        },
        {
          "output_type": "stream",
          "name": "stderr",
          "text": [
            " 45%|████▍     | 8.982456140350827/20 [02:26<02:48, 15.31s/it]"
          ]
        },
        {
          "output_type": "stream",
          "name": "stdout",
          "text": [
            "Train Epoch: 11 [10240/12000 (85.11%)]\tLoss: 0.341291\n"
          ]
        },
        {
          "output_type": "stream",
          "name": "stderr",
          "text": [
            " 46%|████▌     | 9.10526315789469/20 [02:28<02:39, 14.63s/it] "
          ]
        },
        {
          "output_type": "stream",
          "name": "stdout",
          "text": [
            "Train Epoch: 12 [0/12000 (0.00%)]\tLoss: 0.250931\n"
          ]
        },
        {
          "output_type": "stream",
          "name": "stderr",
          "text": [
            " 47%|████▋     | 9.456140350877156/20 [02:33<02:52, 16.37s/it]"
          ]
        },
        {
          "output_type": "stream",
          "name": "stdout",
          "text": [
            "Train Epoch: 12 [5120/12000 (42.55%)]\tLoss: 0.282296\n"
          ]
        },
        {
          "output_type": "stream",
          "name": "stderr",
          "text": [
            " 49%|████▉     | 9.807017543859622/20 [02:39<02:30, 14.78s/it]"
          ]
        },
        {
          "output_type": "stream",
          "name": "stdout",
          "text": [
            "Train Epoch: 12 [10240/12000 (85.11%)]\tLoss: 0.220882\n"
          ]
        },
        {
          "output_type": "stream",
          "name": "stderr",
          "text": [
            " 50%|████▉     | 9.929824561403485/20 [02:41<02:25, 14.41s/it]"
          ]
        },
        {
          "output_type": "stream",
          "name": "stdout",
          "text": [
            "Train Epoch: 13 [0/12000 (0.00%)]\tLoss: 0.165462\n"
          ]
        },
        {
          "output_type": "stream",
          "name": "stderr",
          "text": [
            " 51%|█████▏    | 10.280701754385952/20 [02:46<02:44, 16.96s/it]"
          ]
        },
        {
          "output_type": "stream",
          "name": "stdout",
          "text": [
            "Train Epoch: 13 [5120/12000 (42.55%)]\tLoss: 0.208853\n"
          ]
        },
        {
          "output_type": "stream",
          "name": "stderr",
          "text": [
            " 53%|█████▎    | 10.631578947368418/20 [02:52<02:19, 14.90s/it]"
          ]
        },
        {
          "output_type": "stream",
          "name": "stdout",
          "text": [
            "Train Epoch: 13 [10240/12000 (85.11%)]\tLoss: 0.213524\n"
          ]
        },
        {
          "output_type": "stream",
          "name": "stderr",
          "text": [
            " 54%|█████▍    | 10.75438596491228/20 [02:54<02:11, 14.24s/it] "
          ]
        },
        {
          "output_type": "stream",
          "name": "stdout",
          "text": [
            "Train Epoch: 14 [0/12000 (0.00%)]\tLoss: 0.180780\n"
          ]
        },
        {
          "output_type": "stream",
          "name": "stderr",
          "text": [
            " 56%|█████▌    | 11.105263157894747/20 [03:00<02:34, 17.36s/it]"
          ]
        },
        {
          "output_type": "stream",
          "name": "stdout",
          "text": [
            "Train Epoch: 14 [5120/12000 (42.55%)]\tLoss: 0.231839\n"
          ]
        },
        {
          "output_type": "stream",
          "name": "stderr",
          "text": [
            " 57%|█████▋    | 11.456140350877213/20 [03:05<02:03, 14.49s/it]"
          ]
        },
        {
          "output_type": "stream",
          "name": "stdout",
          "text": [
            "Train Epoch: 14 [10240/12000 (85.11%)]\tLoss: 0.208527\n"
          ]
        },
        {
          "output_type": "stream",
          "name": "stderr",
          "text": [
            " 58%|█████▊    | 11.578947368421076/20 [03:07<02:01, 14.40s/it]"
          ]
        },
        {
          "output_type": "stream",
          "name": "stdout",
          "text": [
            "Train Epoch: 15 [0/12000 (0.00%)]\tLoss: 0.186157\n"
          ]
        },
        {
          "output_type": "stream",
          "name": "stderr",
          "text": [
            " 60%|█████▉    | 11.929824561403542/20 [03:13<02:22, 17.72s/it]"
          ]
        },
        {
          "output_type": "stream",
          "name": "stdout",
          "text": [
            "Train Epoch: 15 [5120/12000 (42.55%)]\tLoss: 0.107282\n"
          ]
        },
        {
          "output_type": "stream",
          "name": "stderr",
          "text": [
            " 61%|██████▏   | 12.280701754386008/20 [03:19<01:54, 14.88s/it]"
          ]
        },
        {
          "output_type": "stream",
          "name": "stdout",
          "text": [
            "Train Epoch: 15 [10240/12000 (85.11%)]\tLoss: 0.127729\n"
          ]
        },
        {
          "output_type": "stream",
          "name": "stderr",
          "text": [
            " 62%|██████▏   | 12.403508771929872/20 [03:21<01:49, 14.43s/it]"
          ]
        },
        {
          "output_type": "stream",
          "name": "stdout",
          "text": [
            "Train Epoch: 16 [0/12000 (0.00%)]\tLoss: 0.131717\n"
          ]
        },
        {
          "output_type": "stream",
          "name": "stderr",
          "text": [
            " 64%|██████▍   | 12.754385964912338/20 [03:27<01:57, 16.23s/it]"
          ]
        },
        {
          "output_type": "stream",
          "name": "stdout",
          "text": [
            "Train Epoch: 16 [5120/12000 (42.55%)]\tLoss: 0.156967\n"
          ]
        },
        {
          "output_type": "stream",
          "name": "stderr",
          "text": [
            " 66%|██████▌   | 13.105263157894804/20 [03:32<01:40, 14.59s/it]"
          ]
        },
        {
          "output_type": "stream",
          "name": "stdout",
          "text": [
            "Train Epoch: 16 [10240/12000 (85.11%)]\tLoss: 0.145671\n"
          ]
        },
        {
          "output_type": "stream",
          "name": "stderr",
          "text": [
            " 66%|██████▌   | 13.228070175438667/20 [03:34<01:39, 14.75s/it]"
          ]
        },
        {
          "output_type": "stream",
          "name": "stdout",
          "text": [
            "Train Epoch: 17 [0/12000 (0.00%)]\tLoss: 0.115074\n"
          ]
        },
        {
          "output_type": "stream",
          "name": "stderr",
          "text": [
            " 68%|██████▊   | 13.578947368421133/20 [03:40<01:38, 15.30s/it]"
          ]
        },
        {
          "output_type": "stream",
          "name": "stdout",
          "text": [
            "Train Epoch: 17 [5120/12000 (42.55%)]\tLoss: 0.142860\n"
          ]
        },
        {
          "output_type": "stream",
          "name": "stderr",
          "text": [
            " 70%|██████▉   | 13.9298245614036/20 [03:45<01:29, 14.68s/it]  "
          ]
        },
        {
          "output_type": "stream",
          "name": "stdout",
          "text": [
            "Train Epoch: 17 [10240/12000 (85.11%)]\tLoss: 0.124340\n"
          ]
        },
        {
          "output_type": "stream",
          "name": "stderr",
          "text": [
            " 70%|███████   | 14.052631578947462/20 [03:47<01:24, 14.17s/it]"
          ]
        },
        {
          "output_type": "stream",
          "name": "stdout",
          "text": [
            "Train Epoch: 18 [0/12000 (0.00%)]\tLoss: 0.102302\n"
          ]
        },
        {
          "output_type": "stream",
          "name": "stderr",
          "text": [
            " 72%|███████▏  | 14.403508771929928/20 [03:53<01:22, 14.72s/it]"
          ]
        },
        {
          "output_type": "stream",
          "name": "stdout",
          "text": [
            "Train Epoch: 18 [5120/12000 (42.55%)]\tLoss: 0.167539\n"
          ]
        },
        {
          "output_type": "stream",
          "name": "stderr",
          "text": [
            " 74%|███████▍  | 14.754385964912395/20 [03:58<01:17, 14.82s/it]"
          ]
        },
        {
          "output_type": "stream",
          "name": "stdout",
          "text": [
            "Train Epoch: 18 [10240/12000 (85.11%)]\tLoss: 0.130094\n"
          ]
        },
        {
          "output_type": "stream",
          "name": "stderr",
          "text": [
            " 74%|███████▍  | 14.877192982456258/20 [04:00<01:13, 14.32s/it]"
          ]
        },
        {
          "output_type": "stream",
          "name": "stdout",
          "text": [
            "Train Epoch: 19 [0/12000 (0.00%)]\tLoss: 0.090513\n"
          ]
        },
        {
          "output_type": "stream",
          "name": "stderr",
          "text": [
            " 76%|███████▌  | 15.228070175438724/20 [04:06<01:09, 14.64s/it]"
          ]
        },
        {
          "output_type": "stream",
          "name": "stdout",
          "text": [
            "Train Epoch: 19 [5120/12000 (42.55%)]\tLoss: 0.135047\n"
          ]
        },
        {
          "output_type": "stream",
          "name": "stderr",
          "text": [
            " 78%|███████▊  | 15.57894736842119/20 [04:11<01:05, 14.85s/it] "
          ]
        },
        {
          "output_type": "stream",
          "name": "stdout",
          "text": [
            "Train Epoch: 19 [10240/12000 (85.11%)]\tLoss: 0.113179\n"
          ]
        },
        {
          "output_type": "stream",
          "name": "stderr",
          "text": [
            " 79%|███████▊  | 15.701754385965053/20 [04:13<01:01, 14.41s/it]"
          ]
        },
        {
          "output_type": "stream",
          "name": "stdout",
          "text": [
            "Train Epoch: 20 [0/12000 (0.00%)]\tLoss: 0.092197\n"
          ]
        },
        {
          "output_type": "stream",
          "name": "stderr",
          "text": [
            " 80%|████████  | 16.05263157894752/20 [04:19<00:59, 14.96s/it] "
          ]
        },
        {
          "output_type": "stream",
          "name": "stdout",
          "text": [
            "Train Epoch: 20 [5120/12000 (42.55%)]\tLoss: 0.088832\n"
          ]
        },
        {
          "output_type": "stream",
          "name": "stderr",
          "text": [
            " 82%|████████▏ | 16.403508771929985/20 [04:24<00:54, 15.21s/it]"
          ]
        },
        {
          "output_type": "stream",
          "name": "stdout",
          "text": [
            "Train Epoch: 20 [10240/12000 (85.11%)]\tLoss: 0.087186\n"
          ]
        },
        {
          "output_type": "stream",
          "name": "stderr",
          "text": [
            " 82%|████████▏ | 16.4912280701756/20 [04:26<00:56, 16.16s/it]\n"
          ]
        }
      ]
    },
    {
      "cell_type": "code",
      "source": [
        "test(model, 0)"
      ],
      "metadata": {
        "id": "-QLXf8msi9a0",
        "outputId": "bd8c29cf-b691-415b-bb16-99e72b8a7d1f",
        "colab": {
          "base_uri": "https://localhost:8080/"
        }
      },
      "execution_count": null,
      "outputs": [
        {
          "output_type": "stream",
          "name": "stdout",
          "text": [
            "torch.Size([256, 81, 12]) torch.Size([256])\n",
            "torch.Size([256, 81, 12]) torch.Size([256])\n",
            "torch.Size([256, 81, 12]) torch.Size([256])\n",
            "torch.Size([256, 81, 12]) torch.Size([256])\n",
            "torch.Size([256, 81, 12]) torch.Size([256])\n",
            "torch.Size([256, 81, 12]) torch.Size([256])\n",
            "torch.Size([256, 81, 12]) torch.Size([256])\n",
            "torch.Size([256, 81, 12]) torch.Size([256])\n",
            "torch.Size([256, 81, 12]) torch.Size([256])\n",
            "torch.Size([106, 81, 12]) torch.Size([106])\n",
            "\n",
            "Test Epoch: 0\tAccuracy: 2092/2410 (86.80%)\n",
            "86.80\n"
          ]
        }
      ]
    },
    {
      "cell_type": "code",
      "source": [
        "\n",
        "# test(model, 20)#----------------------------------------import pickle\n",
        "# with open('blind.pkl', 'rb') as f:\n",
        "#   blind = pickle.load(f)\n",
        "#   blind_set = [testing_list[i] for i in blind]"
      ],
      "metadata": {
        "id": "cS3x8OKZi_px"
      },
      "execution_count": null,
      "outputs": []
    }
  ]
}